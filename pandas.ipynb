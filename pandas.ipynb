{
 "cells": [
  {
   "cell_type": "code",
   "execution_count": 1,
   "id": "25542497-efad-4b64-891b-e9b7214e2bcc",
   "metadata": {},
   "outputs": [],
   "source": [
    "import pandas as pd\n",
    "import numpy as np"
   ]
  },
  {
   "cell_type": "code",
   "execution_count": 2,
   "id": "bbd1a56d-f1f8-4cd4-973a-a8f6747e1ff1",
   "metadata": {},
   "outputs": [
    {
     "data": {
      "text/plain": [
       "'2.1.4'"
      ]
     },
     "execution_count": 2,
     "metadata": {},
     "output_type": "execute_result"
    }
   ],
   "source": [
    "pd.__version__"
   ]
  },
  {
   "cell_type": "code",
   "execution_count": 3,
   "id": "1a181a56-7b73-4674-9b53-c05824912c20",
   "metadata": {},
   "outputs": [],
   "source": [
    "dataurl ='https://andybek.com/pandas-nutrition'"
   ]
  },
  {
   "cell_type": "code",
   "execution_count": 4,
   "id": "f1f08eb9-4c39-42a5-9ce2-c4426fe8272a",
   "metadata": {},
   "outputs": [],
   "source": [
    "nutrition = pd.read_csv(dataurl, index_col= 0)"
   ]
  },
  {
   "cell_type": "code",
   "execution_count": 5,
   "id": "b104be95-bdf5-4816-9e6e-e12e921b56d2",
   "metadata": {},
   "outputs": [
    {
     "data": {
      "text/html": [
       "<div>\n",
       "<style scoped>\n",
       "    .dataframe tbody tr th:only-of-type {\n",
       "        vertical-align: middle;\n",
       "    }\n",
       "\n",
       "    .dataframe tbody tr th {\n",
       "        vertical-align: top;\n",
       "    }\n",
       "\n",
       "    .dataframe thead th {\n",
       "        text-align: right;\n",
       "    }\n",
       "</style>\n",
       "<table border=\"1\" class=\"dataframe\">\n",
       "  <thead>\n",
       "    <tr style=\"text-align: right;\">\n",
       "      <th></th>\n",
       "      <th>name</th>\n",
       "      <th>serving_size</th>\n",
       "      <th>calories</th>\n",
       "      <th>total_fat</th>\n",
       "      <th>saturated_fat</th>\n",
       "      <th>cholesterol</th>\n",
       "      <th>sodium</th>\n",
       "      <th>choline</th>\n",
       "      <th>folate</th>\n",
       "      <th>folic_acid</th>\n",
       "      <th>...</th>\n",
       "      <th>fat</th>\n",
       "      <th>saturated_fatty_acids</th>\n",
       "      <th>monounsaturated_fatty_acids</th>\n",
       "      <th>polyunsaturated_fatty_acids</th>\n",
       "      <th>fatty_acids_total_trans</th>\n",
       "      <th>alcohol</th>\n",
       "      <th>ash</th>\n",
       "      <th>caffeine</th>\n",
       "      <th>theobromine</th>\n",
       "      <th>water</th>\n",
       "    </tr>\n",
       "  </thead>\n",
       "  <tbody>\n",
       "    <tr>\n",
       "      <th>0</th>\n",
       "      <td>Cornstarch</td>\n",
       "      <td>100 g</td>\n",
       "      <td>381</td>\n",
       "      <td>0.1g</td>\n",
       "      <td>NaN</td>\n",
       "      <td>0</td>\n",
       "      <td>9.00 mg</td>\n",
       "      <td>0.4 mg</td>\n",
       "      <td>0.00 mcg</td>\n",
       "      <td>0.00 mcg</td>\n",
       "      <td>...</td>\n",
       "      <td>0.05 g</td>\n",
       "      <td>0.009 g</td>\n",
       "      <td>0.016 g</td>\n",
       "      <td>0.025 g</td>\n",
       "      <td>0.00 mg</td>\n",
       "      <td>0.0 g</td>\n",
       "      <td>0.09 g</td>\n",
       "      <td>0.00 mg</td>\n",
       "      <td>0.00 mg</td>\n",
       "      <td>8.32 g</td>\n",
       "    </tr>\n",
       "    <tr>\n",
       "      <th>1</th>\n",
       "      <td>Nuts, pecans</td>\n",
       "      <td>100 g</td>\n",
       "      <td>691</td>\n",
       "      <td>72g</td>\n",
       "      <td>6.2g</td>\n",
       "      <td>0</td>\n",
       "      <td>0.00 mg</td>\n",
       "      <td>40.5 mg</td>\n",
       "      <td>22.00 mcg</td>\n",
       "      <td>0.00 mcg</td>\n",
       "      <td>...</td>\n",
       "      <td>71.97 g</td>\n",
       "      <td>6.180 g</td>\n",
       "      <td>40.801 g</td>\n",
       "      <td>21.614 g</td>\n",
       "      <td>0.00 mg</td>\n",
       "      <td>0.0 g</td>\n",
       "      <td>1.49 g</td>\n",
       "      <td>0.00 mg</td>\n",
       "      <td>0.00 mg</td>\n",
       "      <td>3.52 g</td>\n",
       "    </tr>\n",
       "    <tr>\n",
       "      <th>2</th>\n",
       "      <td>Eggplant, raw</td>\n",
       "      <td>100 g</td>\n",
       "      <td>25</td>\n",
       "      <td>0.2g</td>\n",
       "      <td>NaN</td>\n",
       "      <td>0</td>\n",
       "      <td>2.00 mg</td>\n",
       "      <td>6.9 mg</td>\n",
       "      <td>22.00 mcg</td>\n",
       "      <td>0.00 mcg</td>\n",
       "      <td>...</td>\n",
       "      <td>0.18 g</td>\n",
       "      <td>0.034 g</td>\n",
       "      <td>0.016 g</td>\n",
       "      <td>0.076 g</td>\n",
       "      <td>0.00 mg</td>\n",
       "      <td>0.0 g</td>\n",
       "      <td>0.66 g</td>\n",
       "      <td>0.00 mg</td>\n",
       "      <td>0.00 mg</td>\n",
       "      <td>92.30 g</td>\n",
       "    </tr>\n",
       "    <tr>\n",
       "      <th>3</th>\n",
       "      <td>Teff, uncooked</td>\n",
       "      <td>100 g</td>\n",
       "      <td>367</td>\n",
       "      <td>2.4g</td>\n",
       "      <td>0.4g</td>\n",
       "      <td>0</td>\n",
       "      <td>12.00 mg</td>\n",
       "      <td>13.1 mg</td>\n",
       "      <td>0</td>\n",
       "      <td>0</td>\n",
       "      <td>...</td>\n",
       "      <td>2.38 g</td>\n",
       "      <td>0.449 g</td>\n",
       "      <td>0.589 g</td>\n",
       "      <td>1.071 g</td>\n",
       "      <td>0</td>\n",
       "      <td>0</td>\n",
       "      <td>2.37 g</td>\n",
       "      <td>0</td>\n",
       "      <td>0</td>\n",
       "      <td>8.82 g</td>\n",
       "    </tr>\n",
       "    <tr>\n",
       "      <th>4</th>\n",
       "      <td>Sherbet, orange</td>\n",
       "      <td>100 g</td>\n",
       "      <td>144</td>\n",
       "      <td>2g</td>\n",
       "      <td>1.2g</td>\n",
       "      <td>1mg</td>\n",
       "      <td>46.00 mg</td>\n",
       "      <td>7.7 mg</td>\n",
       "      <td>4.00 mcg</td>\n",
       "      <td>0.00 mcg</td>\n",
       "      <td>...</td>\n",
       "      <td>2.00 g</td>\n",
       "      <td>1.160 g</td>\n",
       "      <td>0.530 g</td>\n",
       "      <td>0.080 g</td>\n",
       "      <td>1.00 mg</td>\n",
       "      <td>0.0 g</td>\n",
       "      <td>0.40 g</td>\n",
       "      <td>0.00 mg</td>\n",
       "      <td>0.00 mg</td>\n",
       "      <td>66.10 g</td>\n",
       "    </tr>\n",
       "    <tr>\n",
       "      <th>5</th>\n",
       "      <td>Cauliflower, raw</td>\n",
       "      <td>100 g</td>\n",
       "      <td>25</td>\n",
       "      <td>0.3g</td>\n",
       "      <td>0.1g</td>\n",
       "      <td>0</td>\n",
       "      <td>30.00 mg</td>\n",
       "      <td>44.3 mg</td>\n",
       "      <td>57.00 mcg</td>\n",
       "      <td>0.00 mcg</td>\n",
       "      <td>...</td>\n",
       "      <td>0.28 g</td>\n",
       "      <td>0.130 g</td>\n",
       "      <td>0.034 g</td>\n",
       "      <td>0.031 g</td>\n",
       "      <td>0.00 mg</td>\n",
       "      <td>0.0 g</td>\n",
       "      <td>0.76 g</td>\n",
       "      <td>0.00 mg</td>\n",
       "      <td>0.00 mg</td>\n",
       "      <td>92.07 g</td>\n",
       "    </tr>\n",
       "    <tr>\n",
       "      <th>6</th>\n",
       "      <td>Taro leaves, raw</td>\n",
       "      <td>100 g</td>\n",
       "      <td>42</td>\n",
       "      <td>0.7g</td>\n",
       "      <td>0.2g</td>\n",
       "      <td>0</td>\n",
       "      <td>3.00 mg</td>\n",
       "      <td>12.8 mg</td>\n",
       "      <td>126.00 mcg</td>\n",
       "      <td>0.00 mcg</td>\n",
       "      <td>...</td>\n",
       "      <td>0.74 g</td>\n",
       "      <td>0.151 g</td>\n",
       "      <td>0.060 g</td>\n",
       "      <td>0.307 g</td>\n",
       "      <td>0.00 mg</td>\n",
       "      <td>0.0 g</td>\n",
       "      <td>1.92 g</td>\n",
       "      <td>0.00 mg</td>\n",
       "      <td>0.00 mg</td>\n",
       "      <td>85.66 g</td>\n",
       "    </tr>\n",
       "    <tr>\n",
       "      <th>7</th>\n",
       "      <td>Lamb, raw, ground</td>\n",
       "      <td>100 g</td>\n",
       "      <td>282</td>\n",
       "      <td>23g</td>\n",
       "      <td>10g</td>\n",
       "      <td>73mg</td>\n",
       "      <td>59.00 mg</td>\n",
       "      <td>69.3 mg</td>\n",
       "      <td>18.00 mcg</td>\n",
       "      <td>0.00 mcg</td>\n",
       "      <td>...</td>\n",
       "      <td>23.41 g</td>\n",
       "      <td>10.190 g</td>\n",
       "      <td>9.600 g</td>\n",
       "      <td>1.850 g</td>\n",
       "      <td>73.00 mg</td>\n",
       "      <td>0.0 g</td>\n",
       "      <td>0.87 g</td>\n",
       "      <td>0.00 mg</td>\n",
       "      <td>0.00 mg</td>\n",
       "      <td>59.47 g</td>\n",
       "    </tr>\n",
       "    <tr>\n",
       "      <th>8</th>\n",
       "      <td>Cheese, camembert</td>\n",
       "      <td>100 g</td>\n",
       "      <td>300</td>\n",
       "      <td>24g</td>\n",
       "      <td>15g</td>\n",
       "      <td>72mg</td>\n",
       "      <td>842.00 mg</td>\n",
       "      <td>15.4 mg</td>\n",
       "      <td>62.00 mcg</td>\n",
       "      <td>0.00 mcg</td>\n",
       "      <td>...</td>\n",
       "      <td>24.26 g</td>\n",
       "      <td>15.259 g</td>\n",
       "      <td>7.023 g</td>\n",
       "      <td>0.724 g</td>\n",
       "      <td>72.00 mg</td>\n",
       "      <td>0.0 g</td>\n",
       "      <td>3.68 g</td>\n",
       "      <td>0.00 mg</td>\n",
       "      <td>0.00 mg</td>\n",
       "      <td>51.80 g</td>\n",
       "    </tr>\n",
       "    <tr>\n",
       "      <th>9</th>\n",
       "      <td>Vegetarian fillets</td>\n",
       "      <td>100 g</td>\n",
       "      <td>290</td>\n",
       "      <td>18g</td>\n",
       "      <td>2.8g</td>\n",
       "      <td>0</td>\n",
       "      <td>490.00 mg</td>\n",
       "      <td>82.0 mg</td>\n",
       "      <td>102.00 mcg</td>\n",
       "      <td>0.00 mcg</td>\n",
       "      <td>...</td>\n",
       "      <td>18.00 g</td>\n",
       "      <td>2.849 g</td>\n",
       "      <td>4.376 g</td>\n",
       "      <td>9.332 g</td>\n",
       "      <td>0.00 mg</td>\n",
       "      <td>0.0 g</td>\n",
       "      <td>5.00 g</td>\n",
       "      <td>0.00 mg</td>\n",
       "      <td>0.00 mg</td>\n",
       "      <td>45.00 g</td>\n",
       "    </tr>\n",
       "  </tbody>\n",
       "</table>\n",
       "<p>10 rows × 76 columns</p>\n",
       "</div>"
      ],
      "text/plain": [
       "                 name serving_size  calories total_fat saturated_fat  \\\n",
       "0          Cornstarch        100 g       381      0.1g           NaN   \n",
       "1        Nuts, pecans        100 g       691       72g          6.2g   \n",
       "2       Eggplant, raw        100 g        25      0.2g           NaN   \n",
       "3      Teff, uncooked        100 g       367      2.4g          0.4g   \n",
       "4     Sherbet, orange        100 g       144        2g          1.2g   \n",
       "5    Cauliflower, raw        100 g        25      0.3g          0.1g   \n",
       "6    Taro leaves, raw        100 g        42      0.7g          0.2g   \n",
       "7   Lamb, raw, ground        100 g       282       23g           10g   \n",
       "8   Cheese, camembert        100 g       300       24g           15g   \n",
       "9  Vegetarian fillets        100 g       290       18g          2.8g   \n",
       "\n",
       "  cholesterol     sodium  choline      folate folic_acid  ...      fat  \\\n",
       "0           0    9.00 mg   0.4 mg    0.00 mcg   0.00 mcg  ...   0.05 g   \n",
       "1           0    0.00 mg  40.5 mg   22.00 mcg   0.00 mcg  ...  71.97 g   \n",
       "2           0    2.00 mg   6.9 mg   22.00 mcg   0.00 mcg  ...   0.18 g   \n",
       "3           0   12.00 mg  13.1 mg           0          0  ...   2.38 g   \n",
       "4         1mg   46.00 mg   7.7 mg    4.00 mcg   0.00 mcg  ...   2.00 g   \n",
       "5           0   30.00 mg  44.3 mg   57.00 mcg   0.00 mcg  ...   0.28 g   \n",
       "6           0    3.00 mg  12.8 mg  126.00 mcg   0.00 mcg  ...   0.74 g   \n",
       "7        73mg   59.00 mg  69.3 mg   18.00 mcg   0.00 mcg  ...  23.41 g   \n",
       "8        72mg  842.00 mg  15.4 mg   62.00 mcg   0.00 mcg  ...  24.26 g   \n",
       "9           0  490.00 mg  82.0 mg  102.00 mcg   0.00 mcg  ...  18.00 g   \n",
       "\n",
       "  saturated_fatty_acids monounsaturated_fatty_acids  \\\n",
       "0               0.009 g                     0.016 g   \n",
       "1               6.180 g                    40.801 g   \n",
       "2               0.034 g                     0.016 g   \n",
       "3               0.449 g                     0.589 g   \n",
       "4               1.160 g                     0.530 g   \n",
       "5               0.130 g                     0.034 g   \n",
       "6               0.151 g                     0.060 g   \n",
       "7              10.190 g                     9.600 g   \n",
       "8              15.259 g                     7.023 g   \n",
       "9               2.849 g                     4.376 g   \n",
       "\n",
       "  polyunsaturated_fatty_acids fatty_acids_total_trans alcohol     ash  \\\n",
       "0                     0.025 g                 0.00 mg   0.0 g  0.09 g   \n",
       "1                    21.614 g                 0.00 mg   0.0 g  1.49 g   \n",
       "2                     0.076 g                 0.00 mg   0.0 g  0.66 g   \n",
       "3                     1.071 g                       0       0  2.37 g   \n",
       "4                     0.080 g                 1.00 mg   0.0 g  0.40 g   \n",
       "5                     0.031 g                 0.00 mg   0.0 g  0.76 g   \n",
       "6                     0.307 g                 0.00 mg   0.0 g  1.92 g   \n",
       "7                     1.850 g                73.00 mg   0.0 g  0.87 g   \n",
       "8                     0.724 g                72.00 mg   0.0 g  3.68 g   \n",
       "9                     9.332 g                 0.00 mg   0.0 g  5.00 g   \n",
       "\n",
       "  caffeine theobromine    water  \n",
       "0  0.00 mg     0.00 mg   8.32 g  \n",
       "1  0.00 mg     0.00 mg   3.52 g  \n",
       "2  0.00 mg     0.00 mg  92.30 g  \n",
       "3        0           0   8.82 g  \n",
       "4  0.00 mg     0.00 mg  66.10 g  \n",
       "5  0.00 mg     0.00 mg  92.07 g  \n",
       "6  0.00 mg     0.00 mg  85.66 g  \n",
       "7  0.00 mg     0.00 mg  59.47 g  \n",
       "8  0.00 mg     0.00 mg  51.80 g  \n",
       "9  0.00 mg     0.00 mg  45.00 g  \n",
       "\n",
       "[10 rows x 76 columns]"
      ]
     },
     "execution_count": 5,
     "metadata": {},
     "output_type": "execute_result"
    }
   ],
   "source": [
    "nutrition.head(10)"
   ]
  },
  {
   "cell_type": "code",
   "execution_count": 6,
   "id": "6a565180-cb42-41da-a49d-c2827a33de9e",
   "metadata": {},
   "outputs": [
    {
     "name": "stdout",
     "output_type": "stream",
     "text": [
      "<class 'pandas.core.frame.DataFrame'>\n",
      "Index: 8789 entries, 0 to 8788\n",
      "Columns: 76 entries, name to water\n",
      "dtypes: int64(2), object(74)\n",
      "memory usage: 39.2 MB\n"
     ]
    }
   ],
   "source": [
    "nutrition.info(verbose=False,memory_usage='deep')"
   ]
  },
  {
   "cell_type": "code",
   "execution_count": 7,
   "id": "3abae762-4012-4b0d-b0c4-e3d1f71f6e38",
   "metadata": {},
   "outputs": [
    {
     "data": {
      "text/html": [
       "<div>\n",
       "<style scoped>\n",
       "    .dataframe tbody tr th:only-of-type {\n",
       "        vertical-align: middle;\n",
       "    }\n",
       "\n",
       "    .dataframe tbody tr th {\n",
       "        vertical-align: top;\n",
       "    }\n",
       "\n",
       "    .dataframe thead th {\n",
       "        text-align: right;\n",
       "    }\n",
       "</style>\n",
       "<table border=\"1\" class=\"dataframe\">\n",
       "  <thead>\n",
       "    <tr style=\"text-align: right;\">\n",
       "      <th></th>\n",
       "      <th>name</th>\n",
       "      <th>serving_size</th>\n",
       "      <th>calories</th>\n",
       "      <th>total_fat</th>\n",
       "      <th>saturated_fat</th>\n",
       "      <th>cholesterol</th>\n",
       "      <th>sodium</th>\n",
       "      <th>choline</th>\n",
       "      <th>folate</th>\n",
       "      <th>folic_acid</th>\n",
       "      <th>...</th>\n",
       "      <th>fat</th>\n",
       "      <th>saturated_fatty_acids</th>\n",
       "      <th>monounsaturated_fatty_acids</th>\n",
       "      <th>polyunsaturated_fatty_acids</th>\n",
       "      <th>fatty_acids_total_trans</th>\n",
       "      <th>alcohol</th>\n",
       "      <th>ash</th>\n",
       "      <th>caffeine</th>\n",
       "      <th>theobromine</th>\n",
       "      <th>water</th>\n",
       "    </tr>\n",
       "  </thead>\n",
       "  <tbody>\n",
       "    <tr>\n",
       "      <th>3793</th>\n",
       "      <td>Lemon juice from concentrate, CONCORD, bottled</td>\n",
       "      <td>100 g</td>\n",
       "      <td>24</td>\n",
       "      <td>0.1g</td>\n",
       "      <td>NaN</td>\n",
       "      <td>0</td>\n",
       "      <td>29.00 mg</td>\n",
       "      <td>0</td>\n",
       "      <td>4.00 mcg</td>\n",
       "      <td>0</td>\n",
       "      <td>...</td>\n",
       "      <td>0.07 g</td>\n",
       "      <td>0</td>\n",
       "      <td>0</td>\n",
       "      <td>0</td>\n",
       "      <td>0</td>\n",
       "      <td>0</td>\n",
       "      <td>0.19 g</td>\n",
       "      <td>0</td>\n",
       "      <td>0</td>\n",
       "      <td>93.96 g</td>\n",
       "    </tr>\n",
       "    <tr>\n",
       "      <th>8332</th>\n",
       "      <td>Beef, grilled, cooked, select, trimmed to 0\" f...</td>\n",
       "      <td>100 g</td>\n",
       "      <td>212</td>\n",
       "      <td>12g</td>\n",
       "      <td>4.4g</td>\n",
       "      <td>83mg</td>\n",
       "      <td>76.00 mg</td>\n",
       "      <td>112.0 mg</td>\n",
       "      <td>6.00 mcg</td>\n",
       "      <td>0.00 mcg</td>\n",
       "      <td>...</td>\n",
       "      <td>11.52 g</td>\n",
       "      <td>4.423 g</td>\n",
       "      <td>4.568 g</td>\n",
       "      <td>0.572 g</td>\n",
       "      <td>83.00 mg</td>\n",
       "      <td>0.0 g</td>\n",
       "      <td>0.93 g</td>\n",
       "      <td>0.00 mg</td>\n",
       "      <td>0.00 mg</td>\n",
       "      <td>62.22 g</td>\n",
       "    </tr>\n",
       "    <tr>\n",
       "      <th>2181</th>\n",
       "      <td>MURRAY, Vanilla Sugar Wafer, SUGAR FREE</td>\n",
       "      <td>100 g</td>\n",
       "      <td>458</td>\n",
       "      <td>28g</td>\n",
       "      <td>9.3g</td>\n",
       "      <td>0</td>\n",
       "      <td>81.00 mg</td>\n",
       "      <td>0</td>\n",
       "      <td>47.00 mcg</td>\n",
       "      <td>0</td>\n",
       "      <td>...</td>\n",
       "      <td>27.60 g</td>\n",
       "      <td>9.300 g</td>\n",
       "      <td>6.900 g</td>\n",
       "      <td>10.900 g</td>\n",
       "      <td>0.00 mg</td>\n",
       "      <td>0</td>\n",
       "      <td>0</td>\n",
       "      <td>0</td>\n",
       "      <td>0</td>\n",
       "      <td>0.70 g</td>\n",
       "    </tr>\n",
       "  </tbody>\n",
       "</table>\n",
       "<p>3 rows × 76 columns</p>\n",
       "</div>"
      ],
      "text/plain": [
       "                                                   name serving_size  \\\n",
       "3793     Lemon juice from concentrate, CONCORD, bottled        100 g   \n",
       "8332  Beef, grilled, cooked, select, trimmed to 0\" f...        100 g   \n",
       "2181            MURRAY, Vanilla Sugar Wafer, SUGAR FREE        100 g   \n",
       "\n",
       "      calories total_fat saturated_fat cholesterol    sodium   choline  \\\n",
       "3793        24      0.1g           NaN           0  29.00 mg         0   \n",
       "8332       212       12g          4.4g        83mg  76.00 mg  112.0 mg   \n",
       "2181       458       28g          9.3g           0  81.00 mg         0   \n",
       "\n",
       "         folate folic_acid  ...      fat saturated_fatty_acids  \\\n",
       "3793   4.00 mcg          0  ...   0.07 g                     0   \n",
       "8332   6.00 mcg   0.00 mcg  ...  11.52 g               4.423 g   \n",
       "2181  47.00 mcg          0  ...  27.60 g               9.300 g   \n",
       "\n",
       "     monounsaturated_fatty_acids polyunsaturated_fatty_acids  \\\n",
       "3793                           0                           0   \n",
       "8332                     4.568 g                     0.572 g   \n",
       "2181                     6.900 g                    10.900 g   \n",
       "\n",
       "     fatty_acids_total_trans alcohol     ash caffeine theobromine    water  \n",
       "3793                       0       0  0.19 g        0           0  93.96 g  \n",
       "8332                83.00 mg   0.0 g  0.93 g  0.00 mg     0.00 mg  62.22 g  \n",
       "2181                 0.00 mg       0       0        0           0   0.70 g  \n",
       "\n",
       "[3 rows x 76 columns]"
      ]
     },
     "execution_count": 7,
     "metadata": {},
     "output_type": "execute_result"
    }
   ],
   "source": [
    "nutrition.sample(n=3)"
   ]
  },
  {
   "cell_type": "code",
   "execution_count": 8,
   "id": "03afe1c0-9353-4304-a4b8-7b43f006b607",
   "metadata": {},
   "outputs": [
    {
     "data": {
      "text/plain": [
       "[Index([   0,    1,    2,    3,    4,    5,    6,    7,    8,    9,\n",
       "        ...\n",
       "        8779, 8780, 8781, 8782, 8783, 8784, 8785, 8786, 8787, 8788],\n",
       "       dtype='int64', length=8789),\n",
       " Index(['name', 'serving_size', 'calories', 'total_fat', 'saturated_fat',\n",
       "        'cholesterol', 'sodium', 'choline', 'folate', 'folic_acid', 'niacin',\n",
       "        'pantothenic_acid', 'riboflavin', 'thiamin', 'vitamin_a',\n",
       "        'vitamin_a_rae', 'carotene_alpha', 'carotene_beta',\n",
       "        'cryptoxanthin_beta', 'lutein_zeaxanthin', 'lucopene', 'vitamin_b12',\n",
       "        'vitamin_b6', 'vitamin_c', 'vitamin_d', 'vitamin_e', 'tocopherol_alpha',\n",
       "        'vitamin_k', 'calcium', 'copper', 'irom', 'magnesium', 'manganese',\n",
       "        'phosphorous', 'potassium', 'selenium', 'zink', 'protein', 'alanine',\n",
       "        'arginine', 'aspartic_acid', 'cystine', 'glutamic_acid', 'glycine',\n",
       "        'histidine', 'hydroxyproline', 'isoleucine', 'leucine', 'lysine',\n",
       "        'methionine', 'phenylalanine', 'proline', 'serine', 'threonine',\n",
       "        'tryptophan', 'tyrosine', 'valine', 'carbohydrate', 'fiber', 'sugars',\n",
       "        'fructose', 'galactose', 'glucose', 'lactose', 'maltose', 'sucrose',\n",
       "        'fat', 'saturated_fatty_acids', 'monounsaturated_fatty_acids',\n",
       "        'polyunsaturated_fatty_acids', 'fatty_acids_total_trans', 'alcohol',\n",
       "        'ash', 'caffeine', 'theobromine', 'water'],\n",
       "       dtype='object')]"
      ]
     },
     "execution_count": 8,
     "metadata": {},
     "output_type": "execute_result"
    }
   ],
   "source": [
    "nutrition.axes"
   ]
  },
  {
   "cell_type": "code",
   "execution_count": 9,
   "id": "2f6960bb-bbb4-45e0-bee7-640b75ffe149",
   "metadata": {},
   "outputs": [
    {
     "data": {
      "text/plain": [
       "Index([   0,    1,    2,    3,    4,    5,    6,    7,    8,    9,\n",
       "       ...\n",
       "       8779, 8780, 8781, 8782, 8783, 8784, 8785, 8786, 8787, 8788],\n",
       "      dtype='int64', length=8789)"
      ]
     },
     "execution_count": 9,
     "metadata": {},
     "output_type": "execute_result"
    }
   ],
   "source": [
    "nutrition.axes[0]"
   ]
  },
  {
   "cell_type": "code",
   "execution_count": 10,
   "id": "95446904-5bf6-4f07-b09a-440dc0f902cf",
   "metadata": {},
   "outputs": [
    {
     "data": {
      "text/plain": [
       "3"
      ]
     },
     "execution_count": 10,
     "metadata": {},
     "output_type": "execute_result"
    }
   ],
   "source": [
    "nutrition.index[3]\n"
   ]
  },
  {
   "cell_type": "code",
   "execution_count": 11,
   "id": "915eb8fb-9f96-4389-910f-8f4b2e799993",
   "metadata": {},
   "outputs": [
    {
     "data": {
      "text/plain": [
       "3"
      ]
     },
     "execution_count": 11,
     "metadata": {},
     "output_type": "execute_result"
    }
   ],
   "source": [
    "nutrition.axes[0][3]"
   ]
  },
  {
   "cell_type": "code",
   "execution_count": 12,
   "id": "60dcf398-ebc9-403a-b04c-08ca338e691f",
   "metadata": {},
   "outputs": [
    {
     "data": {
      "text/plain": [
       "'polyunsaturated_fatty_acids'"
      ]
     },
     "execution_count": 12,
     "metadata": {},
     "output_type": "execute_result"
    }
   ],
   "source": [
    "nutrition.axes[1][69]"
   ]
  },
  {
   "cell_type": "code",
   "execution_count": 13,
   "id": "704ea810-86d8-426a-a9b9-3e17e407befc",
   "metadata": {},
   "outputs": [
    {
     "data": {
      "text/plain": [
       "'polyunsaturated_fatty_acids'"
      ]
     },
     "execution_count": 13,
     "metadata": {},
     "output_type": "execute_result"
    }
   ],
   "source": [
    "nutrition.columns[69]"
   ]
  },
  {
   "cell_type": "code",
   "execution_count": 14,
   "id": "fa6da708-5386-4c1f-96ea-92ff7f7461d9",
   "metadata": {},
   "outputs": [],
   "source": [
    "nutrition.index=pd.RangeIndex(start=0,stop=8789,step=1)"
   ]
  },
  {
   "cell_type": "code",
   "execution_count": 15,
   "id": "b770cec4-5f9d-4776-8824-e784e10e05e2",
   "metadata": {},
   "outputs": [],
   "source": [
    "nutrition.set_index('name',inplace=True)"
   ]
  },
  {
   "cell_type": "code",
   "execution_count": 16,
   "id": "bc34f31e-a915-498e-a87e-5985317f866f",
   "metadata": {},
   "outputs": [
    {
     "data": {
      "text/html": [
       "<div>\n",
       "<style scoped>\n",
       "    .dataframe tbody tr th:only-of-type {\n",
       "        vertical-align: middle;\n",
       "    }\n",
       "\n",
       "    .dataframe tbody tr th {\n",
       "        vertical-align: top;\n",
       "    }\n",
       "\n",
       "    .dataframe thead th {\n",
       "        text-align: right;\n",
       "    }\n",
       "</style>\n",
       "<table border=\"1\" class=\"dataframe\">\n",
       "  <thead>\n",
       "    <tr style=\"text-align: right;\">\n",
       "      <th></th>\n",
       "      <th>serving_size</th>\n",
       "      <th>calories</th>\n",
       "      <th>total_fat</th>\n",
       "      <th>saturated_fat</th>\n",
       "      <th>cholesterol</th>\n",
       "      <th>sodium</th>\n",
       "      <th>choline</th>\n",
       "      <th>folate</th>\n",
       "      <th>folic_acid</th>\n",
       "      <th>niacin</th>\n",
       "      <th>...</th>\n",
       "      <th>fat</th>\n",
       "      <th>saturated_fatty_acids</th>\n",
       "      <th>monounsaturated_fatty_acids</th>\n",
       "      <th>polyunsaturated_fatty_acids</th>\n",
       "      <th>fatty_acids_total_trans</th>\n",
       "      <th>alcohol</th>\n",
       "      <th>ash</th>\n",
       "      <th>caffeine</th>\n",
       "      <th>theobromine</th>\n",
       "      <th>water</th>\n",
       "    </tr>\n",
       "    <tr>\n",
       "      <th>name</th>\n",
       "      <th></th>\n",
       "      <th></th>\n",
       "      <th></th>\n",
       "      <th></th>\n",
       "      <th></th>\n",
       "      <th></th>\n",
       "      <th></th>\n",
       "      <th></th>\n",
       "      <th></th>\n",
       "      <th></th>\n",
       "      <th></th>\n",
       "      <th></th>\n",
       "      <th></th>\n",
       "      <th></th>\n",
       "      <th></th>\n",
       "      <th></th>\n",
       "      <th></th>\n",
       "      <th></th>\n",
       "      <th></th>\n",
       "      <th></th>\n",
       "      <th></th>\n",
       "    </tr>\n",
       "  </thead>\n",
       "  <tbody>\n",
       "    <tr>\n",
       "      <th>Cornstarch</th>\n",
       "      <td>100 g</td>\n",
       "      <td>381</td>\n",
       "      <td>0.1g</td>\n",
       "      <td>NaN</td>\n",
       "      <td>0</td>\n",
       "      <td>9.00 mg</td>\n",
       "      <td>0.4 mg</td>\n",
       "      <td>0.00 mcg</td>\n",
       "      <td>0.00 mcg</td>\n",
       "      <td>0.000 mg</td>\n",
       "      <td>...</td>\n",
       "      <td>0.05 g</td>\n",
       "      <td>0.009 g</td>\n",
       "      <td>0.016 g</td>\n",
       "      <td>0.025 g</td>\n",
       "      <td>0.00 mg</td>\n",
       "      <td>0.0 g</td>\n",
       "      <td>0.09 g</td>\n",
       "      <td>0.00 mg</td>\n",
       "      <td>0.00 mg</td>\n",
       "      <td>8.32 g</td>\n",
       "    </tr>\n",
       "    <tr>\n",
       "      <th>Nuts, pecans</th>\n",
       "      <td>100 g</td>\n",
       "      <td>691</td>\n",
       "      <td>72g</td>\n",
       "      <td>6.2g</td>\n",
       "      <td>0</td>\n",
       "      <td>0.00 mg</td>\n",
       "      <td>40.5 mg</td>\n",
       "      <td>22.00 mcg</td>\n",
       "      <td>0.00 mcg</td>\n",
       "      <td>1.167 mg</td>\n",
       "      <td>...</td>\n",
       "      <td>71.97 g</td>\n",
       "      <td>6.180 g</td>\n",
       "      <td>40.801 g</td>\n",
       "      <td>21.614 g</td>\n",
       "      <td>0.00 mg</td>\n",
       "      <td>0.0 g</td>\n",
       "      <td>1.49 g</td>\n",
       "      <td>0.00 mg</td>\n",
       "      <td>0.00 mg</td>\n",
       "      <td>3.52 g</td>\n",
       "    </tr>\n",
       "    <tr>\n",
       "      <th>Eggplant, raw</th>\n",
       "      <td>100 g</td>\n",
       "      <td>25</td>\n",
       "      <td>0.2g</td>\n",
       "      <td>NaN</td>\n",
       "      <td>0</td>\n",
       "      <td>2.00 mg</td>\n",
       "      <td>6.9 mg</td>\n",
       "      <td>22.00 mcg</td>\n",
       "      <td>0.00 mcg</td>\n",
       "      <td>0.649 mg</td>\n",
       "      <td>...</td>\n",
       "      <td>0.18 g</td>\n",
       "      <td>0.034 g</td>\n",
       "      <td>0.016 g</td>\n",
       "      <td>0.076 g</td>\n",
       "      <td>0.00 mg</td>\n",
       "      <td>0.0 g</td>\n",
       "      <td>0.66 g</td>\n",
       "      <td>0.00 mg</td>\n",
       "      <td>0.00 mg</td>\n",
       "      <td>92.30 g</td>\n",
       "    </tr>\n",
       "    <tr>\n",
       "      <th>Teff, uncooked</th>\n",
       "      <td>100 g</td>\n",
       "      <td>367</td>\n",
       "      <td>2.4g</td>\n",
       "      <td>0.4g</td>\n",
       "      <td>0</td>\n",
       "      <td>12.00 mg</td>\n",
       "      <td>13.1 mg</td>\n",
       "      <td>0</td>\n",
       "      <td>0</td>\n",
       "      <td>3.363 mg</td>\n",
       "      <td>...</td>\n",
       "      <td>2.38 g</td>\n",
       "      <td>0.449 g</td>\n",
       "      <td>0.589 g</td>\n",
       "      <td>1.071 g</td>\n",
       "      <td>0</td>\n",
       "      <td>0</td>\n",
       "      <td>2.37 g</td>\n",
       "      <td>0</td>\n",
       "      <td>0</td>\n",
       "      <td>8.82 g</td>\n",
       "    </tr>\n",
       "    <tr>\n",
       "      <th>Sherbet, orange</th>\n",
       "      <td>100 g</td>\n",
       "      <td>144</td>\n",
       "      <td>2g</td>\n",
       "      <td>1.2g</td>\n",
       "      <td>1mg</td>\n",
       "      <td>46.00 mg</td>\n",
       "      <td>7.7 mg</td>\n",
       "      <td>4.00 mcg</td>\n",
       "      <td>0.00 mcg</td>\n",
       "      <td>0.063 mg</td>\n",
       "      <td>...</td>\n",
       "      <td>2.00 g</td>\n",
       "      <td>1.160 g</td>\n",
       "      <td>0.530 g</td>\n",
       "      <td>0.080 g</td>\n",
       "      <td>1.00 mg</td>\n",
       "      <td>0.0 g</td>\n",
       "      <td>0.40 g</td>\n",
       "      <td>0.00 mg</td>\n",
       "      <td>0.00 mg</td>\n",
       "      <td>66.10 g</td>\n",
       "    </tr>\n",
       "  </tbody>\n",
       "</table>\n",
       "<p>5 rows × 75 columns</p>\n",
       "</div>"
      ],
      "text/plain": [
       "                serving_size  calories total_fat saturated_fat cholesterol  \\\n",
       "name                                                                         \n",
       "Cornstarch             100 g       381      0.1g           NaN           0   \n",
       "Nuts, pecans           100 g       691       72g          6.2g           0   \n",
       "Eggplant, raw          100 g        25      0.2g           NaN           0   \n",
       "Teff, uncooked         100 g       367      2.4g          0.4g           0   \n",
       "Sherbet, orange        100 g       144        2g          1.2g         1mg   \n",
       "\n",
       "                   sodium  choline     folate folic_acid    niacin  ...  \\\n",
       "name                                                                ...   \n",
       "Cornstarch        9.00 mg   0.4 mg   0.00 mcg   0.00 mcg  0.000 mg  ...   \n",
       "Nuts, pecans      0.00 mg  40.5 mg  22.00 mcg   0.00 mcg  1.167 mg  ...   \n",
       "Eggplant, raw     2.00 mg   6.9 mg  22.00 mcg   0.00 mcg  0.649 mg  ...   \n",
       "Teff, uncooked   12.00 mg  13.1 mg          0          0  3.363 mg  ...   \n",
       "Sherbet, orange  46.00 mg   7.7 mg   4.00 mcg   0.00 mcg  0.063 mg  ...   \n",
       "\n",
       "                     fat saturated_fatty_acids monounsaturated_fatty_acids  \\\n",
       "name                                                                         \n",
       "Cornstarch        0.05 g               0.009 g                     0.016 g   \n",
       "Nuts, pecans     71.97 g               6.180 g                    40.801 g   \n",
       "Eggplant, raw     0.18 g               0.034 g                     0.016 g   \n",
       "Teff, uncooked    2.38 g               0.449 g                     0.589 g   \n",
       "Sherbet, orange   2.00 g               1.160 g                     0.530 g   \n",
       "\n",
       "                polyunsaturated_fatty_acids fatty_acids_total_trans alcohol  \\\n",
       "name                                                                          \n",
       "Cornstarch                          0.025 g                 0.00 mg   0.0 g   \n",
       "Nuts, pecans                       21.614 g                 0.00 mg   0.0 g   \n",
       "Eggplant, raw                       0.076 g                 0.00 mg   0.0 g   \n",
       "Teff, uncooked                      1.071 g                       0       0   \n",
       "Sherbet, orange                     0.080 g                 1.00 mg   0.0 g   \n",
       "\n",
       "                    ash caffeine theobromine    water  \n",
       "name                                                   \n",
       "Cornstarch       0.09 g  0.00 mg     0.00 mg   8.32 g  \n",
       "Nuts, pecans     1.49 g  0.00 mg     0.00 mg   3.52 g  \n",
       "Eggplant, raw    0.66 g  0.00 mg     0.00 mg  92.30 g  \n",
       "Teff, uncooked   2.37 g        0           0   8.82 g  \n",
       "Sherbet, orange  0.40 g  0.00 mg     0.00 mg  66.10 g  \n",
       "\n",
       "[5 rows x 75 columns]"
      ]
     },
     "execution_count": 16,
     "metadata": {},
     "output_type": "execute_result"
    }
   ],
   "source": [
    "nutrition.head()"
   ]
  },
  {
   "cell_type": "code",
   "execution_count": 17,
   "id": "b71edfc5-50f7-4c2f-a061-1a6a53941adc",
   "metadata": {},
   "outputs": [
    {
     "data": {
      "text/html": [
       "<div>\n",
       "<style scoped>\n",
       "    .dataframe tbody tr th:only-of-type {\n",
       "        vertical-align: middle;\n",
       "    }\n",
       "\n",
       "    .dataframe tbody tr th {\n",
       "        vertical-align: top;\n",
       "    }\n",
       "\n",
       "    .dataframe thead th {\n",
       "        text-align: right;\n",
       "    }\n",
       "</style>\n",
       "<table border=\"1\" class=\"dataframe\">\n",
       "  <thead>\n",
       "    <tr style=\"text-align: right;\">\n",
       "      <th></th>\n",
       "      <th>calories</th>\n",
       "      <th>total_fat</th>\n",
       "      <th>saturated_fat</th>\n",
       "      <th>cholesterol</th>\n",
       "    </tr>\n",
       "    <tr>\n",
       "      <th>name</th>\n",
       "      <th></th>\n",
       "      <th></th>\n",
       "      <th></th>\n",
       "      <th></th>\n",
       "    </tr>\n",
       "  </thead>\n",
       "  <tbody>\n",
       "    <tr>\n",
       "      <th>Eggplant, raw</th>\n",
       "      <td>25</td>\n",
       "      <td>0.2g</td>\n",
       "      <td>NaN</td>\n",
       "      <td>0</td>\n",
       "    </tr>\n",
       "    <tr>\n",
       "      <th>Teff, uncooked</th>\n",
       "      <td>367</td>\n",
       "      <td>2.4g</td>\n",
       "      <td>0.4g</td>\n",
       "      <td>0</td>\n",
       "    </tr>\n",
       "    <tr>\n",
       "      <th>Sherbet, orange</th>\n",
       "      <td>144</td>\n",
       "      <td>2g</td>\n",
       "      <td>1.2g</td>\n",
       "      <td>1mg</td>\n",
       "    </tr>\n",
       "  </tbody>\n",
       "</table>\n",
       "</div>"
      ],
      "text/plain": [
       "                 calories total_fat saturated_fat cholesterol\n",
       "name                                                         \n",
       "Eggplant, raw          25      0.2g           NaN           0\n",
       "Teff, uncooked        367      2.4g          0.4g           0\n",
       "Sherbet, orange       144        2g          1.2g         1mg"
      ]
     },
     "execution_count": 17,
     "metadata": {},
     "output_type": "execute_result"
    }
   ],
   "source": [
    "nutrition.loc['Eggplant, raw':'Sherbet, orange','calories':'cholesterol']"
   ]
  },
  {
   "cell_type": "code",
   "execution_count": 18,
   "id": "51153040-8d9d-40bc-86bb-5511b38312bd",
   "metadata": {},
   "outputs": [
    {
     "data": {
      "text/html": [
       "<div>\n",
       "<style scoped>\n",
       "    .dataframe tbody tr th:only-of-type {\n",
       "        vertical-align: middle;\n",
       "    }\n",
       "\n",
       "    .dataframe tbody tr th {\n",
       "        vertical-align: top;\n",
       "    }\n",
       "\n",
       "    .dataframe thead th {\n",
       "        text-align: right;\n",
       "    }\n",
       "</style>\n",
       "<table border=\"1\" class=\"dataframe\">\n",
       "  <thead>\n",
       "    <tr style=\"text-align: right;\">\n",
       "      <th></th>\n",
       "      <th>calories</th>\n",
       "      <th>sodium</th>\n",
       "      <th>total_fat</th>\n",
       "      <th>protein</th>\n",
       "      <th>vitamin_b6</th>\n",
       "    </tr>\n",
       "    <tr>\n",
       "      <th>name</th>\n",
       "      <th></th>\n",
       "      <th></th>\n",
       "      <th></th>\n",
       "      <th></th>\n",
       "      <th></th>\n",
       "    </tr>\n",
       "  </thead>\n",
       "  <tbody>\n",
       "    <tr>\n",
       "      <th>Raspberries, raw</th>\n",
       "      <td>52</td>\n",
       "      <td>1.00 mg</td>\n",
       "      <td>0.7g</td>\n",
       "      <td>1.20 g</td>\n",
       "      <td>0.055 mg</td>\n",
       "    </tr>\n",
       "    <tr>\n",
       "      <th>Blackberries, raw</th>\n",
       "      <td>43</td>\n",
       "      <td>1.00 mg</td>\n",
       "      <td>0.5g</td>\n",
       "      <td>1.39 g</td>\n",
       "      <td>0.030 mg</td>\n",
       "    </tr>\n",
       "  </tbody>\n",
       "</table>\n",
       "</div>"
      ],
      "text/plain": [
       "                   calories   sodium total_fat protein vitamin_b6\n",
       "name                                                             \n",
       "Raspberries, raw         52  1.00 mg      0.7g  1.20 g   0.055 mg\n",
       "Blackberries, raw        43  1.00 mg      0.5g  1.39 g   0.030 mg"
      ]
     },
     "execution_count": 18,
     "metadata": {},
     "output_type": "execute_result"
    }
   ],
   "source": [
    "nutrition.loc[\n",
    "    ['Raspberries, raw','Blackberries, raw'],\n",
    "    ['calories','sodium','total_fat','protein','vitamin_b6']\n",
    "]"
   ]
  },
  {
   "cell_type": "code",
   "execution_count": 19,
   "id": "94312838-5dce-4d5b-8d58-1156819026b2",
   "metadata": {},
   "outputs": [],
   "source": [
    " nutri = nutrition.sample(10)"
   ]
  },
  {
   "cell_type": "code",
   "execution_count": 20,
   "id": "34ba65f9-b123-4908-8489-83b25db0897f",
   "metadata": {},
   "outputs": [
    {
     "data": {
      "text/plain": [
       "(10, 75)"
      ]
     },
     "execution_count": 20,
     "metadata": {},
     "output_type": "execute_result"
    }
   ],
   "source": [
    "nutri.shape"
   ]
  },
  {
   "cell_type": "code",
   "execution_count": 21,
   "id": "bbad5cc4-e2a1-42f4-bf67-96cd29523f16",
   "metadata": {},
   "outputs": [
    {
     "data": {
      "text/html": [
       "<div>\n",
       "<style scoped>\n",
       "    .dataframe tbody tr th:only-of-type {\n",
       "        vertical-align: middle;\n",
       "    }\n",
       "\n",
       "    .dataframe tbody tr th {\n",
       "        vertical-align: top;\n",
       "    }\n",
       "\n",
       "    .dataframe thead th {\n",
       "        text-align: right;\n",
       "    }\n",
       "</style>\n",
       "<table border=\"1\" class=\"dataframe\">\n",
       "  <thead>\n",
       "    <tr style=\"text-align: right;\">\n",
       "      <th></th>\n",
       "      <th>total_fat</th>\n",
       "      <th>cholesterol</th>\n",
       "    </tr>\n",
       "    <tr>\n",
       "      <th>name</th>\n",
       "      <th></th>\n",
       "      <th></th>\n",
       "    </tr>\n",
       "  </thead>\n",
       "  <tbody>\n",
       "    <tr>\n",
       "      <th>Potatoes, without salt, drained, boiled, cooked, whole, frozen</th>\n",
       "      <td>0.1g</td>\n",
       "      <td>0</td>\n",
       "    </tr>\n",
       "    <tr>\n",
       "      <th>Beverages, diet, lemon, ready to drink, black and green, tea, SNAPPLE</th>\n",
       "      <td>0g</td>\n",
       "      <td>0</td>\n",
       "    </tr>\n",
       "    <tr>\n",
       "      <th>Quail, raw, meat and skin</th>\n",
       "      <td>12g</td>\n",
       "      <td>76mg</td>\n",
       "    </tr>\n",
       "    <tr>\n",
       "      <th>Beef, raw, choice, trimmed to 1/8\" fat, separable lean and fat, roast, eye of round, round</th>\n",
       "      <td>8.9g</td>\n",
       "      <td>70mg</td>\n",
       "    </tr>\n",
       "    <tr>\n",
       "      <th>Beverages, diet, decaffeinated, ready to drink, black, tea</th>\n",
       "      <td>0g</td>\n",
       "      <td>0</td>\n",
       "    </tr>\n",
       "    <tr>\n",
       "      <th>Beef, raw, choice, trimmed to 0\" fat, separable lean and fat, boneless, flat half, brisket</th>\n",
       "      <td>9.9g</td>\n",
       "      <td>67mg</td>\n",
       "    </tr>\n",
       "    <tr>\n",
       "      <th>Babyfood, strained, vegetables and beef, dinner</th>\n",
       "      <td>3.6g</td>\n",
       "      <td>7mg</td>\n",
       "    </tr>\n",
       "    <tr>\n",
       "      <th>Pie Crust, Ready Crust, Chocolate, Cookie-type</th>\n",
       "      <td>22g</td>\n",
       "      <td>0</td>\n",
       "    </tr>\n",
       "    <tr>\n",
       "      <th>Soup, Chinese restaurant, hot and sour</th>\n",
       "      <td>1.2g</td>\n",
       "      <td>21mg</td>\n",
       "    </tr>\n",
       "    <tr>\n",
       "      <th>Fish, cooked (not previously frozen), Alaska, pollock</th>\n",
       "      <td>0.3g</td>\n",
       "      <td>74mg</td>\n",
       "    </tr>\n",
       "  </tbody>\n",
       "</table>\n",
       "</div>"
      ],
      "text/plain": [
       "                                                   total_fat cholesterol\n",
       "name                                                                    \n",
       "Potatoes, without salt, drained, boiled, cooked...      0.1g           0\n",
       "Beverages, diet, lemon, ready to drink, black a...        0g           0\n",
       "Quail, raw, meat and skin                                12g        76mg\n",
       "Beef, raw, choice, trimmed to 1/8\" fat, separab...      8.9g        70mg\n",
       "Beverages, diet, decaffeinated, ready to drink,...        0g           0\n",
       "Beef, raw, choice, trimmed to 0\" fat, separable...      9.9g        67mg\n",
       "Babyfood, strained, vegetables and beef, dinner         3.6g         7mg\n",
       "Pie Crust, Ready Crust, Chocolate, Cookie-type           22g           0\n",
       "Soup, Chinese restaurant, hot and sour                  1.2g        21mg\n",
       "Fish, cooked (not previously frozen), Alaska, p...      0.3g        74mg"
      ]
     },
     "execution_count": 21,
     "metadata": {},
     "output_type": "execute_result"
    }
   ],
   "source": [
    "nutri.loc[:,['total_fat','cholesterol']]"
   ]
  },
  {
   "cell_type": "code",
   "execution_count": 22,
   "id": "071e75b2-71dc-4c4b-9ad5-29460882208b",
   "metadata": {},
   "outputs": [
    {
     "data": {
      "text/plain": [
       "(10, 75)"
      ]
     },
     "execution_count": 22,
     "metadata": {},
     "output_type": "execute_result"
    }
   ],
   "source": [
    "nutri.shape"
   ]
  },
  {
   "cell_type": "code",
   "execution_count": 23,
   "id": "8f2dc0e3-8fef-4c15-96d6-2dfd5bb722b0",
   "metadata": {},
   "outputs": [],
   "source": [
    "b12_loc = nutri.columns.get_loc('vitamin_b12')"
   ]
  },
  {
   "cell_type": "code",
   "execution_count": 24,
   "id": "d73d9d25-e9b5-49fe-81fb-bd01aed5244d",
   "metadata": {},
   "outputs": [
    {
     "data": {
      "text/html": [
       "<div>\n",
       "<style scoped>\n",
       "    .dataframe tbody tr th:only-of-type {\n",
       "        vertical-align: middle;\n",
       "    }\n",
       "\n",
       "    .dataframe tbody tr th {\n",
       "        vertical-align: top;\n",
       "    }\n",
       "\n",
       "    .dataframe thead th {\n",
       "        text-align: right;\n",
       "    }\n",
       "</style>\n",
       "<table border=\"1\" class=\"dataframe\">\n",
       "  <thead>\n",
       "    <tr style=\"text-align: right;\">\n",
       "      <th></th>\n",
       "      <th>vitamin_b12</th>\n",
       "      <th>vitamin_b6</th>\n",
       "      <th>vitamin_c</th>\n",
       "      <th>vitamin_d</th>\n",
       "      <th>vitamin_e</th>\n",
       "      <th>tocopherol_alpha</th>\n",
       "      <th>vitamin_k</th>\n",
       "      <th>calcium</th>\n",
       "      <th>copper</th>\n",
       "      <th>irom</th>\n",
       "      <th>...</th>\n",
       "      <th>fat</th>\n",
       "      <th>saturated_fatty_acids</th>\n",
       "      <th>monounsaturated_fatty_acids</th>\n",
       "      <th>polyunsaturated_fatty_acids</th>\n",
       "      <th>fatty_acids_total_trans</th>\n",
       "      <th>alcohol</th>\n",
       "      <th>ash</th>\n",
       "      <th>caffeine</th>\n",
       "      <th>theobromine</th>\n",
       "      <th>water</th>\n",
       "    </tr>\n",
       "    <tr>\n",
       "      <th>name</th>\n",
       "      <th></th>\n",
       "      <th></th>\n",
       "      <th></th>\n",
       "      <th></th>\n",
       "      <th></th>\n",
       "      <th></th>\n",
       "      <th></th>\n",
       "      <th></th>\n",
       "      <th></th>\n",
       "      <th></th>\n",
       "      <th></th>\n",
       "      <th></th>\n",
       "      <th></th>\n",
       "      <th></th>\n",
       "      <th></th>\n",
       "      <th></th>\n",
       "      <th></th>\n",
       "      <th></th>\n",
       "      <th></th>\n",
       "      <th></th>\n",
       "      <th></th>\n",
       "    </tr>\n",
       "  </thead>\n",
       "  <tbody>\n",
       "    <tr>\n",
       "      <th>Potatoes, without salt, drained, boiled, cooked, whole, frozen</th>\n",
       "      <td>0.00 mcg</td>\n",
       "      <td>0.202 mg</td>\n",
       "      <td>9.4 mg</td>\n",
       "      <td>0.00 IU</td>\n",
       "      <td>0</td>\n",
       "      <td>0</td>\n",
       "      <td>0</td>\n",
       "      <td>7.00 mg</td>\n",
       "      <td>0.078 mg</td>\n",
       "      <td>0.84 mg</td>\n",
       "      <td>...</td>\n",
       "      <td>0.13 g</td>\n",
       "      <td>0.034 g</td>\n",
       "      <td>0.003 g</td>\n",
       "      <td>0.056 g</td>\n",
       "      <td>0.00 mg</td>\n",
       "      <td>0</td>\n",
       "      <td>0.57 g</td>\n",
       "      <td>0</td>\n",
       "      <td>0</td>\n",
       "      <td>82.80 g</td>\n",
       "    </tr>\n",
       "    <tr>\n",
       "      <th>Beverages, diet, lemon, ready to drink, black and green, tea, SNAPPLE</th>\n",
       "      <td>0</td>\n",
       "      <td>0</td>\n",
       "      <td>0.0 mg</td>\n",
       "      <td>0</td>\n",
       "      <td>0</td>\n",
       "      <td>0</td>\n",
       "      <td>0</td>\n",
       "      <td>0.00 mg</td>\n",
       "      <td>0</td>\n",
       "      <td>0.00 mg</td>\n",
       "      <td>...</td>\n",
       "      <td>0.00 g</td>\n",
       "      <td>0.000 g</td>\n",
       "      <td>0</td>\n",
       "      <td>0</td>\n",
       "      <td>0.00 mg</td>\n",
       "      <td>0</td>\n",
       "      <td>0</td>\n",
       "      <td>9.00 mg</td>\n",
       "      <td>0</td>\n",
       "      <td>99.80 g</td>\n",
       "    </tr>\n",
       "    <tr>\n",
       "      <th>Quail, raw, meat and skin</th>\n",
       "      <td>0.43 mcg</td>\n",
       "      <td>0.600 mg</td>\n",
       "      <td>6.1 mg</td>\n",
       "      <td>0</td>\n",
       "      <td>0</td>\n",
       "      <td>0</td>\n",
       "      <td>0</td>\n",
       "      <td>13.00 mg</td>\n",
       "      <td>0.507 mg</td>\n",
       "      <td>3.97 mg</td>\n",
       "      <td>...</td>\n",
       "      <td>12.05 g</td>\n",
       "      <td>3.380 g</td>\n",
       "      <td>4.180 g</td>\n",
       "      <td>2.980 g</td>\n",
       "      <td>76.00 mg</td>\n",
       "      <td>0.0 g</td>\n",
       "      <td>0.90 g</td>\n",
       "      <td>0</td>\n",
       "      <td>0</td>\n",
       "      <td>69.65 g</td>\n",
       "    </tr>\n",
       "  </tbody>\n",
       "</table>\n",
       "<p>3 rows × 55 columns</p>\n",
       "</div>"
      ],
      "text/plain": [
       "                                                   vitamin_b12 vitamin_b6  \\\n",
       "name                                                                        \n",
       "Potatoes, without salt, drained, boiled, cooked...    0.00 mcg   0.202 mg   \n",
       "Beverages, diet, lemon, ready to drink, black a...           0          0   \n",
       "Quail, raw, meat and skin                             0.43 mcg   0.600 mg   \n",
       "\n",
       "                                                   vitamin_c vitamin_d  \\\n",
       "name                                                                     \n",
       "Potatoes, without salt, drained, boiled, cooked...    9.4 mg   0.00 IU   \n",
       "Beverages, diet, lemon, ready to drink, black a...    0.0 mg         0   \n",
       "Quail, raw, meat and skin                             6.1 mg         0   \n",
       "\n",
       "                                                   vitamin_e tocopherol_alpha  \\\n",
       "name                                                                            \n",
       "Potatoes, without salt, drained, boiled, cooked...         0                0   \n",
       "Beverages, diet, lemon, ready to drink, black a...         0                0   \n",
       "Quail, raw, meat and skin                                  0                0   \n",
       "\n",
       "                                                   vitamin_k   calcium  \\\n",
       "name                                                                     \n",
       "Potatoes, without salt, drained, boiled, cooked...         0   7.00 mg   \n",
       "Beverages, diet, lemon, ready to drink, black a...         0   0.00 mg   \n",
       "Quail, raw, meat and skin                                  0  13.00 mg   \n",
       "\n",
       "                                                      copper     irom  ...  \\\n",
       "name                                                                   ...   \n",
       "Potatoes, without salt, drained, boiled, cooked...  0.078 mg  0.84 mg  ...   \n",
       "Beverages, diet, lemon, ready to drink, black a...         0  0.00 mg  ...   \n",
       "Quail, raw, meat and skin                           0.507 mg  3.97 mg  ...   \n",
       "\n",
       "                                                        fat  \\\n",
       "name                                                          \n",
       "Potatoes, without salt, drained, boiled, cooked...   0.13 g   \n",
       "Beverages, diet, lemon, ready to drink, black a...   0.00 g   \n",
       "Quail, raw, meat and skin                           12.05 g   \n",
       "\n",
       "                                                   saturated_fatty_acids  \\\n",
       "name                                                                       \n",
       "Potatoes, without salt, drained, boiled, cooked...               0.034 g   \n",
       "Beverages, diet, lemon, ready to drink, black a...               0.000 g   \n",
       "Quail, raw, meat and skin                                        3.380 g   \n",
       "\n",
       "                                                   monounsaturated_fatty_acids  \\\n",
       "name                                                                             \n",
       "Potatoes, without salt, drained, boiled, cooked...                     0.003 g   \n",
       "Beverages, diet, lemon, ready to drink, black a...                           0   \n",
       "Quail, raw, meat and skin                                              4.180 g   \n",
       "\n",
       "                                                   polyunsaturated_fatty_acids  \\\n",
       "name                                                                             \n",
       "Potatoes, without salt, drained, boiled, cooked...                     0.056 g   \n",
       "Beverages, diet, lemon, ready to drink, black a...                           0   \n",
       "Quail, raw, meat and skin                                              2.980 g   \n",
       "\n",
       "                                                   fatty_acids_total_trans  \\\n",
       "name                                                                         \n",
       "Potatoes, without salt, drained, boiled, cooked...                 0.00 mg   \n",
       "Beverages, diet, lemon, ready to drink, black a...                 0.00 mg   \n",
       "Quail, raw, meat and skin                                         76.00 mg   \n",
       "\n",
       "                                                   alcohol     ash caffeine  \\\n",
       "name                                                                          \n",
       "Potatoes, without salt, drained, boiled, cooked...       0  0.57 g        0   \n",
       "Beverages, diet, lemon, ready to drink, black a...       0       0  9.00 mg   \n",
       "Quail, raw, meat and skin                            0.0 g  0.90 g        0   \n",
       "\n",
       "                                                   theobromine    water  \n",
       "name                                                                     \n",
       "Potatoes, without salt, drained, boiled, cooked...           0  82.80 g  \n",
       "Beverages, diet, lemon, ready to drink, black a...           0  99.80 g  \n",
       "Quail, raw, meat and skin                                    0  69.65 g  \n",
       "\n",
       "[3 rows x 55 columns]"
      ]
     },
     "execution_count": 24,
     "metadata": {},
     "output_type": "execute_result"
    }
   ],
   "source": [
    "nutri.iloc[0:3,b12_loc:]"
   ]
  },
  {
   "cell_type": "code",
   "execution_count": 25,
   "id": "2fcf6747-841f-4917-ad4d-32f32b14a281",
   "metadata": {},
   "outputs": [
    {
     "ename": "KeyError",
     "evalue": "'Fish, dry heat, cooked, chum, salmon'",
     "output_type": "error",
     "traceback": [
      "\u001b[1;31m---------------------------------------------------------------------------\u001b[0m",
      "\u001b[1;31mKeyError\u001b[0m                                  Traceback (most recent call last)",
      "File \u001b[1;32m~\\anaconda3\\Lib\\site-packages\\pandas\\core\\indexes\\base.py:3791\u001b[0m, in \u001b[0;36mIndex.get_loc\u001b[1;34m(self, key)\u001b[0m\n\u001b[0;32m   3790\u001b[0m \u001b[38;5;28;01mtry\u001b[39;00m:\n\u001b[1;32m-> 3791\u001b[0m     \u001b[38;5;28;01mreturn\u001b[39;00m \u001b[38;5;28mself\u001b[39m\u001b[38;5;241m.\u001b[39m_engine\u001b[38;5;241m.\u001b[39mget_loc(casted_key)\n\u001b[0;32m   3792\u001b[0m \u001b[38;5;28;01mexcept\u001b[39;00m \u001b[38;5;167;01mKeyError\u001b[39;00m \u001b[38;5;28;01mas\u001b[39;00m err:\n",
      "File \u001b[1;32mindex.pyx:152\u001b[0m, in \u001b[0;36mpandas._libs.index.IndexEngine.get_loc\u001b[1;34m()\u001b[0m\n",
      "File \u001b[1;32mindex.pyx:181\u001b[0m, in \u001b[0;36mpandas._libs.index.IndexEngine.get_loc\u001b[1;34m()\u001b[0m\n",
      "File \u001b[1;32mpandas\\_libs\\hashtable_class_helper.pxi:7080\u001b[0m, in \u001b[0;36mpandas._libs.hashtable.PyObjectHashTable.get_item\u001b[1;34m()\u001b[0m\n",
      "File \u001b[1;32mpandas\\_libs\\hashtable_class_helper.pxi:7088\u001b[0m, in \u001b[0;36mpandas._libs.hashtable.PyObjectHashTable.get_item\u001b[1;34m()\u001b[0m\n",
      "\u001b[1;31mKeyError\u001b[0m: 'Fish, dry heat, cooked, chum, salmon'",
      "\nThe above exception was the direct cause of the following exception:\n",
      "\u001b[1;31mKeyError\u001b[0m                                  Traceback (most recent call last)",
      "Cell \u001b[1;32mIn[25], line 1\u001b[0m\n\u001b[1;32m----> 1\u001b[0m nutri\u001b[38;5;241m.\u001b[39mat[\u001b[38;5;124m'\u001b[39m\u001b[38;5;124mFish, dry heat, cooked, chum, salmon\u001b[39m\u001b[38;5;124m'\u001b[39m,\u001b[38;5;124m'\u001b[39m\u001b[38;5;124mcalories\u001b[39m\u001b[38;5;124m'\u001b[39m]\n",
      "File \u001b[1;32m~\\anaconda3\\Lib\\site-packages\\pandas\\core\\indexing.py:2488\u001b[0m, in \u001b[0;36m_AtIndexer.__getitem__\u001b[1;34m(self, key)\u001b[0m\n\u001b[0;32m   2485\u001b[0m         \u001b[38;5;28;01mraise\u001b[39;00m \u001b[38;5;167;01mValueError\u001b[39;00m(\u001b[38;5;124m\"\u001b[39m\u001b[38;5;124mInvalid call for scalar access (getting)!\u001b[39m\u001b[38;5;124m\"\u001b[39m)\n\u001b[0;32m   2486\u001b[0m     \u001b[38;5;28;01mreturn\u001b[39;00m \u001b[38;5;28mself\u001b[39m\u001b[38;5;241m.\u001b[39mobj\u001b[38;5;241m.\u001b[39mloc[key]\n\u001b[1;32m-> 2488\u001b[0m \u001b[38;5;28;01mreturn\u001b[39;00m \u001b[38;5;28msuper\u001b[39m()\u001b[38;5;241m.\u001b[39m\u001b[38;5;21m__getitem__\u001b[39m(key)\n",
      "File \u001b[1;32m~\\anaconda3\\Lib\\site-packages\\pandas\\core\\indexing.py:2440\u001b[0m, in \u001b[0;36m_ScalarAccessIndexer.__getitem__\u001b[1;34m(self, key)\u001b[0m\n\u001b[0;32m   2437\u001b[0m         \u001b[38;5;28;01mraise\u001b[39;00m \u001b[38;5;167;01mValueError\u001b[39;00m(\u001b[38;5;124m\"\u001b[39m\u001b[38;5;124mInvalid call for scalar access (getting)!\u001b[39m\u001b[38;5;124m\"\u001b[39m)\n\u001b[0;32m   2439\u001b[0m key \u001b[38;5;241m=\u001b[39m \u001b[38;5;28mself\u001b[39m\u001b[38;5;241m.\u001b[39m_convert_key(key)\n\u001b[1;32m-> 2440\u001b[0m \u001b[38;5;28;01mreturn\u001b[39;00m \u001b[38;5;28mself\u001b[39m\u001b[38;5;241m.\u001b[39mobj\u001b[38;5;241m.\u001b[39m_get_value(\u001b[38;5;241m*\u001b[39mkey, takeable\u001b[38;5;241m=\u001b[39m\u001b[38;5;28mself\u001b[39m\u001b[38;5;241m.\u001b[39m_takeable)\n",
      "File \u001b[1;32m~\\anaconda3\\Lib\\site-packages\\pandas\\core\\frame.py:4012\u001b[0m, in \u001b[0;36mDataFrame._get_value\u001b[1;34m(self, index, col, takeable)\u001b[0m\n\u001b[0;32m   4006\u001b[0m engine \u001b[38;5;241m=\u001b[39m \u001b[38;5;28mself\u001b[39m\u001b[38;5;241m.\u001b[39mindex\u001b[38;5;241m.\u001b[39m_engine\n\u001b[0;32m   4008\u001b[0m \u001b[38;5;28;01mif\u001b[39;00m \u001b[38;5;129;01mnot\u001b[39;00m \u001b[38;5;28misinstance\u001b[39m(\u001b[38;5;28mself\u001b[39m\u001b[38;5;241m.\u001b[39mindex, MultiIndex):\n\u001b[0;32m   4009\u001b[0m     \u001b[38;5;66;03m# CategoricalIndex: Trying to use the engine fastpath may give incorrect\u001b[39;00m\n\u001b[0;32m   4010\u001b[0m     \u001b[38;5;66;03m#  results if our categories are integers that dont match our codes\u001b[39;00m\n\u001b[0;32m   4011\u001b[0m     \u001b[38;5;66;03m# IntervalIndex: IntervalTree has no get_loc\u001b[39;00m\n\u001b[1;32m-> 4012\u001b[0m     row \u001b[38;5;241m=\u001b[39m \u001b[38;5;28mself\u001b[39m\u001b[38;5;241m.\u001b[39mindex\u001b[38;5;241m.\u001b[39mget_loc(index)\n\u001b[0;32m   4013\u001b[0m     \u001b[38;5;28;01mreturn\u001b[39;00m series\u001b[38;5;241m.\u001b[39m_values[row]\n\u001b[0;32m   4015\u001b[0m \u001b[38;5;66;03m# For MultiIndex going through engine effectively restricts us to\u001b[39;00m\n\u001b[0;32m   4016\u001b[0m \u001b[38;5;66;03m#  same-length tuples; see test_get_set_value_no_partial_indexing\u001b[39;00m\n",
      "File \u001b[1;32m~\\anaconda3\\Lib\\site-packages\\pandas\\core\\indexes\\base.py:3798\u001b[0m, in \u001b[0;36mIndex.get_loc\u001b[1;34m(self, key)\u001b[0m\n\u001b[0;32m   3793\u001b[0m     \u001b[38;5;28;01mif\u001b[39;00m \u001b[38;5;28misinstance\u001b[39m(casted_key, \u001b[38;5;28mslice\u001b[39m) \u001b[38;5;129;01mor\u001b[39;00m (\n\u001b[0;32m   3794\u001b[0m         \u001b[38;5;28misinstance\u001b[39m(casted_key, abc\u001b[38;5;241m.\u001b[39mIterable)\n\u001b[0;32m   3795\u001b[0m         \u001b[38;5;129;01mand\u001b[39;00m \u001b[38;5;28many\u001b[39m(\u001b[38;5;28misinstance\u001b[39m(x, \u001b[38;5;28mslice\u001b[39m) \u001b[38;5;28;01mfor\u001b[39;00m x \u001b[38;5;129;01min\u001b[39;00m casted_key)\n\u001b[0;32m   3796\u001b[0m     ):\n\u001b[0;32m   3797\u001b[0m         \u001b[38;5;28;01mraise\u001b[39;00m InvalidIndexError(key)\n\u001b[1;32m-> 3798\u001b[0m     \u001b[38;5;28;01mraise\u001b[39;00m \u001b[38;5;167;01mKeyError\u001b[39;00m(key) \u001b[38;5;28;01mfrom\u001b[39;00m \u001b[38;5;21;01merr\u001b[39;00m\n\u001b[0;32m   3799\u001b[0m \u001b[38;5;28;01mexcept\u001b[39;00m \u001b[38;5;167;01mTypeError\u001b[39;00m:\n\u001b[0;32m   3800\u001b[0m     \u001b[38;5;66;03m# If we have a listlike key, _check_indexing_error will raise\u001b[39;00m\n\u001b[0;32m   3801\u001b[0m     \u001b[38;5;66;03m#  InvalidIndexError. Otherwise we fall through and re-raise\u001b[39;00m\n\u001b[0;32m   3802\u001b[0m     \u001b[38;5;66;03m#  the TypeError.\u001b[39;00m\n\u001b[0;32m   3803\u001b[0m     \u001b[38;5;28mself\u001b[39m\u001b[38;5;241m.\u001b[39m_check_indexing_error(key)\n",
      "\u001b[1;31mKeyError\u001b[0m: 'Fish, dry heat, cooked, chum, salmon'"
     ]
    }
   ],
   "source": [
    "nutri.at['Fish, dry heat, cooked, chum, salmon','calories']"
   ]
  },
  {
   "cell_type": "code",
   "execution_count": null,
   "id": "1d99112a-86a7-4966-9d37-50f9210a83b1",
   "metadata": {},
   "outputs": [],
   "source": [
    "unitis = nutrition.astype(str).replace('[^a-zA-Z]','',regex=True)"
   ]
  },
  {
   "cell_type": "code",
   "execution_count": null,
   "id": "c05209ce-6e44-42cb-983b-a1539e75425e",
   "metadata": {},
   "outputs": [],
   "source": [
    "unitis.head()"
   ]
  },
  {
   "cell_type": "code",
   "execution_count": null,
   "id": "4ce54288-2fc3-4acc-82f6-f508b298d5fc",
   "metadata": {},
   "outputs": [],
   "source": [
    "unitis.saturated_fat.value_counts()"
   ]
  },
  {
   "cell_type": "code",
   "execution_count": null,
   "id": "d05b1e9b-3d58-4d08-a1dd-465996df7dbd",
   "metadata": {},
   "outputs": [],
   "source": [
    "unitis.mode()"
   ]
  },
  {
   "cell_type": "code",
   "execution_count": null,
   "id": "3c8844ef-df48-4261-a4ac-a18a53ceead7",
   "metadata": {},
   "outputs": [],
   "source": [
    "unitis = unitis.mode()"
   ]
  },
  {
   "cell_type": "code",
   "execution_count": null,
   "id": "b0c9e6a5-2cee-467b-9588-7db3fe9b07ad",
   "metadata": {},
   "outputs": [],
   "source": [
    "unitis"
   ]
  },
  {
   "cell_type": "code",
   "execution_count": null,
   "id": "506c8921-7892-48e4-a323-fe188d37120e",
   "metadata": {},
   "outputs": [],
   "source": [
    "for k in unitis:\n",
    "    print(unitis[k].at[0])"
   ]
  },
  {
   "cell_type": "code",
   "execution_count": null,
   "id": "4e204275-6aa5-47d8-935d-e2f4917e20f4",
   "metadata": {},
   "outputs": [],
   "source": [
    "unitis = unitis.replace('' ,np.nan).dropna(axis=1)"
   ]
  },
  {
   "cell_type": "code",
   "execution_count": null,
   "id": "abde5984-e9c8-4267-8456-c609f2459570",
   "metadata": {},
   "outputs": [],
   "source": []
  },
  {
   "cell_type": "code",
   "execution_count": null,
   "id": "12239e30-fbf6-4154-ad64-15c79b36feec",
   "metadata": {},
   "outputs": [],
   "source": [
    "mapper = {\n",
    "    k: k+\"_\"+ unitis[k].at[0]  for k in unitis\n",
    "}"
   ]
  },
  {
   "cell_type": "code",
   "execution_count": null,
   "id": "3e6ddd11-6546-4636-9921-bdcc2213d1e4",
   "metadata": {},
   "outputs": [],
   "source": [
    "mapper"
   ]
  },
  {
   "cell_type": "code",
   "execution_count": null,
   "id": "0e4f3d0f-0fd1-40b2-a550-b8741df85ea3",
   "metadata": {},
   "outputs": [],
   "source": [
    "nutrition.rename(columns=mapper, inplace= True)"
   ]
  },
  {
   "cell_type": "code",
   "execution_count": null,
   "id": "081ed707-f4c8-47b6-9bcd-b1498b9cbe1f",
   "metadata": {},
   "outputs": [],
   "source": [
    "nutrition"
   ]
  },
  {
   "cell_type": "code",
   "execution_count": null,
   "id": "767f387c-7330-492f-aea8-2361d648f486",
   "metadata": {},
   "outputs": [],
   "source": [
    "nutrition.head()"
   ]
  },
  {
   "cell_type": "code",
   "execution_count": null,
   "id": "69401fea-a363-48e5-bf95-f9bc970739e9",
   "metadata": {},
   "outputs": [],
   "source": [
    "nutrition.replace(\"[a-zA-Z]\",\"\", regex=True, inplace=True)"
   ]
  },
  {
   "cell_type": "code",
   "execution_count": null,
   "id": "863132dc-620a-45d9-8311-0f7083bc0b06",
   "metadata": {},
   "outputs": [],
   "source": [
    "nutrition.head()"
   ]
  },
  {
   "cell_type": "code",
   "execution_count": null,
   "id": "987c7a3c-7426-4c91-bdb6-95326790a208",
   "metadata": {},
   "outputs": [],
   "source": [
    "nutrition.dtypes.value_counts()"
   ]
  },
  {
   "cell_type": "code",
   "execution_count": null,
   "id": "a81b4755-2f87-4006-b63b-0e733d3511d9",
   "metadata": {},
   "outputs": [],
   "source": [
    "nutrition = nutrition.astype(float)"
   ]
  },
  {
   "cell_type": "code",
   "execution_count": null,
   "id": "c629614b-6d61-4c1c-a34f-4bcf4a7d53a8",
   "metadata": {},
   "outputs": [],
   "source": [
    "nutrition.head()"
   ]
  },
  {
   "cell_type": "code",
   "execution_count": null,
   "id": "6d061378-2ca5-497c-9b8d-f728f16995d8",
   "metadata": {},
   "outputs": [],
   "source": [
    "nutrition.total_fat_g.sum()"
   ]
  },
  {
   "cell_type": "code",
   "execution_count": null,
   "id": "82ebf01c-9dbd-4f09-a85c-3330c991cf69",
   "metadata": {},
   "outputs": [],
   "source": [
    "nutrition.filter(like='octopus',axis=0)"
   ]
  },
  {
   "cell_type": "code",
   "execution_count": null,
   "id": "76a6ccc9-b8d8-4b6e-be5e-1b34069c5d2b",
   "metadata": {},
   "outputs": [],
   "source": [
    "nutrition.filter(regex='[Oo]ctopus',axis=0)"
   ]
  },
  {
   "cell_type": "code",
   "execution_count": null,
   "id": "c035fe93-571f-4684-8dc2-d58c62e0630e",
   "metadata": {},
   "outputs": [],
   "source": [
    "nutrition.filter(regex='(?i)octopus',axis=0)\\\n",
    "         .filter(items=['cholesterol_mg','serving_size_g','calories'],axis=1)"
   ]
  },
  {
   "cell_type": "code",
   "execution_count": null,
   "id": "12f0025c-e4c5-46e2-9e81-3848382835eb",
   "metadata": {},
   "outputs": [],
   "source": [
    "nutrition.vitamin_b12_mcg"
   ]
  },
  {
   "cell_type": "code",
   "execution_count": null,
   "id": "d9c73784-a42d-4517-ad39-65613b7c15ce",
   "metadata": {},
   "outputs": [],
   "source": [
    "type(nutrition.vitamin_b12_mcg)"
   ]
  },
  {
   "cell_type": "code",
   "execution_count": null,
   "id": "abdd8b83-3a62-421d-bb3e-17cc61366d9b",
   "metadata": {},
   "outputs": [],
   "source": [
    "nutrition.vitamin_b12_mcg.sort_values()"
   ]
  },
  {
   "cell_type": "code",
   "execution_count": null,
   "id": "b5a6509b-b901-4cf2-a2bd-f18e8dd307a4",
   "metadata": {},
   "outputs": [],
   "source": [
    "nutrition.sort_values(by='calories', ascending=False)"
   ]
  },
  {
   "cell_type": "code",
   "execution_count": null,
   "id": "174b57df-d140-4b2a-84da-be27f388feab",
   "metadata": {},
   "outputs": [],
   "source": [
    "nutrition[nutrition.calories.between(20,60)].sample(4)"
   ]
  },
  {
   "cell_type": "code",
   "execution_count": null,
   "id": "77fe60e1-851a-4f96-abe0-0cde56edcc82",
   "metadata": {},
   "outputs": [],
   "source": [
    "nutrition.vitamin_b12_mcg.nlargest(10)"
   ]
  },
  {
   "cell_type": "code",
   "execution_count": null,
   "id": "f3d15562-f685-48ec-8f77-b417d24f48ac",
   "metadata": {},
   "outputs": [],
   "source": [
    "nutrition.filter(regex='(?i)Eggplant',axis= 0).sodium_mg.nlargest(1)"
   ]
  },
  {
   "cell_type": "code",
   "execution_count": null,
   "id": "f7e39897-297d-494b-92f0-1d5c5536d954",
   "metadata": {},
   "outputs": [],
   "source": [
    "nutrition.sample(4).sample(2,axis=1)"
   ]
  },
  {
   "cell_type": "code",
   "execution_count": null,
   "id": "75ebf9ff-c4c2-42b8-be2c-699ef0b77963",
   "metadata": {},
   "outputs": [],
   "source": [
    "nutrition.describe()"
   ]
  },
  {
   "cell_type": "code",
   "execution_count": null,
   "id": "78a7d1bc-3c70-4167-955f-77cb35b3f4b1",
   "metadata": {},
   "outputs": [],
   "source": [
    "nutrition.dropna(how='any',inplace=True ,axis=0)"
   ]
  },
  {
   "cell_type": "code",
   "execution_count": null,
   "id": "fc3e9a92-1403-4ea4-a761-c4906f98431d",
   "metadata": {},
   "outputs": [],
   "source": [
    "nutrition[nutrition.vitamin_c_mg.between(20,40)].calories.nsmallest(1)"
   ]
  },
  {
   "cell_type": "code",
   "execution_count": null,
   "id": "048fb4d2-17bf-482a-93e2-14056e665d3f",
   "metadata": {},
   "outputs": [],
   "source": [
    "m = nutrition.vitamin_c_mg.mean()"
   ]
  },
  {
   "cell_type": "code",
   "execution_count": null,
   "id": "9d90932c-3f5b-4db5-b517-cef3a91d70b4",
   "metadata": {},
   "outputs": [],
   "source": [
    "m"
   ]
  },
  {
   "cell_type": "code",
   "execution_count": null,
   "id": "5934cd28-0d81-4a4d-bcc3-672db47a28e5",
   "metadata": {},
   "outputs": [],
   "source": [
    "mp2sd = m + nutrition.vitamin_c_mg.std() *2"
   ]
  },
  {
   "cell_type": "code",
   "execution_count": null,
   "id": "119e0417-64a6-4b0e-a2fb-04ba7fbd8971",
   "metadata": {},
   "outputs": [],
   "source": [
    "mp2sd"
   ]
  },
  {
   "cell_type": "code",
   "execution_count": null,
   "id": "de26e340-84ec-4b2c-b6bc-7652a9c85d12",
   "metadata": {},
   "outputs": [],
   "source": [
    "mp3sd = m + nutrition.vitamin_c_mg.std() *3"
   ]
  },
  {
   "cell_type": "code",
   "execution_count": null,
   "id": "27e27c46-5bca-43df-9fa3-29a8faca9a45",
   "metadata": {},
   "outputs": [],
   "source": [
    "m,mp2sd,mp3sd"
   ]
  },
  {
   "cell_type": "code",
   "execution_count": null,
   "id": "25df46a5-7ce3-456c-b9f3-d74b176e65ec",
   "metadata": {},
   "outputs": [],
   "source": [
    "nutrition[nutrition.vitamin_c_mg.between(mp2sd,mp3sd)]"
   ]
  },
  {
   "cell_type": "code",
   "execution_count": null,
   "id": "a6c26a89-d761-485f-ab1a-ba40519e1969",
   "metadata": {},
   "outputs": [],
   "source": []
  }
 ],
 "metadata": {
  "kernelspec": {
   "display_name": "Python 3 (ipykernel)",
   "language": "python",
   "name": "python3"
  },
  "language_info": {
   "codemirror_mode": {
    "name": "ipython",
    "version": 3
   },
   "file_extension": ".py",
   "mimetype": "text/x-python",
   "name": "python",
   "nbconvert_exporter": "python",
   "pygments_lexer": "ipython3",
   "version": "3.11.7"
  }
 },
 "nbformat": 4,
 "nbformat_minor": 5
}
