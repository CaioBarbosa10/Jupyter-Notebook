{
 "cells": [
  {
   "cell_type": "code",
   "execution_count": 22,
   "metadata": {
    "colab": {},
    "colab_type": "code",
    "id": "KCVwkteGFvwL"
   },
   "outputs": [],
   "source": [
    "import numpy as np\n",
    "import pandas as pd"
   ]
  },
  {
   "cell_type": "code",
   "execution_count": 23,
   "metadata": {
    "colab": {
     "base_uri": "https://localhost:8080/",
     "height": 34
    },
    "colab_type": "code",
    "id": "uZql6sT6Nokn",
    "outputId": "0200bdb0-6b14-4dc0-b307-189186a4e18e"
   },
   "outputs": [
    {
     "data": {
      "text/plain": [
       "'2.1.4'"
      ]
     },
     "execution_count": 23,
     "metadata": {},
     "output_type": "execute_result"
    }
   ],
   "source": [
    "pd.__version__"
   ]
  },
  {
   "cell_type": "markdown",
   "metadata": {
    "colab_type": "text",
    "id": "kNS1MVY4UZGb"
   },
   "source": [
    "#### Introducing A New Dataset"
   ]
  },
  {
   "cell_type": "code",
   "execution_count": 24,
   "metadata": {
    "colab": {},
    "colab_type": "code",
    "id": "VZOwldYJUb5A"
   },
   "outputs": [],
   "source": [
    "\n",
    "# NEW DATA!\n",
    "# - English Premier League soccer players\n",
    "# - 400+ players x 17 attributes\n"
   ]
  },
  {
   "cell_type": "code",
   "execution_count": 25,
   "metadata": {
    "colab": {},
    "colab_type": "code",
    "id": "l6EFMSXpdwpK"
   },
   "outputs": [],
   "source": [
    "data_url = 'https://andybek.com/pandas-soccer' # as always, this will be attached too!"
   ]
  },
  {
   "cell_type": "code",
   "execution_count": 26,
   "metadata": {
    "colab": {},
    "colab_type": "code",
    "id": "XaTqc2b6gbrV"
   },
   "outputs": [],
   "source": [
    "players = pd.read_csv(data_url)"
   ]
  },
  {
   "cell_type": "code",
   "execution_count": 27,
   "metadata": {
    "colab": {
     "base_uri": "https://localhost:8080/",
     "height": 0
    },
    "colab_type": "code",
    "id": "Ye-zarAqhJzu",
    "outputId": "e9ceda71-2ded-40e0-d11e-a267bc733623"
   },
   "outputs": [
    {
     "name": "stdout",
     "output_type": "stream",
     "text": [
      "<class 'pandas.core.frame.DataFrame'>\n",
      "RangeIndex: 465 entries, 0 to 464\n",
      "Columns: 17 entries, name to new_signing\n",
      "dtypes: float64(2), int64(10), object(5)\n",
      "memory usage: 190.7 KB\n"
     ]
    }
   ],
   "source": [
    "players.info(verbose=False, memory_usage='deep')"
   ]
  },
  {
   "cell_type": "code",
   "execution_count": 28,
   "metadata": {
    "colab": {
     "base_uri": "https://localhost:8080/",
     "height": 0
    },
    "colab_type": "code",
    "id": "1TYqejtXhVlz",
    "outputId": "480706dd-b4fc-424c-cbfb-9a8269611329"
   },
   "outputs": [
    {
     "data": {
      "text/plain": [
       "int64      10\n",
       "object      5\n",
       "float64     2\n",
       "Name: count, dtype: int64"
      ]
     },
     "execution_count": 28,
     "metadata": {},
     "output_type": "execute_result"
    }
   ],
   "source": [
    "players.dtypes.value_counts()"
   ]
  },
  {
   "cell_type": "code",
   "execution_count": 29,
   "metadata": {
    "colab": {
     "base_uri": "https://localhost:8080/",
     "height": 0
    },
    "colab_type": "code",
    "id": "9V5zTc-Khd4y",
    "outputId": "001db6a5-117c-4703-ab57-d040e738b25c"
   },
   "outputs": [
    {
     "data": {
      "text/html": [
       "<div>\n",
       "<style scoped>\n",
       "    .dataframe tbody tr th:only-of-type {\n",
       "        vertical-align: middle;\n",
       "    }\n",
       "\n",
       "    .dataframe tbody tr th {\n",
       "        vertical-align: top;\n",
       "    }\n",
       "\n",
       "    .dataframe thead th {\n",
       "        text-align: right;\n",
       "    }\n",
       "</style>\n",
       "<table border=\"1\" class=\"dataframe\">\n",
       "  <thead>\n",
       "    <tr style=\"text-align: right;\">\n",
       "      <th></th>\n",
       "      <th>name</th>\n",
       "      <th>club</th>\n",
       "      <th>age</th>\n",
       "      <th>position</th>\n",
       "      <th>position_cat</th>\n",
       "      <th>market_value</th>\n",
       "      <th>page_views</th>\n",
       "      <th>fpl_value</th>\n",
       "      <th>fpl_sel</th>\n",
       "      <th>fpl_points</th>\n",
       "      <th>region</th>\n",
       "      <th>nationality</th>\n",
       "      <th>new_foreign</th>\n",
       "      <th>age_cat</th>\n",
       "      <th>club_id</th>\n",
       "      <th>big_club</th>\n",
       "      <th>new_signing</th>\n",
       "    </tr>\n",
       "  </thead>\n",
       "  <tbody>\n",
       "    <tr>\n",
       "      <th>0</th>\n",
       "      <td>Alexis Sanchez</td>\n",
       "      <td>Arsenal</td>\n",
       "      <td>28</td>\n",
       "      <td>LW</td>\n",
       "      <td>1</td>\n",
       "      <td>65.0</td>\n",
       "      <td>4329</td>\n",
       "      <td>12.0</td>\n",
       "      <td>17.10%</td>\n",
       "      <td>264</td>\n",
       "      <td>3</td>\n",
       "      <td>Chile</td>\n",
       "      <td>0</td>\n",
       "      <td>4</td>\n",
       "      <td>1</td>\n",
       "      <td>1</td>\n",
       "      <td>0</td>\n",
       "    </tr>\n",
       "    <tr>\n",
       "      <th>1</th>\n",
       "      <td>Mesut Ozil</td>\n",
       "      <td>Arsenal</td>\n",
       "      <td>28</td>\n",
       "      <td>AM</td>\n",
       "      <td>1</td>\n",
       "      <td>50.0</td>\n",
       "      <td>4395</td>\n",
       "      <td>9.5</td>\n",
       "      <td>5.60%</td>\n",
       "      <td>167</td>\n",
       "      <td>2</td>\n",
       "      <td>Germany</td>\n",
       "      <td>0</td>\n",
       "      <td>4</td>\n",
       "      <td>1</td>\n",
       "      <td>1</td>\n",
       "      <td>0</td>\n",
       "    </tr>\n",
       "    <tr>\n",
       "      <th>2</th>\n",
       "      <td>Petr Cech</td>\n",
       "      <td>Arsenal</td>\n",
       "      <td>35</td>\n",
       "      <td>GK</td>\n",
       "      <td>4</td>\n",
       "      <td>7.0</td>\n",
       "      <td>1529</td>\n",
       "      <td>5.5</td>\n",
       "      <td>5.90%</td>\n",
       "      <td>134</td>\n",
       "      <td>2</td>\n",
       "      <td>Czech Republic</td>\n",
       "      <td>0</td>\n",
       "      <td>6</td>\n",
       "      <td>1</td>\n",
       "      <td>1</td>\n",
       "      <td>0</td>\n",
       "    </tr>\n",
       "    <tr>\n",
       "      <th>3</th>\n",
       "      <td>Theo Walcott</td>\n",
       "      <td>Arsenal</td>\n",
       "      <td>28</td>\n",
       "      <td>RW</td>\n",
       "      <td>1</td>\n",
       "      <td>20.0</td>\n",
       "      <td>2393</td>\n",
       "      <td>7.5</td>\n",
       "      <td>1.50%</td>\n",
       "      <td>122</td>\n",
       "      <td>1</td>\n",
       "      <td>England</td>\n",
       "      <td>0</td>\n",
       "      <td>4</td>\n",
       "      <td>1</td>\n",
       "      <td>1</td>\n",
       "      <td>0</td>\n",
       "    </tr>\n",
       "    <tr>\n",
       "      <th>4</th>\n",
       "      <td>Laurent Koscielny</td>\n",
       "      <td>Arsenal</td>\n",
       "      <td>31</td>\n",
       "      <td>CB</td>\n",
       "      <td>3</td>\n",
       "      <td>22.0</td>\n",
       "      <td>912</td>\n",
       "      <td>6.0</td>\n",
       "      <td>0.70%</td>\n",
       "      <td>121</td>\n",
       "      <td>2</td>\n",
       "      <td>France</td>\n",
       "      <td>0</td>\n",
       "      <td>4</td>\n",
       "      <td>1</td>\n",
       "      <td>1</td>\n",
       "      <td>0</td>\n",
       "    </tr>\n",
       "  </tbody>\n",
       "</table>\n",
       "</div>"
      ],
      "text/plain": [
       "                name     club  age position  position_cat  market_value  \\\n",
       "0     Alexis Sanchez  Arsenal   28       LW             1          65.0   \n",
       "1         Mesut Ozil  Arsenal   28       AM             1          50.0   \n",
       "2          Petr Cech  Arsenal   35       GK             4           7.0   \n",
       "3       Theo Walcott  Arsenal   28       RW             1          20.0   \n",
       "4  Laurent Koscielny  Arsenal   31       CB             3          22.0   \n",
       "\n",
       "   page_views  fpl_value fpl_sel  fpl_points  region     nationality  \\\n",
       "0        4329       12.0  17.10%         264       3           Chile   \n",
       "1        4395        9.5   5.60%         167       2         Germany   \n",
       "2        1529        5.5   5.90%         134       2  Czech Republic   \n",
       "3        2393        7.5   1.50%         122       1         England   \n",
       "4         912        6.0   0.70%         121       2          France   \n",
       "\n",
       "   new_foreign  age_cat  club_id  big_club  new_signing  \n",
       "0            0        4        1         1            0  \n",
       "1            0        4        1         1            0  \n",
       "2            0        6        1         1            0  \n",
       "3            0        4        1         1            0  \n",
       "4            0        4        1         1            0  "
      ]
     },
     "execution_count": 29,
     "metadata": {},
     "output_type": "execute_result"
    }
   ],
   "source": [
    "players.head()"
   ]
  },
  {
   "cell_type": "markdown",
   "metadata": {
    "colab_type": "text",
    "id": "A-wHK16ahqY2"
   },
   "source": [
    "#### Quick Review: Indexing With Boolean Masks"
   ]
  },
  {
   "cell_type": "code",
   "execution_count": 30,
   "metadata": {
    "colab": {},
    "colab_type": "code",
    "id": "unqD_ORWObLt"
   },
   "outputs": [],
   "source": [
    "# boolean indexing:\n",
    "#   step 1: generate sequence of booleans\n",
    "#   step 2: use boolean sequence in [] or .loc[]"
   ]
  },
  {
   "cell_type": "code",
   "execution_count": 31,
   "metadata": {
    "colab": {
     "base_uri": "https://localhost:8080/",
     "height": 0
    },
    "colab_type": "code",
    "id": "2ct5nVbZP7dP",
    "outputId": "74149e6d-2364-4ce1-a058-53465aad0e2c"
   },
   "outputs": [
    {
     "data": {
      "text/html": [
       "<div>\n",
       "<style scoped>\n",
       "    .dataframe tbody tr th:only-of-type {\n",
       "        vertical-align: middle;\n",
       "    }\n",
       "\n",
       "    .dataframe tbody tr th {\n",
       "        vertical-align: top;\n",
       "    }\n",
       "\n",
       "    .dataframe thead th {\n",
       "        text-align: right;\n",
       "    }\n",
       "</style>\n",
       "<table border=\"1\" class=\"dataframe\">\n",
       "  <thead>\n",
       "    <tr style=\"text-align: right;\">\n",
       "      <th></th>\n",
       "      <th>name</th>\n",
       "      <th>club</th>\n",
       "      <th>age</th>\n",
       "      <th>position</th>\n",
       "      <th>position_cat</th>\n",
       "      <th>market_value</th>\n",
       "      <th>page_views</th>\n",
       "      <th>fpl_value</th>\n",
       "      <th>fpl_sel</th>\n",
       "      <th>fpl_points</th>\n",
       "      <th>region</th>\n",
       "      <th>nationality</th>\n",
       "      <th>new_foreign</th>\n",
       "      <th>age_cat</th>\n",
       "      <th>club_id</th>\n",
       "      <th>big_club</th>\n",
       "      <th>new_signing</th>\n",
       "    </tr>\n",
       "  </thead>\n",
       "  <tbody>\n",
       "    <tr>\n",
       "      <th>0</th>\n",
       "      <td>Alexis Sanchez</td>\n",
       "      <td>Arsenal</td>\n",
       "      <td>28</td>\n",
       "      <td>LW</td>\n",
       "      <td>1</td>\n",
       "      <td>65.0</td>\n",
       "      <td>4329</td>\n",
       "      <td>12.0</td>\n",
       "      <td>17.10%</td>\n",
       "      <td>264</td>\n",
       "      <td>3</td>\n",
       "      <td>Chile</td>\n",
       "      <td>0</td>\n",
       "      <td>4</td>\n",
       "      <td>1</td>\n",
       "      <td>1</td>\n",
       "      <td>0</td>\n",
       "    </tr>\n",
       "    <tr>\n",
       "      <th>1</th>\n",
       "      <td>Mesut Ozil</td>\n",
       "      <td>Arsenal</td>\n",
       "      <td>28</td>\n",
       "      <td>AM</td>\n",
       "      <td>1</td>\n",
       "      <td>50.0</td>\n",
       "      <td>4395</td>\n",
       "      <td>9.5</td>\n",
       "      <td>5.60%</td>\n",
       "      <td>167</td>\n",
       "      <td>2</td>\n",
       "      <td>Germany</td>\n",
       "      <td>0</td>\n",
       "      <td>4</td>\n",
       "      <td>1</td>\n",
       "      <td>1</td>\n",
       "      <td>0</td>\n",
       "    </tr>\n",
       "    <tr>\n",
       "      <th>2</th>\n",
       "      <td>Petr Cech</td>\n",
       "      <td>Arsenal</td>\n",
       "      <td>35</td>\n",
       "      <td>GK</td>\n",
       "      <td>4</td>\n",
       "      <td>7.0</td>\n",
       "      <td>1529</td>\n",
       "      <td>5.5</td>\n",
       "      <td>5.90%</td>\n",
       "      <td>134</td>\n",
       "      <td>2</td>\n",
       "      <td>Czech Republic</td>\n",
       "      <td>0</td>\n",
       "      <td>6</td>\n",
       "      <td>1</td>\n",
       "      <td>1</td>\n",
       "      <td>0</td>\n",
       "    </tr>\n",
       "    <tr>\n",
       "      <th>3</th>\n",
       "      <td>Theo Walcott</td>\n",
       "      <td>Arsenal</td>\n",
       "      <td>28</td>\n",
       "      <td>RW</td>\n",
       "      <td>1</td>\n",
       "      <td>20.0</td>\n",
       "      <td>2393</td>\n",
       "      <td>7.5</td>\n",
       "      <td>1.50%</td>\n",
       "      <td>122</td>\n",
       "      <td>1</td>\n",
       "      <td>England</td>\n",
       "      <td>0</td>\n",
       "      <td>4</td>\n",
       "      <td>1</td>\n",
       "      <td>1</td>\n",
       "      <td>0</td>\n",
       "    </tr>\n",
       "    <tr>\n",
       "      <th>4</th>\n",
       "      <td>Laurent Koscielny</td>\n",
       "      <td>Arsenal</td>\n",
       "      <td>31</td>\n",
       "      <td>CB</td>\n",
       "      <td>3</td>\n",
       "      <td>22.0</td>\n",
       "      <td>912</td>\n",
       "      <td>6.0</td>\n",
       "      <td>0.70%</td>\n",
       "      <td>121</td>\n",
       "      <td>2</td>\n",
       "      <td>France</td>\n",
       "      <td>0</td>\n",
       "      <td>4</td>\n",
       "      <td>1</td>\n",
       "      <td>1</td>\n",
       "      <td>0</td>\n",
       "    </tr>\n",
       "  </tbody>\n",
       "</table>\n",
       "</div>"
      ],
      "text/plain": [
       "                name     club  age position  position_cat  market_value  \\\n",
       "0     Alexis Sanchez  Arsenal   28       LW             1          65.0   \n",
       "1         Mesut Ozil  Arsenal   28       AM             1          50.0   \n",
       "2          Petr Cech  Arsenal   35       GK             4           7.0   \n",
       "3       Theo Walcott  Arsenal   28       RW             1          20.0   \n",
       "4  Laurent Koscielny  Arsenal   31       CB             3          22.0   \n",
       "\n",
       "   page_views  fpl_value fpl_sel  fpl_points  region     nationality  \\\n",
       "0        4329       12.0  17.10%         264       3           Chile   \n",
       "1        4395        9.5   5.60%         167       2         Germany   \n",
       "2        1529        5.5   5.90%         134       2  Czech Republic   \n",
       "3        2393        7.5   1.50%         122       1         England   \n",
       "4         912        6.0   0.70%         121       2          France   \n",
       "\n",
       "   new_foreign  age_cat  club_id  big_club  new_signing  \n",
       "0            0        4        1         1            0  \n",
       "1            0        4        1         1            0  \n",
       "2            0        6        1         1            0  \n",
       "3            0        4        1         1            0  \n",
       "4            0        4        1         1            0  "
      ]
     },
     "execution_count": 31,
     "metadata": {},
     "output_type": "execute_result"
    }
   ],
   "source": [
    "players.head()"
   ]
  },
  {
   "cell_type": "code",
   "execution_count": 32,
   "metadata": {
    "colab": {},
    "colab_type": "code",
    "id": "3Am1XAJSQbHR"
   },
   "outputs": [],
   "source": [
    "# Q: what are the players that have a market value exceeding 40M?"
   ]
  },
  {
   "cell_type": "code",
   "execution_count": 33,
   "metadata": {
    "colab": {
     "base_uri": "https://localhost:8080/",
     "height": 0
    },
    "colab_type": "code",
    "id": "CsKmFq3vQh1p",
    "outputId": "e0e04320-0ec8-458c-9b55-b4f072264565"
   },
   "outputs": [
    {
     "data": {
      "text/plain": [
       "0       True\n",
       "1       True\n",
       "2      False\n",
       "3      False\n",
       "4      False\n",
       "       ...  \n",
       "460    False\n",
       "461    False\n",
       "462    False\n",
       "463    False\n",
       "464    False\n",
       "Name: market_value, Length: 465, dtype: bool"
      ]
     },
     "execution_count": 33,
     "metadata": {},
     "output_type": "execute_result"
    }
   ],
   "source": [
    "players.market_value > 40"
   ]
  },
  {
   "cell_type": "code",
   "execution_count": 34,
   "metadata": {
    "colab": {
     "base_uri": "https://localhost:8080/",
     "height": 0
    },
    "colab_type": "code",
    "id": "1nV1GyR-QmB2",
    "outputId": "bc097c30-88e8-452e-e183-138d7d6f0388"
   },
   "outputs": [
    {
     "data": {
      "text/html": [
       "<div>\n",
       "<style scoped>\n",
       "    .dataframe tbody tr th:only-of-type {\n",
       "        vertical-align: middle;\n",
       "    }\n",
       "\n",
       "    .dataframe tbody tr th {\n",
       "        vertical-align: top;\n",
       "    }\n",
       "\n",
       "    .dataframe thead th {\n",
       "        text-align: right;\n",
       "    }\n",
       "</style>\n",
       "<table border=\"1\" class=\"dataframe\">\n",
       "  <thead>\n",
       "    <tr style=\"text-align: right;\">\n",
       "      <th></th>\n",
       "      <th>name</th>\n",
       "      <th>club</th>\n",
       "      <th>age</th>\n",
       "      <th>position</th>\n",
       "      <th>position_cat</th>\n",
       "      <th>market_value</th>\n",
       "      <th>page_views</th>\n",
       "      <th>fpl_value</th>\n",
       "      <th>fpl_sel</th>\n",
       "      <th>fpl_points</th>\n",
       "      <th>region</th>\n",
       "      <th>nationality</th>\n",
       "      <th>new_foreign</th>\n",
       "      <th>age_cat</th>\n",
       "      <th>club_id</th>\n",
       "      <th>big_club</th>\n",
       "      <th>new_signing</th>\n",
       "    </tr>\n",
       "  </thead>\n",
       "  <tbody>\n",
       "    <tr>\n",
       "      <th>0</th>\n",
       "      <td>Alexis Sanchez</td>\n",
       "      <td>Arsenal</td>\n",
       "      <td>28</td>\n",
       "      <td>LW</td>\n",
       "      <td>1</td>\n",
       "      <td>65.0</td>\n",
       "      <td>4329</td>\n",
       "      <td>12.0</td>\n",
       "      <td>17.10%</td>\n",
       "      <td>264</td>\n",
       "      <td>3</td>\n",
       "      <td>Chile</td>\n",
       "      <td>0</td>\n",
       "      <td>4</td>\n",
       "      <td>1</td>\n",
       "      <td>1</td>\n",
       "      <td>0</td>\n",
       "    </tr>\n",
       "    <tr>\n",
       "      <th>1</th>\n",
       "      <td>Mesut Ozil</td>\n",
       "      <td>Arsenal</td>\n",
       "      <td>28</td>\n",
       "      <td>AM</td>\n",
       "      <td>1</td>\n",
       "      <td>50.0</td>\n",
       "      <td>4395</td>\n",
       "      <td>9.5</td>\n",
       "      <td>5.60%</td>\n",
       "      <td>167</td>\n",
       "      <td>2</td>\n",
       "      <td>Germany</td>\n",
       "      <td>0</td>\n",
       "      <td>4</td>\n",
       "      <td>1</td>\n",
       "      <td>1</td>\n",
       "      <td>0</td>\n",
       "    </tr>\n",
       "    <tr>\n",
       "      <th>96</th>\n",
       "      <td>Eden Hazard</td>\n",
       "      <td>Chelsea</td>\n",
       "      <td>26</td>\n",
       "      <td>LW</td>\n",
       "      <td>1</td>\n",
       "      <td>75.0</td>\n",
       "      <td>4220</td>\n",
       "      <td>10.5</td>\n",
       "      <td>2.30%</td>\n",
       "      <td>224</td>\n",
       "      <td>2</td>\n",
       "      <td>Belgium</td>\n",
       "      <td>0</td>\n",
       "      <td>3</td>\n",
       "      <td>5</td>\n",
       "      <td>1</td>\n",
       "      <td>0</td>\n",
       "    </tr>\n",
       "    <tr>\n",
       "      <th>97</th>\n",
       "      <td>Diego Costa</td>\n",
       "      <td>Chelsea</td>\n",
       "      <td>28</td>\n",
       "      <td>CF</td>\n",
       "      <td>1</td>\n",
       "      <td>50.0</td>\n",
       "      <td>4454</td>\n",
       "      <td>10.0</td>\n",
       "      <td>3.00%</td>\n",
       "      <td>196</td>\n",
       "      <td>2</td>\n",
       "      <td>Spain</td>\n",
       "      <td>0</td>\n",
       "      <td>4</td>\n",
       "      <td>5</td>\n",
       "      <td>1</td>\n",
       "      <td>0</td>\n",
       "    </tr>\n",
       "    <tr>\n",
       "      <th>108</th>\n",
       "      <td>N%27Golo Kante</td>\n",
       "      <td>Chelsea</td>\n",
       "      <td>26</td>\n",
       "      <td>DM</td>\n",
       "      <td>2</td>\n",
       "      <td>50.0</td>\n",
       "      <td>4042</td>\n",
       "      <td>5.0</td>\n",
       "      <td>13.80%</td>\n",
       "      <td>83</td>\n",
       "      <td>2</td>\n",
       "      <td>France</td>\n",
       "      <td>0</td>\n",
       "      <td>3</td>\n",
       "      <td>5</td>\n",
       "      <td>1</td>\n",
       "      <td>1</td>\n",
       "    </tr>\n",
       "    <tr>\n",
       "      <th>218</th>\n",
       "      <td>Philippe Coutinho</td>\n",
       "      <td>Liverpool</td>\n",
       "      <td>25</td>\n",
       "      <td>AM</td>\n",
       "      <td>1</td>\n",
       "      <td>45.0</td>\n",
       "      <td>2958</td>\n",
       "      <td>9.0</td>\n",
       "      <td>30.80%</td>\n",
       "      <td>171</td>\n",
       "      <td>3</td>\n",
       "      <td>Brazil</td>\n",
       "      <td>0</td>\n",
       "      <td>3</td>\n",
       "      <td>10</td>\n",
       "      <td>1</td>\n",
       "      <td>0</td>\n",
       "    </tr>\n",
       "    <tr>\n",
       "      <th>244</th>\n",
       "      <td>Kevin De Bruyne</td>\n",
       "      <td>Manchester+City</td>\n",
       "      <td>26</td>\n",
       "      <td>AM</td>\n",
       "      <td>1</td>\n",
       "      <td>65.0</td>\n",
       "      <td>2252</td>\n",
       "      <td>10.0</td>\n",
       "      <td>17.50%</td>\n",
       "      <td>199</td>\n",
       "      <td>2</td>\n",
       "      <td>Belgium</td>\n",
       "      <td>0</td>\n",
       "      <td>3</td>\n",
       "      <td>11</td>\n",
       "      <td>1</td>\n",
       "      <td>0</td>\n",
       "    </tr>\n",
       "    <tr>\n",
       "      <th>245</th>\n",
       "      <td>Sergio Aguero</td>\n",
       "      <td>Manchester+City</td>\n",
       "      <td>29</td>\n",
       "      <td>CF</td>\n",
       "      <td>1</td>\n",
       "      <td>65.0</td>\n",
       "      <td>4046</td>\n",
       "      <td>11.5</td>\n",
       "      <td>9.70%</td>\n",
       "      <td>175</td>\n",
       "      <td>3</td>\n",
       "      <td>Argentina</td>\n",
       "      <td>0</td>\n",
       "      <td>4</td>\n",
       "      <td>11</td>\n",
       "      <td>1</td>\n",
       "      <td>0</td>\n",
       "    </tr>\n",
       "    <tr>\n",
       "      <th>246</th>\n",
       "      <td>Raheem Sterling</td>\n",
       "      <td>Manchester+City</td>\n",
       "      <td>22</td>\n",
       "      <td>LW</td>\n",
       "      <td>1</td>\n",
       "      <td>45.0</td>\n",
       "      <td>2074</td>\n",
       "      <td>8.0</td>\n",
       "      <td>3.80%</td>\n",
       "      <td>149</td>\n",
       "      <td>1</td>\n",
       "      <td>England</td>\n",
       "      <td>0</td>\n",
       "      <td>2</td>\n",
       "      <td>11</td>\n",
       "      <td>1</td>\n",
       "      <td>0</td>\n",
       "    </tr>\n",
       "    <tr>\n",
       "      <th>264</th>\n",
       "      <td>Romelu Lukaku</td>\n",
       "      <td>Manchester+United</td>\n",
       "      <td>24</td>\n",
       "      <td>CF</td>\n",
       "      <td>1</td>\n",
       "      <td>50.0</td>\n",
       "      <td>3727</td>\n",
       "      <td>11.5</td>\n",
       "      <td>45.00%</td>\n",
       "      <td>221</td>\n",
       "      <td>2</td>\n",
       "      <td>Belgium</td>\n",
       "      <td>0</td>\n",
       "      <td>2</td>\n",
       "      <td>12</td>\n",
       "      <td>1</td>\n",
       "      <td>0</td>\n",
       "    </tr>\n",
       "    <tr>\n",
       "      <th>267</th>\n",
       "      <td>Paul Pogba</td>\n",
       "      <td>Manchester+United</td>\n",
       "      <td>24</td>\n",
       "      <td>CM</td>\n",
       "      <td>2</td>\n",
       "      <td>75.0</td>\n",
       "      <td>7435</td>\n",
       "      <td>8.0</td>\n",
       "      <td>19.50%</td>\n",
       "      <td>115</td>\n",
       "      <td>2</td>\n",
       "      <td>France</td>\n",
       "      <td>0</td>\n",
       "      <td>2</td>\n",
       "      <td>12</td>\n",
       "      <td>1</td>\n",
       "      <td>1</td>\n",
       "    </tr>\n",
       "    <tr>\n",
       "      <th>380</th>\n",
       "      <td>Dele Alli</td>\n",
       "      <td>Tottenham</td>\n",
       "      <td>21</td>\n",
       "      <td>CM</td>\n",
       "      <td>2</td>\n",
       "      <td>45.0</td>\n",
       "      <td>4626</td>\n",
       "      <td>9.5</td>\n",
       "      <td>38.60%</td>\n",
       "      <td>225</td>\n",
       "      <td>1</td>\n",
       "      <td>England</td>\n",
       "      <td>0</td>\n",
       "      <td>1</td>\n",
       "      <td>17</td>\n",
       "      <td>1</td>\n",
       "      <td>0</td>\n",
       "    </tr>\n",
       "    <tr>\n",
       "      <th>381</th>\n",
       "      <td>Harry Kane</td>\n",
       "      <td>Tottenham</td>\n",
       "      <td>23</td>\n",
       "      <td>CF</td>\n",
       "      <td>1</td>\n",
       "      <td>60.0</td>\n",
       "      <td>4161</td>\n",
       "      <td>12.5</td>\n",
       "      <td>35.10%</td>\n",
       "      <td>224</td>\n",
       "      <td>1</td>\n",
       "      <td>England</td>\n",
       "      <td>0</td>\n",
       "      <td>2</td>\n",
       "      <td>17</td>\n",
       "      <td>1</td>\n",
       "      <td>0</td>\n",
       "    </tr>\n",
       "  </tbody>\n",
       "</table>\n",
       "</div>"
      ],
      "text/plain": [
       "                  name               club  age position  position_cat  \\\n",
       "0       Alexis Sanchez            Arsenal   28       LW             1   \n",
       "1           Mesut Ozil            Arsenal   28       AM             1   \n",
       "96         Eden Hazard            Chelsea   26       LW             1   \n",
       "97         Diego Costa            Chelsea   28       CF             1   \n",
       "108     N%27Golo Kante            Chelsea   26       DM             2   \n",
       "218  Philippe Coutinho          Liverpool   25       AM             1   \n",
       "244    Kevin De Bruyne    Manchester+City   26       AM             1   \n",
       "245      Sergio Aguero    Manchester+City   29       CF             1   \n",
       "246    Raheem Sterling    Manchester+City   22       LW             1   \n",
       "264      Romelu Lukaku  Manchester+United   24       CF             1   \n",
       "267         Paul Pogba  Manchester+United   24       CM             2   \n",
       "380          Dele Alli          Tottenham   21       CM             2   \n",
       "381         Harry Kane          Tottenham   23       CF             1   \n",
       "\n",
       "     market_value  page_views  fpl_value fpl_sel  fpl_points  region  \\\n",
       "0            65.0        4329       12.0  17.10%         264       3   \n",
       "1            50.0        4395        9.5   5.60%         167       2   \n",
       "96           75.0        4220       10.5   2.30%         224       2   \n",
       "97           50.0        4454       10.0   3.00%         196       2   \n",
       "108          50.0        4042        5.0  13.80%          83       2   \n",
       "218          45.0        2958        9.0  30.80%         171       3   \n",
       "244          65.0        2252       10.0  17.50%         199       2   \n",
       "245          65.0        4046       11.5   9.70%         175       3   \n",
       "246          45.0        2074        8.0   3.80%         149       1   \n",
       "264          50.0        3727       11.5  45.00%         221       2   \n",
       "267          75.0        7435        8.0  19.50%         115       2   \n",
       "380          45.0        4626        9.5  38.60%         225       1   \n",
       "381          60.0        4161       12.5  35.10%         224       1   \n",
       "\n",
       "    nationality  new_foreign  age_cat  club_id  big_club  new_signing  \n",
       "0         Chile            0        4        1         1            0  \n",
       "1       Germany            0        4        1         1            0  \n",
       "96      Belgium            0        3        5         1            0  \n",
       "97        Spain            0        4        5         1            0  \n",
       "108      France            0        3        5         1            1  \n",
       "218      Brazil            0        3       10         1            0  \n",
       "244     Belgium            0        3       11         1            0  \n",
       "245   Argentina            0        4       11         1            0  \n",
       "246     England            0        2       11         1            0  \n",
       "264     Belgium            0        2       12         1            0  \n",
       "267      France            0        2       12         1            1  \n",
       "380     England            0        1       17         1            0  \n",
       "381     England            0        2       17         1            0  "
      ]
     },
     "execution_count": 34,
     "metadata": {},
     "output_type": "execute_result"
    }
   ],
   "source": [
    "players[players.market_value > 40]"
   ]
  },
  {
   "cell_type": "code",
   "execution_count": 35,
   "metadata": {
    "colab": {
     "base_uri": "https://localhost:8080/",
     "height": 0
    },
    "colab_type": "code",
    "id": "kl20O-CvQzcO",
    "outputId": "6bb9948d-5328-4de5-bfec-9f32383acb53"
   },
   "outputs": [
    {
     "data": {
      "text/plain": [
       "(13, 17)"
      ]
     },
     "execution_count": 35,
     "metadata": {},
     "output_type": "execute_result"
    }
   ],
   "source": [
    "players[players.market_value > 40].shape"
   ]
  },
  {
   "cell_type": "markdown",
   "metadata": {
    "colab_type": "text",
    "id": "GzTO9Y3fQ4DF"
   },
   "source": [
    "#### More Approaches To Boolean Masking"
   ]
  },
  {
   "cell_type": "code",
   "execution_count": 36,
   "metadata": {
    "colab": {
     "base_uri": "https://localhost:8080/",
     "height": 0
    },
    "colab_type": "code",
    "id": "SKv-RAX5X7bE",
    "outputId": "690fdef7-f1a1-4d3b-d518-e881ec686562"
   },
   "outputs": [
    {
     "data": {
      "text/html": [
       "<div>\n",
       "<style scoped>\n",
       "    .dataframe tbody tr th:only-of-type {\n",
       "        vertical-align: middle;\n",
       "    }\n",
       "\n",
       "    .dataframe tbody tr th {\n",
       "        vertical-align: top;\n",
       "    }\n",
       "\n",
       "    .dataframe thead th {\n",
       "        text-align: right;\n",
       "    }\n",
       "</style>\n",
       "<table border=\"1\" class=\"dataframe\">\n",
       "  <thead>\n",
       "    <tr style=\"text-align: right;\">\n",
       "      <th></th>\n",
       "      <th>name</th>\n",
       "      <th>club</th>\n",
       "      <th>age</th>\n",
       "      <th>position</th>\n",
       "      <th>position_cat</th>\n",
       "      <th>market_value</th>\n",
       "      <th>page_views</th>\n",
       "      <th>fpl_value</th>\n",
       "      <th>fpl_sel</th>\n",
       "      <th>fpl_points</th>\n",
       "      <th>region</th>\n",
       "      <th>nationality</th>\n",
       "      <th>new_foreign</th>\n",
       "      <th>age_cat</th>\n",
       "      <th>club_id</th>\n",
       "      <th>big_club</th>\n",
       "      <th>new_signing</th>\n",
       "    </tr>\n",
       "  </thead>\n",
       "  <tbody>\n",
       "    <tr>\n",
       "      <th>0</th>\n",
       "      <td>Alexis Sanchez</td>\n",
       "      <td>Arsenal</td>\n",
       "      <td>28</td>\n",
       "      <td>LW</td>\n",
       "      <td>1</td>\n",
       "      <td>65.0</td>\n",
       "      <td>4329</td>\n",
       "      <td>12.0</td>\n",
       "      <td>17.10%</td>\n",
       "      <td>264</td>\n",
       "      <td>3</td>\n",
       "      <td>Chile</td>\n",
       "      <td>0</td>\n",
       "      <td>4</td>\n",
       "      <td>1</td>\n",
       "      <td>1</td>\n",
       "      <td>0</td>\n",
       "    </tr>\n",
       "    <tr>\n",
       "      <th>1</th>\n",
       "      <td>Mesut Ozil</td>\n",
       "      <td>Arsenal</td>\n",
       "      <td>28</td>\n",
       "      <td>AM</td>\n",
       "      <td>1</td>\n",
       "      <td>50.0</td>\n",
       "      <td>4395</td>\n",
       "      <td>9.5</td>\n",
       "      <td>5.60%</td>\n",
       "      <td>167</td>\n",
       "      <td>2</td>\n",
       "      <td>Germany</td>\n",
       "      <td>0</td>\n",
       "      <td>4</td>\n",
       "      <td>1</td>\n",
       "      <td>1</td>\n",
       "      <td>0</td>\n",
       "    </tr>\n",
       "    <tr>\n",
       "      <th>2</th>\n",
       "      <td>Petr Cech</td>\n",
       "      <td>Arsenal</td>\n",
       "      <td>35</td>\n",
       "      <td>GK</td>\n",
       "      <td>4</td>\n",
       "      <td>7.0</td>\n",
       "      <td>1529</td>\n",
       "      <td>5.5</td>\n",
       "      <td>5.90%</td>\n",
       "      <td>134</td>\n",
       "      <td>2</td>\n",
       "      <td>Czech Republic</td>\n",
       "      <td>0</td>\n",
       "      <td>6</td>\n",
       "      <td>1</td>\n",
       "      <td>1</td>\n",
       "      <td>0</td>\n",
       "    </tr>\n",
       "    <tr>\n",
       "      <th>3</th>\n",
       "      <td>Theo Walcott</td>\n",
       "      <td>Arsenal</td>\n",
       "      <td>28</td>\n",
       "      <td>RW</td>\n",
       "      <td>1</td>\n",
       "      <td>20.0</td>\n",
       "      <td>2393</td>\n",
       "      <td>7.5</td>\n",
       "      <td>1.50%</td>\n",
       "      <td>122</td>\n",
       "      <td>1</td>\n",
       "      <td>England</td>\n",
       "      <td>0</td>\n",
       "      <td>4</td>\n",
       "      <td>1</td>\n",
       "      <td>1</td>\n",
       "      <td>0</td>\n",
       "    </tr>\n",
       "    <tr>\n",
       "      <th>4</th>\n",
       "      <td>Laurent Koscielny</td>\n",
       "      <td>Arsenal</td>\n",
       "      <td>31</td>\n",
       "      <td>CB</td>\n",
       "      <td>3</td>\n",
       "      <td>22.0</td>\n",
       "      <td>912</td>\n",
       "      <td>6.0</td>\n",
       "      <td>0.70%</td>\n",
       "      <td>121</td>\n",
       "      <td>2</td>\n",
       "      <td>France</td>\n",
       "      <td>0</td>\n",
       "      <td>4</td>\n",
       "      <td>1</td>\n",
       "      <td>1</td>\n",
       "      <td>0</td>\n",
       "    </tr>\n",
       "  </tbody>\n",
       "</table>\n",
       "</div>"
      ],
      "text/plain": [
       "                name     club  age position  position_cat  market_value  \\\n",
       "0     Alexis Sanchez  Arsenal   28       LW             1          65.0   \n",
       "1         Mesut Ozil  Arsenal   28       AM             1          50.0   \n",
       "2          Petr Cech  Arsenal   35       GK             4           7.0   \n",
       "3       Theo Walcott  Arsenal   28       RW             1          20.0   \n",
       "4  Laurent Koscielny  Arsenal   31       CB             3          22.0   \n",
       "\n",
       "   page_views  fpl_value fpl_sel  fpl_points  region     nationality  \\\n",
       "0        4329       12.0  17.10%         264       3           Chile   \n",
       "1        4395        9.5   5.60%         167       2         Germany   \n",
       "2        1529        5.5   5.90%         134       2  Czech Republic   \n",
       "3        2393        7.5   1.50%         122       1         England   \n",
       "4         912        6.0   0.70%         121       2          France   \n",
       "\n",
       "   new_foreign  age_cat  club_id  big_club  new_signing  \n",
       "0            0        4        1         1            0  \n",
       "1            0        4        1         1            0  \n",
       "2            0        6        1         1            0  \n",
       "3            0        4        1         1            0  \n",
       "4            0        4        1         1            0  "
      ]
     },
     "execution_count": 36,
     "metadata": {},
     "output_type": "execute_result"
    }
   ],
   "source": [
    "players.head()"
   ]
  },
  {
   "cell_type": "code",
   "execution_count": 37,
   "metadata": {
    "colab": {
     "base_uri": "https://localhost:8080/",
     "height": 0
    },
    "colab_type": "code",
    "id": "Pj0EGUDkX7fA",
    "outputId": "a8f722d7-8fe5-4f19-d2a0-cc2c629a811c"
   },
   "outputs": [
    {
     "data": {
      "text/plain": [
       "array(['LW', 'AM', 'GK', 'RW', 'CB', 'RB', 'CF', 'LB', 'DM', 'RM', 'CM',\n",
       "       nan, 'SS', 'LM'], dtype=object)"
      ]
     },
     "execution_count": 37,
     "metadata": {},
     "output_type": "execute_result"
    }
   ],
   "source": [
    "players.position.unique()"
   ]
  },
  {
   "cell_type": "code",
   "execution_count": 38,
   "metadata": {
    "colab": {
     "base_uri": "https://localhost:8080/",
     "height": 0
    },
    "colab_type": "code",
    "id": "WhrVTymOiKfs",
    "outputId": "d4f9cae2-7556-4b7e-c12c-7fcdf1c78b94"
   },
   "outputs": [
    {
     "data": {
      "text/plain": [
       "14"
      ]
     },
     "execution_count": 38,
     "metadata": {},
     "output_type": "execute_result"
    }
   ],
   "source": [
    "players.position.unique().size"
   ]
  },
  {
   "cell_type": "code",
   "execution_count": 39,
   "metadata": {
    "colab": {},
    "colab_type": "code",
    "id": "354baM58iPfx"
   },
   "outputs": [],
   "source": [
    "# defender codes: LB, CB, RB"
   ]
  },
  {
   "cell_type": "code",
   "execution_count": 40,
   "metadata": {
    "colab": {
     "base_uri": "https://localhost:8080/",
     "height": 0
    },
    "colab_type": "code",
    "id": "OLXycbnMiUkh",
    "outputId": "0072a310-2ef2-4544-b82a-72a27e4fa720"
   },
   "outputs": [
    {
     "data": {
      "text/plain": [
       "0      False\n",
       "1      False\n",
       "2      False\n",
       "3      False\n",
       "4       True\n",
       "       ...  \n",
       "460    False\n",
       "461     True\n",
       "462     True\n",
       "463    False\n",
       "464    False\n",
       "Name: position, Length: 465, dtype: bool"
      ]
     },
     "execution_count": 40,
     "metadata": {},
     "output_type": "execute_result"
    }
   ],
   "source": [
    "players.position.isin(['LB', 'CB', 'RB'])"
   ]
  },
  {
   "cell_type": "code",
   "execution_count": 41,
   "metadata": {
    "colab": {
     "base_uri": "https://localhost:8080/",
     "height": 0
    },
    "colab_type": "code",
    "id": "N0RX5hMPiduc",
    "outputId": "b9a6218b-ebe4-4b67-c315-689e224c969f"
   },
   "outputs": [
    {
     "data": {
      "text/html": [
       "<div>\n",
       "<style scoped>\n",
       "    .dataframe tbody tr th:only-of-type {\n",
       "        vertical-align: middle;\n",
       "    }\n",
       "\n",
       "    .dataframe tbody tr th {\n",
       "        vertical-align: top;\n",
       "    }\n",
       "\n",
       "    .dataframe thead th {\n",
       "        text-align: right;\n",
       "    }\n",
       "</style>\n",
       "<table border=\"1\" class=\"dataframe\">\n",
       "  <thead>\n",
       "    <tr style=\"text-align: right;\">\n",
       "      <th></th>\n",
       "      <th>name</th>\n",
       "      <th>club</th>\n",
       "      <th>age</th>\n",
       "      <th>position</th>\n",
       "      <th>position_cat</th>\n",
       "      <th>market_value</th>\n",
       "      <th>page_views</th>\n",
       "      <th>fpl_value</th>\n",
       "      <th>fpl_sel</th>\n",
       "      <th>fpl_points</th>\n",
       "      <th>region</th>\n",
       "      <th>nationality</th>\n",
       "      <th>new_foreign</th>\n",
       "      <th>age_cat</th>\n",
       "      <th>club_id</th>\n",
       "      <th>big_club</th>\n",
       "      <th>new_signing</th>\n",
       "    </tr>\n",
       "  </thead>\n",
       "  <tbody>\n",
       "    <tr>\n",
       "      <th>4</th>\n",
       "      <td>Laurent Koscielny</td>\n",
       "      <td>Arsenal</td>\n",
       "      <td>31</td>\n",
       "      <td>CB</td>\n",
       "      <td>3</td>\n",
       "      <td>22.0</td>\n",
       "      <td>912</td>\n",
       "      <td>6.0</td>\n",
       "      <td>0.70%</td>\n",
       "      <td>121</td>\n",
       "      <td>2</td>\n",
       "      <td>France</td>\n",
       "      <td>0</td>\n",
       "      <td>4</td>\n",
       "      <td>1</td>\n",
       "      <td>1</td>\n",
       "      <td>0</td>\n",
       "    </tr>\n",
       "    <tr>\n",
       "      <th>5</th>\n",
       "      <td>Hector Bellerin</td>\n",
       "      <td>Arsenal</td>\n",
       "      <td>22</td>\n",
       "      <td>RB</td>\n",
       "      <td>3</td>\n",
       "      <td>30.0</td>\n",
       "      <td>1675</td>\n",
       "      <td>6.0</td>\n",
       "      <td>13.70%</td>\n",
       "      <td>119</td>\n",
       "      <td>2</td>\n",
       "      <td>Spain</td>\n",
       "      <td>0</td>\n",
       "      <td>2</td>\n",
       "      <td>1</td>\n",
       "      <td>1</td>\n",
       "      <td>0</td>\n",
       "    </tr>\n",
       "    <tr>\n",
       "      <th>7</th>\n",
       "      <td>Nacho Monreal</td>\n",
       "      <td>Arsenal</td>\n",
       "      <td>31</td>\n",
       "      <td>LB</td>\n",
       "      <td>3</td>\n",
       "      <td>13.0</td>\n",
       "      <td>555</td>\n",
       "      <td>5.5</td>\n",
       "      <td>4.70%</td>\n",
       "      <td>115</td>\n",
       "      <td>2</td>\n",
       "      <td>Spain</td>\n",
       "      <td>0</td>\n",
       "      <td>4</td>\n",
       "      <td>1</td>\n",
       "      <td>1</td>\n",
       "      <td>0</td>\n",
       "    </tr>\n",
       "    <tr>\n",
       "      <th>8</th>\n",
       "      <td>Shkodran Mustafi</td>\n",
       "      <td>Arsenal</td>\n",
       "      <td>25</td>\n",
       "      <td>CB</td>\n",
       "      <td>3</td>\n",
       "      <td>30.0</td>\n",
       "      <td>1877</td>\n",
       "      <td>5.5</td>\n",
       "      <td>4.00%</td>\n",
       "      <td>90</td>\n",
       "      <td>2</td>\n",
       "      <td>Germany</td>\n",
       "      <td>0</td>\n",
       "      <td>3</td>\n",
       "      <td>1</td>\n",
       "      <td>1</td>\n",
       "      <td>1</td>\n",
       "    </tr>\n",
       "    <tr>\n",
       "      <th>17</th>\n",
       "      <td>Gabriel Paulista</td>\n",
       "      <td>Arsenal</td>\n",
       "      <td>26</td>\n",
       "      <td>CB</td>\n",
       "      <td>3</td>\n",
       "      <td>13.0</td>\n",
       "      <td>552</td>\n",
       "      <td>5.0</td>\n",
       "      <td>0.10%</td>\n",
       "      <td>45</td>\n",
       "      <td>3</td>\n",
       "      <td>Brazil</td>\n",
       "      <td>0</td>\n",
       "      <td>3</td>\n",
       "      <td>1</td>\n",
       "      <td>1</td>\n",
       "      <td>0</td>\n",
       "    </tr>\n",
       "    <tr>\n",
       "      <th>...</th>\n",
       "      <td>...</td>\n",
       "      <td>...</td>\n",
       "      <td>...</td>\n",
       "      <td>...</td>\n",
       "      <td>...</td>\n",
       "      <td>...</td>\n",
       "      <td>...</td>\n",
       "      <td>...</td>\n",
       "      <td>...</td>\n",
       "      <td>...</td>\n",
       "      <td>...</td>\n",
       "      <td>...</td>\n",
       "      <td>...</td>\n",
       "      <td>...</td>\n",
       "      <td>...</td>\n",
       "      <td>...</td>\n",
       "      <td>...</td>\n",
       "    </tr>\n",
       "    <tr>\n",
       "      <th>455</th>\n",
       "      <td>Aaron Cresswell</td>\n",
       "      <td>West+Ham</td>\n",
       "      <td>27</td>\n",
       "      <td>LB</td>\n",
       "      <td>3</td>\n",
       "      <td>12.0</td>\n",
       "      <td>380</td>\n",
       "      <td>5.0</td>\n",
       "      <td>1.30%</td>\n",
       "      <td>60</td>\n",
       "      <td>1</td>\n",
       "      <td>England</td>\n",
       "      <td>0</td>\n",
       "      <td>3</td>\n",
       "      <td>20</td>\n",
       "      <td>0</td>\n",
       "      <td>0</td>\n",
       "    </tr>\n",
       "    <tr>\n",
       "      <th>458</th>\n",
       "      <td>Angelo Ogbonna</td>\n",
       "      <td>West+Ham</td>\n",
       "      <td>29</td>\n",
       "      <td>CB</td>\n",
       "      <td>3</td>\n",
       "      <td>9.0</td>\n",
       "      <td>247</td>\n",
       "      <td>4.5</td>\n",
       "      <td>1.10%</td>\n",
       "      <td>45</td>\n",
       "      <td>2</td>\n",
       "      <td>Italy</td>\n",
       "      <td>0</td>\n",
       "      <td>4</td>\n",
       "      <td>20</td>\n",
       "      <td>0</td>\n",
       "      <td>0</td>\n",
       "    </tr>\n",
       "    <tr>\n",
       "      <th>459</th>\n",
       "      <td>Pablo Zabaleta</td>\n",
       "      <td>West+Ham</td>\n",
       "      <td>32</td>\n",
       "      <td>RB</td>\n",
       "      <td>3</td>\n",
       "      <td>7.0</td>\n",
       "      <td>698</td>\n",
       "      <td>5.0</td>\n",
       "      <td>2.70%</td>\n",
       "      <td>45</td>\n",
       "      <td>3</td>\n",
       "      <td>Argentina</td>\n",
       "      <td>0</td>\n",
       "      <td>5</td>\n",
       "      <td>20</td>\n",
       "      <td>0</td>\n",
       "      <td>0</td>\n",
       "    </tr>\n",
       "    <tr>\n",
       "      <th>461</th>\n",
       "      <td>Arthur Masuaku</td>\n",
       "      <td>West+Ham</td>\n",
       "      <td>23</td>\n",
       "      <td>LB</td>\n",
       "      <td>3</td>\n",
       "      <td>7.0</td>\n",
       "      <td>199</td>\n",
       "      <td>4.5</td>\n",
       "      <td>0.20%</td>\n",
       "      <td>34</td>\n",
       "      <td>4</td>\n",
       "      <td>Congo DR</td>\n",
       "      <td>0</td>\n",
       "      <td>2</td>\n",
       "      <td>20</td>\n",
       "      <td>0</td>\n",
       "      <td>1</td>\n",
       "    </tr>\n",
       "    <tr>\n",
       "      <th>462</th>\n",
       "      <td>Sam Byram</td>\n",
       "      <td>West+Ham</td>\n",
       "      <td>23</td>\n",
       "      <td>RB</td>\n",
       "      <td>3</td>\n",
       "      <td>4.5</td>\n",
       "      <td>198</td>\n",
       "      <td>4.5</td>\n",
       "      <td>0.30%</td>\n",
       "      <td>29</td>\n",
       "      <td>1</td>\n",
       "      <td>England</td>\n",
       "      <td>0</td>\n",
       "      <td>2</td>\n",
       "      <td>20</td>\n",
       "      <td>0</td>\n",
       "      <td>0</td>\n",
       "    </tr>\n",
       "  </tbody>\n",
       "</table>\n",
       "<p>154 rows × 17 columns</p>\n",
       "</div>"
      ],
      "text/plain": [
       "                  name      club  age position  position_cat  market_value  \\\n",
       "4    Laurent Koscielny   Arsenal   31       CB             3          22.0   \n",
       "5      Hector Bellerin   Arsenal   22       RB             3          30.0   \n",
       "7        Nacho Monreal   Arsenal   31       LB             3          13.0   \n",
       "8     Shkodran Mustafi   Arsenal   25       CB             3          30.0   \n",
       "17    Gabriel Paulista   Arsenal   26       CB             3          13.0   \n",
       "..                 ...       ...  ...      ...           ...           ...   \n",
       "455    Aaron Cresswell  West+Ham   27       LB             3          12.0   \n",
       "458     Angelo Ogbonna  West+Ham   29       CB             3           9.0   \n",
       "459     Pablo Zabaleta  West+Ham   32       RB             3           7.0   \n",
       "461     Arthur Masuaku  West+Ham   23       LB             3           7.0   \n",
       "462          Sam Byram  West+Ham   23       RB             3           4.5   \n",
       "\n",
       "     page_views  fpl_value fpl_sel  fpl_points  region nationality  \\\n",
       "4           912        6.0   0.70%         121       2      France   \n",
       "5          1675        6.0  13.70%         119       2       Spain   \n",
       "7           555        5.5   4.70%         115       2       Spain   \n",
       "8          1877        5.5   4.00%          90       2     Germany   \n",
       "17          552        5.0   0.10%          45       3      Brazil   \n",
       "..          ...        ...     ...         ...     ...         ...   \n",
       "455         380        5.0   1.30%          60       1     England   \n",
       "458         247        4.5   1.10%          45       2       Italy   \n",
       "459         698        5.0   2.70%          45       3   Argentina   \n",
       "461         199        4.5   0.20%          34       4    Congo DR   \n",
       "462         198        4.5   0.30%          29       1     England   \n",
       "\n",
       "     new_foreign  age_cat  club_id  big_club  new_signing  \n",
       "4              0        4        1         1            0  \n",
       "5              0        2        1         1            0  \n",
       "7              0        4        1         1            0  \n",
       "8              0        3        1         1            1  \n",
       "17             0        3        1         1            0  \n",
       "..           ...      ...      ...       ...          ...  \n",
       "455            0        3       20         0            0  \n",
       "458            0        4       20         0            0  \n",
       "459            0        5       20         0            0  \n",
       "461            0        2       20         0            1  \n",
       "462            0        2       20         0            0  \n",
       "\n",
       "[154 rows x 17 columns]"
      ]
     },
     "execution_count": 41,
     "metadata": {},
     "output_type": "execute_result"
    }
   ],
   "source": [
    "players.loc[players.position.isin(['LB', 'CB', 'RB'])]"
   ]
  },
  {
   "cell_type": "code",
   "execution_count": 42,
   "metadata": {
    "colab": {
     "base_uri": "https://localhost:8080/",
     "height": 0
    },
    "colab_type": "code",
    "id": "G2vIsV9gikw4",
    "outputId": "90c4d03b-8514-4dd1-ca77-660cc6345b0c"
   },
   "outputs": [
    {
     "ename": "ValueError",
     "evalue": "Inclusive has to be either string of 'both','left', 'right', or 'neither'.",
     "output_type": "error",
     "traceback": [
      "\u001b[1;31m---------------------------------------------------------------------------\u001b[0m",
      "\u001b[1;31mValueError\u001b[0m                                Traceback (most recent call last)",
      "Cell \u001b[1;32mIn[42], line 1\u001b[0m\n\u001b[1;32m----> 1\u001b[0m players\u001b[38;5;241m.\u001b[39mmarket_value\u001b[38;5;241m.\u001b[39mbetween(\u001b[38;5;241m40\u001b[39m,\u001b[38;5;241m50\u001b[39m, inclusive\u001b[38;5;241m=\u001b[39m\u001b[38;5;28;01mFalse\u001b[39;00m)\n",
      "File \u001b[1;32m~\\anaconda3\\Lib\\site-packages\\pandas\\core\\series.py:5441\u001b[0m, in \u001b[0;36mSeries.between\u001b[1;34m(self, left, right, inclusive)\u001b[0m\n\u001b[0;32m   5439\u001b[0m     rmask \u001b[38;5;241m=\u001b[39m \u001b[38;5;28mself\u001b[39m \u001b[38;5;241m<\u001b[39m right\n\u001b[0;32m   5440\u001b[0m \u001b[38;5;28;01melse\u001b[39;00m:\n\u001b[1;32m-> 5441\u001b[0m     \u001b[38;5;28;01mraise\u001b[39;00m \u001b[38;5;167;01mValueError\u001b[39;00m(\n\u001b[0;32m   5442\u001b[0m         \u001b[38;5;124m\"\u001b[39m\u001b[38;5;124mInclusive has to be either string of \u001b[39m\u001b[38;5;124m'\u001b[39m\u001b[38;5;124mboth\u001b[39m\u001b[38;5;124m'\u001b[39m\u001b[38;5;124m,\u001b[39m\u001b[38;5;124m\"\u001b[39m\n\u001b[0;32m   5443\u001b[0m         \u001b[38;5;124m\"\u001b[39m\u001b[38;5;124m'\u001b[39m\u001b[38;5;124mleft\u001b[39m\u001b[38;5;124m'\u001b[39m\u001b[38;5;124m, \u001b[39m\u001b[38;5;124m'\u001b[39m\u001b[38;5;124mright\u001b[39m\u001b[38;5;124m'\u001b[39m\u001b[38;5;124m, or \u001b[39m\u001b[38;5;124m'\u001b[39m\u001b[38;5;124mneither\u001b[39m\u001b[38;5;124m'\u001b[39m\u001b[38;5;124m.\u001b[39m\u001b[38;5;124m\"\u001b[39m\n\u001b[0;32m   5444\u001b[0m     )\n\u001b[0;32m   5446\u001b[0m \u001b[38;5;28;01mreturn\u001b[39;00m lmask \u001b[38;5;241m&\u001b[39m rmask\n",
      "\u001b[1;31mValueError\u001b[0m: Inclusive has to be either string of 'both','left', 'right', or 'neither'."
     ]
    }
   ],
   "source": [
    "players.market_value.between(40,50, inclusive=False)"
   ]
  },
  {
   "cell_type": "code",
   "execution_count": null,
   "metadata": {
    "colab": {
     "base_uri": "https://localhost:8080/",
     "height": 0
    },
    "colab_type": "code",
    "id": "dCJben5Ai5fp",
    "outputId": "9d023f33-b048-44e6-fc18-f15eebc17306"
   },
   "outputs": [],
   "source": [
    "players[players.market_value.between(40,50, inclusive=True)]"
   ]
  },
  {
   "cell_type": "code",
   "execution_count": null,
   "metadata": {
    "colab": {
     "base_uri": "https://localhost:8080/",
     "height": 0
    },
    "colab_type": "code",
    "id": "5ZYz7Y_YjA79",
    "outputId": "0b6f63c2-f9c2-4639-a7d4-ca4d50c47459"
   },
   "outputs": [],
   "source": [
    "players.age <= 25"
   ]
  },
  {
   "cell_type": "code",
   "execution_count": null,
   "metadata": {
    "colab": {
     "base_uri": "https://localhost:8080/",
     "height": 0
    },
    "colab_type": "code",
    "id": "zbHRgV2ujS1H",
    "outputId": "57141889-688c-4a27-d7de-1e44fc431e84"
   },
   "outputs": [],
   "source": [
    "players.loc[players.age <= 25]"
   ]
  },
  {
   "cell_type": "code",
   "execution_count": null,
   "metadata": {
    "colab": {
     "base_uri": "https://localhost:8080/",
     "height": 0
    },
    "colab_type": "code",
    "id": "rt5WOzByjV2O",
    "outputId": "ce1aaca1-5fa9-4108-d8f9-4b445e3afca1"
   },
   "outputs": [],
   "source": [
    "players.loc[players.age.le(25)]"
   ]
  },
  {
   "cell_type": "code",
   "execution_count": null,
   "metadata": {
    "colab": {
     "base_uri": "https://localhost:8080/",
     "height": 0
    },
    "colab_type": "code",
    "id": "Ti53xq7QjerV",
    "outputId": "02997e87-2b0a-4be0-e4a7-a44bf6eec2aa"
   },
   "outputs": [],
   "source": [
    "players.age.le(25).equals(players.age <= 25)"
   ]
  },
  {
   "cell_type": "markdown",
   "metadata": {
    "colab_type": "text",
    "id": "C7nzP7BQjspS"
   },
   "source": [
    "#### Binary Operators With Booleans"
   ]
  },
  {
   "cell_type": "code",
   "execution_count": null,
   "metadata": {
    "colab": {},
    "colab_type": "code",
    "id": "OZ1HJFPfqg47"
   },
   "outputs": [],
   "source": [
    "# Binary OR -> |"
   ]
  },
  {
   "cell_type": "code",
   "execution_count": null,
   "metadata": {
    "colab": {
     "base_uri": "https://localhost:8080/",
     "height": 0
    },
    "colab_type": "code",
    "id": "XOZAVoPlqtKV",
    "outputId": "2e3ac2b2-da02-4c62-ce01-bc97973c6a88"
   },
   "outputs": [],
   "source": [
    "True | False"
   ]
  },
  {
   "cell_type": "code",
   "execution_count": null,
   "metadata": {
    "colab": {
     "base_uri": "https://localhost:8080/",
     "height": 0
    },
    "colab_type": "code",
    "id": "CX5n602Vqs7T",
    "outputId": "638b5feb-4841-4252-c349-5330829c6e33"
   },
   "outputs": [],
   "source": [
    "False | False"
   ]
  },
  {
   "cell_type": "code",
   "execution_count": null,
   "metadata": {
    "colab": {
     "base_uri": "https://localhost:8080/",
     "height": 0
    },
    "colab_type": "code",
    "id": "vEYS4ljGqsyd",
    "outputId": "67c53535-b4fa-457d-d62b-86fc39d3496d"
   },
   "outputs": [],
   "source": [
    "False | True"
   ]
  },
  {
   "cell_type": "code",
   "execution_count": null,
   "metadata": {
    "colab": {
     "base_uri": "https://localhost:8080/",
     "height": 0
    },
    "colab_type": "code",
    "id": "N5CMuPOhqspp",
    "outputId": "7a17c3df-3f83-4a92-effa-57285bb952d1"
   },
   "outputs": [],
   "source": [
    "True | True"
   ]
  },
  {
   "cell_type": "code",
   "execution_count": null,
   "metadata": {
    "colab": {},
    "colab_type": "code",
    "id": "cB7tTYrFqhBB"
   },
   "outputs": [],
   "source": [
    "# Binary AND -> &"
   ]
  },
  {
   "cell_type": "code",
   "execution_count": null,
   "metadata": {
    "colab": {
     "base_uri": "https://localhost:8080/",
     "height": 0
    },
    "colab_type": "code",
    "id": "cx2qXNqUrVaY",
    "outputId": "4163a2b8-e1c0-4961-aa6f-971adea421dd"
   },
   "outputs": [],
   "source": [
    "True & False"
   ]
  },
  {
   "cell_type": "code",
   "execution_count": null,
   "metadata": {
    "colab": {
     "base_uri": "https://localhost:8080/",
     "height": 0
    },
    "colab_type": "code",
    "id": "wNECgKuXrWlj",
    "outputId": "18d613c8-1299-4ce0-efd6-6f306e5c4a5b"
   },
   "outputs": [],
   "source": [
    "False & True"
   ]
  },
  {
   "cell_type": "code",
   "execution_count": null,
   "metadata": {
    "colab": {
     "base_uri": "https://localhost:8080/",
     "height": 0
    },
    "colab_type": "code",
    "id": "plwStN-brXqg",
    "outputId": "28bb25ee-e898-4984-f980-edfc231593f0"
   },
   "outputs": [],
   "source": [
    "False & False"
   ]
  },
  {
   "cell_type": "code",
   "execution_count": null,
   "metadata": {
    "colab": {
     "base_uri": "https://localhost:8080/",
     "height": 0
    },
    "colab_type": "code",
    "id": "7x1UjiL7rY2M",
    "outputId": "fcfebde6-fa17-42f3-9fac-41779df3de83"
   },
   "outputs": [],
   "source": [
    "True & True"
   ]
  },
  {
   "cell_type": "code",
   "execution_count": null,
   "metadata": {
    "colab": {},
    "colab_type": "code",
    "id": "6YxPHHr3ra7k"
   },
   "outputs": [],
   "source": [
    "# a single false is enough!"
   ]
  },
  {
   "cell_type": "code",
   "execution_count": null,
   "metadata": {
    "colab": {
     "base_uri": "https://localhost:8080/",
     "height": 0
    },
    "colab_type": "code",
    "id": "up6HvPZirhnH",
    "outputId": "1fb0b740-866b-427b-e28d-2219d9195879"
   },
   "outputs": [],
   "source": [
    "True & True & False & True & True"
   ]
  },
  {
   "cell_type": "code",
   "execution_count": null,
   "metadata": {
    "colab": {},
    "colab_type": "code",
    "id": "37AuMviarjn0"
   },
   "outputs": [],
   "source": [
    "f = pd.Series(False)"
   ]
  },
  {
   "cell_type": "code",
   "execution_count": null,
   "metadata": {
    "colab": {
     "base_uri": "https://localhost:8080/",
     "height": 0
    },
    "colab_type": "code",
    "id": "cVIp69mfrv-N",
    "outputId": "f00be314-ade6-4329-8043-9b078c7ea8b3"
   },
   "outputs": [],
   "source": [
    "f"
   ]
  },
  {
   "cell_type": "code",
   "execution_count": null,
   "metadata": {
    "colab": {},
    "colab_type": "code",
    "id": "_vek-699rw2Z"
   },
   "outputs": [],
   "source": [
    "t = pd.Series(True)"
   ]
  },
  {
   "cell_type": "code",
   "execution_count": null,
   "metadata": {
    "colab": {
     "base_uri": "https://localhost:8080/",
     "height": 0
    },
    "colab_type": "code",
    "id": "CFfHrVccryPf",
    "outputId": "a393aefe-92b1-4e5c-8b83-5458a5b11918"
   },
   "outputs": [],
   "source": [
    "t\n"
   ]
  },
  {
   "cell_type": "code",
   "execution_count": null,
   "metadata": {
    "colab": {
     "base_uri": "https://localhost:8080/",
     "height": 0
    },
    "colab_type": "code",
    "id": "lFKXJxADryuE",
    "outputId": "6d88117e-eed2-45e2-bbda-4b1b46443cff"
   },
   "outputs": [],
   "source": [
    "t & f"
   ]
  },
  {
   "cell_type": "code",
   "execution_count": null,
   "metadata": {
    "colab": {
     "base_uri": "https://localhost:8080/",
     "height": 0
    },
    "colab_type": "code",
    "id": "iy5Tojwir1ZE",
    "outputId": "193f4ac2-9205-43d5-8a22-0e80c7f15911"
   },
   "outputs": [],
   "source": [
    "t | f"
   ]
  },
  {
   "cell_type": "code",
   "execution_count": null,
   "metadata": {
    "colab": {},
    "colab_type": "code",
    "id": "-hcFr-tAr5_m"
   },
   "outputs": [],
   "source": [
    "t = pd.Series([True if i%2 ==0 else False for i in range(10)])"
   ]
  },
  {
   "cell_type": "code",
   "execution_count": null,
   "metadata": {
    "colab": {
     "base_uri": "https://localhost:8080/",
     "height": 0
    },
    "colab_type": "code",
    "id": "ejKz-TTwsF-n",
    "outputId": "827293a4-20bd-4b0b-8c86-9e752350fc96"
   },
   "outputs": [],
   "source": [
    "t"
   ]
  },
  {
   "cell_type": "code",
   "execution_count": null,
   "metadata": {
    "colab": {},
    "colab_type": "code",
    "id": "Cf-P8I43sGgz"
   },
   "outputs": [],
   "source": [
    "f = pd.Series([False for i in range(10)])"
   ]
  },
  {
   "cell_type": "code",
   "execution_count": null,
   "metadata": {
    "colab": {
     "base_uri": "https://localhost:8080/",
     "height": 0
    },
    "colab_type": "code",
    "id": "qEEVCv-BsJ-O",
    "outputId": "470620fb-7538-4284-b984-e5743e504b96"
   },
   "outputs": [],
   "source": [
    "f"
   ]
  },
  {
   "cell_type": "code",
   "execution_count": null,
   "metadata": {
    "colab": {
     "base_uri": "https://localhost:8080/",
     "height": 0
    },
    "colab_type": "code",
    "id": "0hCu3gsisKbW",
    "outputId": "ec44c4a0-fe22-4984-9edb-bf65eba3a5f7"
   },
   "outputs": [],
   "source": [
    "t & f"
   ]
  },
  {
   "cell_type": "code",
   "execution_count": null,
   "metadata": {
    "colab": {
     "base_uri": "https://localhost:8080/",
     "height": 0
    },
    "colab_type": "code",
    "id": "VasLckXgsTJy",
    "outputId": "140800ef-bd18-4502-f661-86dd5457eb3f"
   },
   "outputs": [],
   "source": [
    "t | f"
   ]
  },
  {
   "cell_type": "code",
   "execution_count": null,
   "metadata": {
    "colab": {},
    "colab_type": "code",
    "id": "GIL2hUtXsUfn"
   },
   "outputs": [],
   "source": [
    "f = pd.Series(data=[False, True, True], index=['c','b', 'a'])\n",
    "t = pd.Series(data=[True, False, False], index=['a', 'b', 'c'])"
   ]
  },
  {
   "cell_type": "code",
   "execution_count": null,
   "metadata": {
    "colab": {
     "base_uri": "https://localhost:8080/",
     "height": 0
    },
    "colab_type": "code",
    "id": "0DD9UHzSsj_m",
    "outputId": "1f7e1d1c-b086-479a-8352-f593a108813d"
   },
   "outputs": [],
   "source": [
    "f"
   ]
  },
  {
   "cell_type": "code",
   "execution_count": null,
   "metadata": {
    "colab": {
     "base_uri": "https://localhost:8080/",
     "height": 0
    },
    "colab_type": "code",
    "id": "AP7bx6_tskTh",
    "outputId": "a8ce43e5-e872-43cf-fc87-a562fbb6165d"
   },
   "outputs": [],
   "source": [
    "t"
   ]
  },
  {
   "cell_type": "code",
   "execution_count": null,
   "metadata": {
    "colab": {
     "base_uri": "https://localhost:8080/",
     "height": 0
    },
    "colab_type": "code",
    "id": "U_y6IRfRsrYv",
    "outputId": "f4ec9a9e-67df-4d53-eb75-fbf7bbe594c3"
   },
   "outputs": [],
   "source": [
    "f & t"
   ]
  },
  {
   "cell_type": "markdown",
   "metadata": {
    "colab_type": "text",
    "id": "BHO3p8hesxk3"
   },
   "source": [
    "#### BONUS - XOR And Complement Binary Ops"
   ]
  },
  {
   "cell_type": "code",
   "execution_count": null,
   "metadata": {
    "colab": {},
    "colab_type": "code",
    "id": "NdL83PCTwGw5"
   },
   "outputs": [],
   "source": [
    "# Binary XOR -> ^"
   ]
  },
  {
   "cell_type": "code",
   "execution_count": null,
   "metadata": {
    "colab": {
     "base_uri": "https://localhost:8080/",
     "height": 0
    },
    "colab_type": "code",
    "id": "PT87czi4KCJw",
    "outputId": "fbb72469-825f-4d87-a2c3-2c1c290a5f7c"
   },
   "outputs": [],
   "source": [
    "True ^ False"
   ]
  },
  {
   "cell_type": "code",
   "execution_count": null,
   "metadata": {
    "colab": {
     "base_uri": "https://localhost:8080/",
     "height": 0
    },
    "colab_type": "code",
    "id": "PzpDbFAK6BI8",
    "outputId": "e2186baa-109c-4c70-c2c6-022fe7ac08cb"
   },
   "outputs": [],
   "source": [
    "False ^ False"
   ]
  },
  {
   "cell_type": "code",
   "execution_count": null,
   "metadata": {
    "colab": {
     "base_uri": "https://localhost:8080/",
     "height": 0
    },
    "colab_type": "code",
    "id": "lYlZkSpJ6BNF",
    "outputId": "6466d6ba-e0d3-4460-ca44-620e419f26bd"
   },
   "outputs": [],
   "source": [
    "True ^ True"
   ]
  },
  {
   "cell_type": "code",
   "execution_count": null,
   "metadata": {
    "colab": {
     "base_uri": "https://localhost:8080/",
     "height": 0
    },
    "colab_type": "code",
    "id": "mRnoI0RXKgp1",
    "outputId": "f17dcd65-93d5-48e7-a932-cc8eeb168a7c"
   },
   "outputs": [],
   "source": [
    "True ^ (False | False & True) | False"
   ]
  },
  {
   "cell_type": "code",
   "execution_count": null,
   "metadata": {
    "colab": {},
    "colab_type": "code",
    "id": "yC3JMKiv6BRl"
   },
   "outputs": [],
   "source": [
    "# (Two's) Complement -> ~"
   ]
  },
  {
   "cell_type": "code",
   "execution_count": null,
   "metadata": {
    "colab": {},
    "colab_type": "code",
    "id": "F12Yn-qNL48E"
   },
   "outputs": [],
   "source": [
    "# tilde (~) negates"
   ]
  },
  {
   "cell_type": "code",
   "execution_count": null,
   "metadata": {
    "colab": {
     "base_uri": "https://localhost:8080/",
     "height": 0
    },
    "colab_type": "code",
    "id": "ToZIC_dmDClI",
    "outputId": "f7f24662-b0b9-43de-c3a3-d95b7075ba4e"
   },
   "outputs": [],
   "source": [
    "~False"
   ]
  },
  {
   "cell_type": "code",
   "execution_count": null,
   "metadata": {
    "colab": {
     "base_uri": "https://localhost:8080/",
     "height": 0
    },
    "colab_type": "code",
    "id": "bNOmWkwRMSdD",
    "outputId": "05a27464-4ba6-480c-b2bb-774f1073e186"
   },
   "outputs": [],
   "source": [
    "~0"
   ]
  },
  {
   "cell_type": "code",
   "execution_count": null,
   "metadata": {
    "colab": {
     "base_uri": "https://localhost:8080/",
     "height": 0
    },
    "colab_type": "code",
    "id": "HyOBZfBYLBFk",
    "outputId": "57f3dfcd-b8f0-4085-c95c-0436f3a9c6de"
   },
   "outputs": [],
   "source": [
    "~True"
   ]
  },
  {
   "cell_type": "code",
   "execution_count": null,
   "metadata": {
    "colab": {
     "base_uri": "https://localhost:8080/",
     "height": 0
    },
    "colab_type": "code",
    "id": "KE5w1RcXLDTu",
    "outputId": "f8bbc561-ab8e-41b1-f1d0-1070d3529273"
   },
   "outputs": [],
   "source": [
    "~1"
   ]
  },
  {
   "cell_type": "code",
   "execution_count": null,
   "metadata": {
    "colab": {},
    "colab_type": "code",
    "id": "JY51oBJfMBD1"
   },
   "outputs": [],
   "source": [
    "t = pd.Series([True, True, False])"
   ]
  },
  {
   "cell_type": "code",
   "execution_count": null,
   "metadata": {
    "colab": {
     "base_uri": "https://localhost:8080/",
     "height": 0
    },
    "colab_type": "code",
    "id": "n3welexoMlgO",
    "outputId": "220a39fe-a2eb-4dbf-ab92-a55e72e4728c"
   },
   "outputs": [],
   "source": [
    "t"
   ]
  },
  {
   "cell_type": "code",
   "execution_count": null,
   "metadata": {
    "colab": {
     "base_uri": "https://localhost:8080/",
     "height": 0
    },
    "colab_type": "code",
    "id": "x7Nv4WV5MmDm",
    "outputId": "989d61f6-226f-4c0d-aa4d-1a1debb338fe"
   },
   "outputs": [],
   "source": [
    "~t"
   ]
  },
  {
   "cell_type": "markdown",
   "metadata": {
    "colab_type": "text",
    "id": "zK13WRKRMo3F"
   },
   "source": [
    "#### Combining Conditions"
   ]
  },
  {
   "cell_type": "code",
   "execution_count": null,
   "metadata": {
    "colab": {},
    "colab_type": "code",
    "id": "X0rC0I36skWa"
   },
   "outputs": [],
   "source": [
    "# select all the left backs -> LB"
   ]
  },
  {
   "cell_type": "code",
   "execution_count": null,
   "metadata": {
    "colab": {
     "base_uri": "https://localhost:8080/",
     "height": 0
    },
    "colab_type": "code",
    "id": "yfhv89KrskS7",
    "outputId": "62e77d6d-cfb1-4955-9eb5-76e5b4d16c51"
   },
   "outputs": [],
   "source": [
    "players.head()"
   ]
  },
  {
   "cell_type": "code",
   "execution_count": null,
   "metadata": {
    "colab": {},
    "colab_type": "code",
    "id": "LTjMQ2NbtEOn"
   },
   "outputs": [],
   "source": [
    "# all left backs who are 25 or younger"
   ]
  },
  {
   "cell_type": "code",
   "execution_count": null,
   "metadata": {
    "colab": {
     "base_uri": "https://localhost:8080/",
     "height": 0
    },
    "colab_type": "code",
    "id": "L8xpzcVScmjl",
    "outputId": "b7994aff-802a-4b7e-dc54-ea4ce984bc73"
   },
   "outputs": [],
   "source": [
    "players[\n",
    "        (players.position == 'LB') & \n",
    "        (players.age <= 25)\n",
    "        ]"
   ]
  },
  {
   "cell_type": "code",
   "execution_count": null,
   "metadata": {
    "colab": {},
    "colab_type": "code",
    "id": "IbD3ooCXsz6E"
   },
   "outputs": [],
   "source": [
    "# 3 conditions: left backs, 25 or younger, market value 10+"
   ]
  },
  {
   "cell_type": "code",
   "execution_count": null,
   "metadata": {
    "colab": {
     "base_uri": "https://localhost:8080/",
     "height": 0
    },
    "colab_type": "code",
    "id": "I9NbSG6etq66",
    "outputId": "f3eafb5e-5679-44ea-97ad-312bb7130d63"
   },
   "outputs": [],
   "source": [
    "players[\n",
    "        (players.position == 'LB') & \n",
    "        (players.age <= 25) & \n",
    "        (players.market_value >= 10)\n",
    "        ]"
   ]
  },
  {
   "cell_type": "code",
   "execution_count": null,
   "metadata": {
    "colab": {},
    "colab_type": "code",
    "id": "EACnZO1_tv0P"
   },
   "outputs": [],
   "source": [
    "# 4 conditions: left backs, 25 or younger, market value 10+, and NOT from Arsenal or Tottenham clubs"
   ]
  },
  {
   "cell_type": "code",
   "execution_count": null,
   "metadata": {
    "colab": {
     "base_uri": "https://localhost:8080/",
     "height": 0
    },
    "colab_type": "code",
    "id": "XtLEFM1XuARy",
    "outputId": "910de8d1-47f3-4278-8710-e8d4e10186e4"
   },
   "outputs": [],
   "source": [
    "players[\n",
    "        (players.position == 'LB') &\n",
    "        (players.age <= 25) &\n",
    "        (players.market_value >= 10) &\n",
    "        ~(players.club.isin(['Tottenham', 'Arsenal']))\n",
    "        ]"
   ]
  },
  {
   "cell_type": "markdown",
   "metadata": {
    "colab_type": "text",
    "id": "EevHhOEIuPA8"
   },
   "source": [
    "#### Conditions As Variables"
   ]
  },
  {
   "cell_type": "code",
   "execution_count": null,
   "metadata": {
    "colab": {
     "base_uri": "https://localhost:8080/",
     "height": 0
    },
    "colab_type": "code",
    "id": "9xFiibl9vC7f",
    "outputId": "c2134929-3eda-46a8-e2dc-1f54deee9c11"
   },
   "outputs": [],
   "source": [
    "players[\n",
    "        (players.position == 'LB') &\n",
    "        (players.age <= 25) &\n",
    "        (players.market_value >= 10) &\n",
    "        ~(players.club.isin(['Tottenham', 'Arsenal']))\n",
    "        ]"
   ]
  },
  {
   "cell_type": "code",
   "execution_count": null,
   "metadata": {
    "colab": {},
    "colab_type": "code",
    "id": "KDfB9GqyvkYO"
   },
   "outputs": [],
   "source": [
    "# new target: Arsenal right backs and Chelsea goalkeepers"
   ]
  },
  {
   "cell_type": "code",
   "execution_count": null,
   "metadata": {
    "colab": {},
    "colab_type": "code",
    "id": "UfvFZKaYw6BU"
   },
   "outputs": [],
   "source": [
    "arsenal_player = players.club == 'Arsenal'"
   ]
  },
  {
   "cell_type": "code",
   "execution_count": null,
   "metadata": {
    "colab": {
     "base_uri": "https://localhost:8080/",
     "height": 0
    },
    "colab_type": "code",
    "id": "RS3I82Mgw937",
    "outputId": "ea6ea4b2-da5a-4472-cfa0-303bfcf85c70"
   },
   "outputs": [],
   "source": [
    "arsenal_player"
   ]
  },
  {
   "cell_type": "code",
   "execution_count": null,
   "metadata": {
    "colab": {},
    "colab_type": "code",
    "id": "cumDpIWixDDi"
   },
   "outputs": [],
   "source": [
    "right_back = players.position == 'RB'"
   ]
  },
  {
   "cell_type": "code",
   "execution_count": null,
   "metadata": {
    "colab": {
     "base_uri": "https://localhost:8080/",
     "height": 0
    },
    "colab_type": "code",
    "id": "0fFuCVETxTLA",
    "outputId": "53387e94-99cb-4184-d4ba-c620c19d699d"
   },
   "outputs": [],
   "source": [
    "right_back"
   ]
  },
  {
   "cell_type": "code",
   "execution_count": null,
   "metadata": {
    "colab": {},
    "colab_type": "code",
    "id": "hqhFOaM3xT37"
   },
   "outputs": [],
   "source": [
    "chelsea_and_GK = (players.club == 'Chelsea') & (players.position == 'GK')"
   ]
  },
  {
   "cell_type": "code",
   "execution_count": null,
   "metadata": {
    "colab": {
     "base_uri": "https://localhost:8080/",
     "height": 0
    },
    "colab_type": "code",
    "id": "b5bGw6OgxhLQ",
    "outputId": "78cca3da-6968-4a3f-afcf-f52b431e10b8"
   },
   "outputs": [],
   "source": [
    "chelsea_and_GK"
   ]
  },
  {
   "cell_type": "code",
   "execution_count": null,
   "metadata": {
    "colab": {
     "base_uri": "https://localhost:8080/",
     "height": 0
    },
    "colab_type": "code",
    "id": "jH6nfaP2xh5N",
    "outputId": "ba92fed9-2923-4cf5-c837-d79663ef9fa7"
   },
   "outputs": [],
   "source": [
    "players.loc[arsenal_player & right_back | chelsea_and_GK]"
   ]
  },
  {
   "cell_type": "markdown",
   "metadata": {
    "colab_type": "text",
    "id": "EAK3ZQ__xo7g"
   },
   "source": [
    "#### Skill Challenge"
   ]
  },
  {
   "cell_type": "markdown",
   "metadata": {
    "colab_type": "text",
    "id": "uaMWs7rRynX_"
   },
   "source": [
    "######Find the players in our dataset that meet these criteria\n",
    "\n",
    "1.   they're English (*nationality*), and\n",
    "2.   their market value is more than twice the average market value in the league (*market_value*), and\n",
    "3. they either have more than 4,000 views (*page_views*) or are a new signing (*new_signing*) but not both"
   ]
  },
  {
   "cell_type": "markdown",
   "metadata": {
    "colab_type": "text",
    "id": "psAdcETH1EHF"
   },
   "source": [
    "#### Solution"
   ]
  },
  {
   "cell_type": "code",
   "execution_count": null,
   "metadata": {
    "colab": {
     "base_uri": "https://localhost:8080/",
     "height": 0
    },
    "colab_type": "code",
    "id": "tso5UPez1Fhm",
    "outputId": "89d07e8a-4b71-46cb-d79c-1e78f9241b32"
   },
   "outputs": [],
   "source": [
    "players.head()"
   ]
  },
  {
   "cell_type": "code",
   "execution_count": null,
   "metadata": {
    "colab": {},
    "colab_type": "code",
    "id": "Pl9o-vZx1LVJ"
   },
   "outputs": [],
   "source": [
    "# first condition"
   ]
  },
  {
   "cell_type": "code",
   "execution_count": null,
   "metadata": {
    "colab": {},
    "colab_type": "code",
    "id": "3stESeQ31Rp1"
   },
   "outputs": [],
   "source": [
    "english = players.nationality == 'England'"
   ]
  },
  {
   "cell_type": "code",
   "execution_count": null,
   "metadata": {
    "colab": {
     "base_uri": "https://localhost:8080/",
     "height": 0
    },
    "colab_type": "code",
    "id": "k3FfTmKk1UFI",
    "outputId": "a1b9b19a-0e8d-4981-ccf6-f0427b4f6b63"
   },
   "outputs": [],
   "source": [
    "english.head()"
   ]
  },
  {
   "cell_type": "code",
   "execution_count": null,
   "metadata": {
    "colab": {},
    "colab_type": "code",
    "id": "ieDel2OR1VQD"
   },
   "outputs": [],
   "source": [
    "# second condtion"
   ]
  },
  {
   "cell_type": "code",
   "execution_count": null,
   "metadata": {
    "colab": {
     "base_uri": "https://localhost:8080/",
     "height": 0
    },
    "colab_type": "code",
    "id": "J1Ck1XEW1i5Q",
    "outputId": "e3ed1dc6-a80d-4011-eaa7-c70ba602df5f"
   },
   "outputs": [],
   "source": [
    "players.market_value.mean()"
   ]
  },
  {
   "cell_type": "code",
   "execution_count": null,
   "metadata": {
    "colab": {},
    "colab_type": "code",
    "id": "H3nck5DN1g-R"
   },
   "outputs": [],
   "source": [
    "above_average = players.market_value > players.market_value.mean() * 2"
   ]
  },
  {
   "cell_type": "code",
   "execution_count": null,
   "metadata": {
    "colab": {
     "base_uri": "https://localhost:8080/",
     "height": 0
    },
    "colab_type": "code",
    "id": "mpS-AS311rK-",
    "outputId": "0e27bac7-b86b-44c7-e6e6-43175a30836a"
   },
   "outputs": [],
   "source": [
    "above_average.head()"
   ]
  },
  {
   "cell_type": "code",
   "execution_count": null,
   "metadata": {
    "colab": {},
    "colab_type": "code",
    "id": "-uR37h6a1r-U"
   },
   "outputs": [],
   "source": [
    "# third condition"
   ]
  },
  {
   "cell_type": "code",
   "execution_count": null,
   "metadata": {
    "colab": {},
    "colab_type": "code",
    "id": "udki5NkC13Yq"
   },
   "outputs": [],
   "source": [
    "popular_xor_new = (players.page_views > 4000) ^ (players.new_signing == 1)"
   ]
  },
  {
   "cell_type": "code",
   "execution_count": null,
   "metadata": {
    "colab": {
     "base_uri": "https://localhost:8080/",
     "height": 0
    },
    "colab_type": "code",
    "id": "IMvDgJ1I2Dpx",
    "outputId": "5f0bb865-59aa-4adc-8dd5-7b4d27ff046d"
   },
   "outputs": [],
   "source": [
    "popular_xor_new.head()"
   ]
  },
  {
   "cell_type": "code",
   "execution_count": null,
   "metadata": {
    "colab": {
     "base_uri": "https://localhost:8080/",
     "height": 0
    },
    "colab_type": "code",
    "id": "TZnkRUbn2PPg",
    "outputId": "c41aadc2-ffda-4a4c-a3d2-d9c6d3a9b658"
   },
   "outputs": [],
   "source": [
    "print(english.shape)"
   ]
  },
  {
   "cell_type": "code",
   "execution_count": null,
   "metadata": {
    "colab": {
     "base_uri": "https://localhost:8080/",
     "height": 0
    },
    "colab_type": "code",
    "id": "xGqPXyTG2T0M",
    "outputId": "4032fa89-79cd-48a2-8a3a-315ba22001e7"
   },
   "outputs": [],
   "source": [
    "print(above_average.shape)\n",
    "print(popular_xor_new.shape)\n",
    "print(players.shape)"
   ]
  },
  {
   "cell_type": "code",
   "execution_count": null,
   "metadata": {
    "colab": {
     "base_uri": "https://localhost:8080/",
     "height": 0
    },
    "colab_type": "code",
    "id": "HEXVEjFW2aug",
    "outputId": "1ff51351-87f8-42e4-ca18-15ee455e17cd"
   },
   "outputs": [],
   "source": [
    "players.loc[english & above_average & popular_xor_new]"
   ]
  },
  {
   "cell_type": "markdown",
   "metadata": {
    "colab_type": "text",
    "id": "fXdfYpRj2qAF"
   },
   "source": [
    "#### 2d Indexing"
   ]
  },
  {
   "cell_type": "code",
   "execution_count": null,
   "metadata": {
    "colab": {
     "base_uri": "https://localhost:8080/",
     "height": 0
    },
    "colab_type": "code",
    "id": "r_q8B2eH3NGF",
    "outputId": "014301e2-c72e-4ea1-e90e-fd95e3040108"
   },
   "outputs": [],
   "source": [
    "players.head()"
   ]
  },
  {
   "cell_type": "code",
   "execution_count": null,
   "metadata": {
    "colab": {},
    "colab_type": "code",
    "id": "2ELozA4M9319"
   },
   "outputs": [],
   "source": [
    "# chelsea players and 23 years old or younger"
   ]
  },
  {
   "cell_type": "code",
   "execution_count": null,
   "metadata": {
    "colab": {},
    "colab_type": "code",
    "id": "c1mmbsrj96wX"
   },
   "outputs": [],
   "source": [
    "chelsea_23under = (players.club == 'Chelsea') & (players.age.le(23))"
   ]
  },
  {
   "cell_type": "code",
   "execution_count": null,
   "metadata": {
    "colab": {
     "base_uri": "https://localhost:8080/",
     "height": 0
    },
    "colab_type": "code",
    "id": "BdA7-UVM-Gh8",
    "outputId": "fe84a6d7-be3f-431c-c364-3ee7d5b50b15"
   },
   "outputs": [],
   "source": [
    "chelsea_23under.head()"
   ]
  },
  {
   "cell_type": "code",
   "execution_count": null,
   "metadata": {
    "colab": {
     "base_uri": "https://localhost:8080/",
     "height": 0
    },
    "colab_type": "code",
    "id": "DC8897_n-Hkm",
    "outputId": "fb4abc2b-6217-4a99-f134-7a2bc357cba8"
   },
   "outputs": [],
   "source": [
    "players.loc[chelsea_23under, ['position', 'market_value']]"
   ]
  },
  {
   "cell_type": "code",
   "execution_count": null,
   "metadata": {
    "colab": {},
    "colab_type": "code",
    "id": "EbezrwLo-KIJ"
   },
   "outputs": [],
   "source": [
    "# ...select all column that begin with 'p'"
   ]
  },
  {
   "cell_type": "code",
   "execution_count": null,
   "metadata": {
    "colab": {},
    "colab_type": "code",
    "id": "vIM_qob1-sOX"
   },
   "outputs": [],
   "source": [
    "# startwith"
   ]
  },
  {
   "cell_type": "code",
   "execution_count": null,
   "metadata": {
    "colab": {},
    "colab_type": "code",
    "id": "dbC1doYM-zvP"
   },
   "outputs": [],
   "source": [
    "p_cols = players.columns.str.startswith('p')"
   ]
  },
  {
   "cell_type": "code",
   "execution_count": null,
   "metadata": {
    "colab": {
     "base_uri": "https://localhost:8080/",
     "height": 0
    },
    "colab_type": "code",
    "id": "p1sFS2Ob-0qx",
    "outputId": "5d4ea440-f787-4627-fe72-8c66269fe73f"
   },
   "outputs": [],
   "source": [
    "players.loc[chelsea_23under, p_cols]"
   ]
  },
  {
   "cell_type": "code",
   "execution_count": null,
   "metadata": {
    "colab": {
     "base_uri": "https://localhost:8080/",
     "height": 0
    },
    "colab_type": "code",
    "id": "51IXybz-_BMC",
    "outputId": "86b5f643-363c-4720-94a4-49d457d8092e"
   },
   "outputs": [],
   "source": [
    "print(chelsea_23under.shape)"
   ]
  },
  {
   "cell_type": "code",
   "execution_count": null,
   "metadata": {
    "colab": {
     "base_uri": "https://localhost:8080/",
     "height": 0
    },
    "colab_type": "code",
    "id": "EsCohfig_KT4",
    "outputId": "8713b563-d7a9-4b4d-faa9-9058100b8c7c"
   },
   "outputs": [],
   "source": [
    "print(players.shape)"
   ]
  },
  {
   "cell_type": "code",
   "execution_count": null,
   "metadata": {
    "colab": {
     "base_uri": "https://localhost:8080/",
     "height": 0
    },
    "colab_type": "code",
    "id": "DhBQ--Cg_MuL",
    "outputId": "44f49716-492e-4579-efaa-0f0a767e91f8"
   },
   "outputs": [],
   "source": [
    "print(p_cols.shape)"
   ]
  },
  {
   "cell_type": "code",
   "execution_count": null,
   "metadata": {
    "colab": {},
    "colab_type": "code",
    "id": "m0GUZpfO_Y1P"
   },
   "outputs": [],
   "source": [
    "# [] chaining"
   ]
  },
  {
   "cell_type": "code",
   "execution_count": null,
   "metadata": {
    "colab": {
     "base_uri": "https://localhost:8080/",
     "height": 0
    },
    "colab_type": "code",
    "id": "JVu0K-_m_oxB",
    "outputId": "dcd162e1-7f2c-42f5-d714-a18f9789e45d"
   },
   "outputs": [],
   "source": [
    "players[chelsea_23under]['position']"
   ]
  },
  {
   "cell_type": "code",
   "execution_count": null,
   "metadata": {
    "colab": {
     "base_uri": "https://localhost:8080/",
     "height": 0
    },
    "colab_type": "code",
    "id": "S-UpfVEf_re1",
    "outputId": "e2a05728-52d2-409a-cd1c-0ec220cfcefb"
   },
   "outputs": [],
   "source": [
    "players.loc[chelsea_23under, 'position']"
   ]
  },
  {
   "cell_type": "markdown",
   "metadata": {
    "colab_type": "text",
    "id": "-4YiHimJ_zpx"
   },
   "source": [
    "#### Fancy Indexing With lookup()"
   ]
  },
  {
   "cell_type": "code",
   "execution_count": null,
   "metadata": {
    "colab": {
     "base_uri": "https://localhost:8080/",
     "height": 0
    },
    "colab_type": "code",
    "id": "hxdSX6IJh9vJ",
    "outputId": "b44fa387-d9ac-4774-9641-3c4afd3839af"
   },
   "outputs": [],
   "source": [
    "players.head()"
   ]
  },
  {
   "cell_type": "code",
   "execution_count": null,
   "metadata": {
    "colab": {
     "base_uri": "https://localhost:8080/",
     "height": 0
    },
    "colab_type": "code",
    "id": "Wm30F1pOoEaq",
    "outputId": "6d6030a8-4be8-4670-eaaa-df0c786c314b"
   },
   "outputs": [],
   "source": [
    "players.loc[[0, 132], ('name', 'market_value')] # fancy"
   ]
  },
  {
   "cell_type": "code",
   "execution_count": null,
   "metadata": {
    "colab": {
     "base_uri": "https://localhost:8080/",
     "height": 0
    },
    "colab_type": "code",
    "id": "MsF8hTT7tFjT",
    "outputId": "334bd42a-ebae-4c6d-9316-b16fd781b4ba"
   },
   "outputs": [],
   "source": [
    "players.lookup([0, 132], ['name', 'market_value'])"
   ]
  },
  {
   "cell_type": "code",
   "execution_count": null,
   "metadata": {
    "colab": {
     "base_uri": "https://localhost:8080/",
     "height": 0
    },
    "colab_type": "code",
    "id": "6-0FpeDyyC_0",
    "outputId": "19f5225d-696c-4612-ae3a-b040b3e87c78"
   },
   "outputs": [],
   "source": [
    "players.lookup([0, 132], ['market_value', 'name'])"
   ]
  },
  {
   "cell_type": "code",
   "execution_count": null,
   "metadata": {
    "colab": {},
    "colab_type": "code",
    "id": "FwLDq6s9yVp5"
   },
   "outputs": [],
   "source": [
    "names = ['Petr Cech', 'Mesut Ozil', 'Alexis Sanchez']"
   ]
  },
  {
   "cell_type": "code",
   "execution_count": null,
   "metadata": {
    "colab": {},
    "colab_type": "code",
    "id": "fNyYT274yisP"
   },
   "outputs": [],
   "source": [
    "attributes = ['age', 'market_value', 'page_views']"
   ]
  },
  {
   "cell_type": "code",
   "execution_count": null,
   "metadata": {
    "colab": {
     "base_uri": "https://localhost:8080/",
     "height": 0
    },
    "colab_type": "code",
    "id": "RckFJGgYyoVG",
    "outputId": "f649e4f7-b179-4a42-c440-8f955ae0e4c8"
   },
   "outputs": [],
   "source": [
    "players.set_index('name').lookup(names, attributes)"
   ]
  },
  {
   "cell_type": "markdown",
   "metadata": {
    "colab_type": "text",
    "id": "dBWGsSLiy_4I"
   },
   "source": [
    "#### Sorting By Index Or Column"
   ]
  },
  {
   "cell_type": "code",
   "execution_count": null,
   "metadata": {
    "colab": {
     "base_uri": "https://localhost:8080/",
     "height": 0
    },
    "colab_type": "code",
    "id": "dF_Ztq9U0mIr",
    "outputId": "14456bbd-8987-488d-ddea-5e235a3829e4"
   },
   "outputs": [],
   "source": [
    "players.head()"
   ]
  },
  {
   "cell_type": "code",
   "execution_count": null,
   "metadata": {
    "colab": {
     "base_uri": "https://localhost:8080/",
     "height": 0
    },
    "colab_type": "code",
    "id": "aZzKAGo53yZT",
    "outputId": "ac90e9e7-c85e-4bb5-8601-fbd56235041b"
   },
   "outputs": [],
   "source": [
    "players.sort_values(by='market_value', ascending=False)"
   ]
  },
  {
   "cell_type": "code",
   "execution_count": null,
   "metadata": {
    "colab": {
     "base_uri": "https://localhost:8080/",
     "height": 0
    },
    "colab_type": "code",
    "id": "F53X1_Oe4NBd",
    "outputId": "6f45a320-d422-4dcd-db8c-d822cbece09f"
   },
   "outputs": [],
   "source": [
    "players.index"
   ]
  },
  {
   "cell_type": "code",
   "execution_count": null,
   "metadata": {
    "colab": {},
    "colab_type": "code",
    "id": "-Gt_xV9T4VZ3"
   },
   "outputs": [],
   "source": [
    "players.set_index('name', inplace=True)"
   ]
  },
  {
   "cell_type": "code",
   "execution_count": null,
   "metadata": {
    "colab": {
     "base_uri": "https://localhost:8080/",
     "height": 0
    },
    "colab_type": "code",
    "id": "KKrNqyW-4fZZ",
    "outputId": "ffef303d-3f67-4f29-a21a-9922e62860d0"
   },
   "outputs": [],
   "source": [
    "players.head(10)"
   ]
  },
  {
   "cell_type": "code",
   "execution_count": null,
   "metadata": {
    "colab": {
     "base_uri": "https://localhost:8080/",
     "height": 0
    },
    "colab_type": "code",
    "id": "xFb4My0F4gRn",
    "outputId": "da4235fc-f915-438b-8199-9d32d3c84b64"
   },
   "outputs": [],
   "source": [
    "players.index"
   ]
  },
  {
   "cell_type": "code",
   "execution_count": null,
   "metadata": {
    "colab": {},
    "colab_type": "code",
    "id": "-q3DhLAt4jF7"
   },
   "outputs": [],
   "source": [
    "players.sort_index(inplace=True)"
   ]
  },
  {
   "cell_type": "code",
   "execution_count": null,
   "metadata": {
    "colab": {
     "base_uri": "https://localhost:8080/",
     "height": 0
    },
    "colab_type": "code",
    "id": "IYfsi07T4vkb",
    "outputId": "ddf4e49d-9dd7-4a47-a336-5ca31929b896"
   },
   "outputs": [],
   "source": [
    "players.head(10)"
   ]
  },
  {
   "cell_type": "code",
   "execution_count": null,
   "metadata": {
    "colab": {
     "base_uri": "https://localhost:8080/",
     "height": 0
    },
    "colab_type": "code",
    "id": "-e-pBtqE48RX",
    "outputId": "6f6f47b2-4136-48de-ffec-899309bd53dc"
   },
   "outputs": [],
   "source": [
    "players.sort_index(axis=1)"
   ]
  },
  {
   "cell_type": "code",
   "execution_count": null,
   "metadata": {
    "colab": {
     "base_uri": "https://localhost:8080/",
     "height": 0
    },
    "colab_type": "code",
    "id": "we8w-Y135EoE",
    "outputId": "cbd99e9d-2ced-4dd9-c64c-10a6608ed8ee"
   },
   "outputs": [],
   "source": [
    "players.reset_index()"
   ]
  },
  {
   "cell_type": "code",
   "execution_count": null,
   "metadata": {
    "colab": {
     "base_uri": "https://localhost:8080/",
     "height": 0
    },
    "colab_type": "code",
    "id": "8Va2J50e5Rr7",
    "outputId": "253a11a7-8348-46e5-f8f9-40179e2a5370"
   },
   "outputs": [],
   "source": [
    "players.reset_index().reset_index().reset_index()"
   ]
  },
  {
   "cell_type": "code",
   "execution_count": null,
   "metadata": {
    "colab": {},
    "colab_type": "code",
    "id": "VlgwuEbu5XuQ"
   },
   "outputs": [],
   "source": [
    "players.reset_index(inplace=True)"
   ]
  },
  {
   "cell_type": "code",
   "execution_count": null,
   "metadata": {
    "colab": {
     "base_uri": "https://localhost:8080/",
     "height": 0
    },
    "colab_type": "code",
    "id": "zrK_iHe05jdu",
    "outputId": "e5407a3e-042e-4cbe-c7bc-79af33ed4c4a"
   },
   "outputs": [],
   "source": [
    "players.head()"
   ]
  },
  {
   "cell_type": "markdown",
   "metadata": {
    "colab_type": "text",
    "id": "FciCOxOT5o0c"
   },
   "source": [
    "#### Sorting vs. Reordering"
   ]
  },
  {
   "cell_type": "code",
   "execution_count": null,
   "metadata": {
    "colab": {},
    "colab_type": "code",
    "id": "2nAL9P6D6X1R"
   },
   "outputs": [],
   "source": [
    "# reindex()"
   ]
  },
  {
   "cell_type": "code",
   "execution_count": null,
   "metadata": {
    "colab": {},
    "colab_type": "code",
    "id": "RC0hv8bADnLR"
   },
   "outputs": [],
   "source": [
    "players_lite = players.iloc[:4, :4]"
   ]
  },
  {
   "cell_type": "code",
   "execution_count": null,
   "metadata": {
    "colab": {
     "base_uri": "https://localhost:8080/",
     "height": 0
    },
    "colab_type": "code",
    "id": "B3z_Rj-iDrkR",
    "outputId": "bc445ef0-0565-4b43-9da4-d21dcf7d6a9e"
   },
   "outputs": [],
   "source": [
    "players_lite"
   ]
  },
  {
   "cell_type": "code",
   "execution_count": null,
   "metadata": {
    "colab": {},
    "colab_type": "code",
    "id": "kaaanK-wDvFm"
   },
   "outputs": [],
   "source": [
    "# row order: 2, 1, 3, 0\n",
    "# column order: age, name, position, club"
   ]
  },
  {
   "cell_type": "code",
   "execution_count": null,
   "metadata": {
    "colab": {
     "base_uri": "https://localhost:8080/",
     "height": 0
    },
    "colab_type": "code",
    "id": "ku31_SQeD5fL",
    "outputId": "2a6b1679-fbb1-4eae-ea35-2d5dc3ff15dc"
   },
   "outputs": [],
   "source": [
    "players_lite.reindex(index=[2,1,3,0], columns=['age', 'name', 'position', 'club'])"
   ]
  },
  {
   "cell_type": "code",
   "execution_count": null,
   "metadata": {
    "colab": {
     "base_uri": "https://localhost:8080/",
     "height": 0
    },
    "colab_type": "code",
    "id": "tN5ahaSXEEjh",
    "outputId": "c4093766-627b-4003-9041-d32111845970"
   },
   "outputs": [],
   "source": [
    "players.reindex(index=[2,1,3,0])"
   ]
  },
  {
   "cell_type": "code",
   "execution_count": null,
   "metadata": {
    "colab": {},
    "colab_type": "code",
    "id": "gpYyV8m-EbzO"
   },
   "outputs": [],
   "source": [
    "# ...get all the columns, and have them alphabetically ordered"
   ]
  },
  {
   "cell_type": "code",
   "execution_count": null,
   "metadata": {
    "colab": {
     "base_uri": "https://localhost:8080/",
     "height": 0
    },
    "colab_type": "code",
    "id": "Ah5bVJeIEul_",
    "outputId": "875c6d68-eefb-482b-e77c-193c61cc43d4"
   },
   "outputs": [],
   "source": [
    "players.reindex(index=[2,1,3,0]).sort_index(axis=1)"
   ]
  },
  {
   "cell_type": "code",
   "execution_count": null,
   "metadata": {
    "colab": {
     "base_uri": "https://localhost:8080/",
     "height": 0
    },
    "colab_type": "code",
    "id": "MTT334HEEy15",
    "outputId": "00a4021a-c155-43ca-dfab-5801e0174d07"
   },
   "outputs": [],
   "source": [
    "players.reindex(index=[2,1,3,0], columns=[])"
   ]
  },
  {
   "cell_type": "code",
   "execution_count": null,
   "metadata": {
    "colab": {},
    "colab_type": "code",
    "id": "0BKe-UhhFErD"
   },
   "outputs": [],
   "source": [
    "# how do we get a sorted list of column labels?"
   ]
  },
  {
   "cell_type": "code",
   "execution_count": null,
   "metadata": {
    "colab": {},
    "colab_type": "code",
    "id": "LI229YrVFHzv"
   },
   "outputs": [],
   "source": [
    "# ===ASIDE==="
   ]
  },
  {
   "cell_type": "code",
   "execution_count": null,
   "metadata": {
    "colab": {
     "base_uri": "https://localhost:8080/",
     "height": 0
    },
    "colab_type": "code",
    "id": "SGnDVacmFJcX",
    "outputId": "99ff614c-ab7b-4210-cad3-5b3558510e5b"
   },
   "outputs": [],
   "source": [
    "players.columns"
   ]
  },
  {
   "cell_type": "code",
   "execution_count": null,
   "metadata": {
    "colab": {
     "base_uri": "https://localhost:8080/",
     "height": 0
    },
    "colab_type": "code",
    "id": "VkClofnpFLKo",
    "outputId": "e8748593-f30e-4543-9569-d7965bcda38a"
   },
   "outputs": [],
   "source": [
    "iter(players.columns)"
   ]
  },
  {
   "cell_type": "code",
   "execution_count": null,
   "metadata": {
    "colab": {},
    "colab_type": "code",
    "id": "HGuJPY1jFPKQ"
   },
   "outputs": [],
   "source": [
    "# iter(True)"
   ]
  },
  {
   "cell_type": "code",
   "execution_count": null,
   "metadata": {
    "colab": {
     "base_uri": "https://localhost:8080/",
     "height": 0
    },
    "colab_type": "code",
    "id": "KhHYBR2TFTjq",
    "outputId": "d45843c5-e202-4762-8bf4-1cb2c5fa1e7a"
   },
   "outputs": [],
   "source": [
    "sorted(players.columns)"
   ]
  },
  {
   "cell_type": "code",
   "execution_count": null,
   "metadata": {
    "colab": {},
    "colab_type": "code",
    "id": "4935I21-FdlA"
   },
   "outputs": [],
   "source": [
    "# ===END ASIDE==="
   ]
  },
  {
   "cell_type": "code",
   "execution_count": null,
   "metadata": {
    "colab": {
     "base_uri": "https://localhost:8080/",
     "height": 0
    },
    "colab_type": "code",
    "id": "ou7B31BCFjZ7",
    "outputId": "c51f41f8-4f86-4cf3-a55e-2fed4894dbec"
   },
   "outputs": [],
   "source": [
    "players.reindex(index=[2,1,3,0], columns=sorted(players.columns)[:6])"
   ]
  },
  {
   "cell_type": "markdown",
   "metadata": {
    "colab_type": "text",
    "id": "la2y75JmG953"
   },
   "source": [
    "#### BONUS - Another Way"
   ]
  },
  {
   "cell_type": "code",
   "execution_count": null,
   "metadata": {
    "colab": {
     "base_uri": "https://localhost:8080/",
     "height": 0
    },
    "colab_type": "code",
    "id": "4DiTVvzuHquN",
    "outputId": "f0f2446c-5b14-44e7-efbc-356ce9282ed2"
   },
   "outputs": [],
   "source": [
    "players.reindex(index=[2,1,3,0], columns=sorted(players.columns))"
   ]
  },
  {
   "cell_type": "code",
   "execution_count": null,
   "metadata": {
    "colab": {
     "base_uri": "https://localhost:8080/",
     "height": 0
    },
    "colab_type": "code",
    "id": "dP-huwW9IiYg",
    "outputId": "3e667f65-c65d-4056-903d-f62a2d4b1c58"
   },
   "outputs": [],
   "source": [
    "sorted(players.columns)"
   ]
  },
  {
   "cell_type": "code",
   "execution_count": null,
   "metadata": {
    "colab": {
     "base_uri": "https://localhost:8080/",
     "height": 0
    },
    "colab_type": "code",
    "id": "S6RIG3elI74c",
    "outputId": "04a811f1-36ba-4be6-eb7b-8eedb5cf899e"
   },
   "outputs": [],
   "source": [
    "players.columns.sort_values()"
   ]
  },
  {
   "cell_type": "code",
   "execution_count": null,
   "metadata": {
    "colab": {
     "base_uri": "https://localhost:8080/",
     "height": 0
    },
    "colab_type": "code",
    "id": "T2mMZ-SXIu5T",
    "outputId": "37b89184-5301-4e66-cf3c-1d9f725b6250"
   },
   "outputs": [],
   "source": [
    "players.reindex(index=[2,1,3,0], columns=players.columns.sort_values())"
   ]
  },
  {
   "cell_type": "markdown",
   "metadata": {
    "colab_type": "text",
    "id": "vf1oAmZ6JEHe"
   },
   "source": [
    "#### BONUS: Please Avoid Sorting Like This"
   ]
  },
  {
   "cell_type": "code",
   "execution_count": null,
   "metadata": {
    "colab": {},
    "colab_type": "code",
    "id": "59CgeqCVJohs"
   },
   "outputs": [],
   "source": [
    "# anti-pattern - please do not do this!!!"
   ]
  },
  {
   "cell_type": "code",
   "execution_count": null,
   "metadata": {
    "colab": {},
    "colab_type": "code",
    "id": "kMyby3KQJozR"
   },
   "outputs": [],
   "source": [
    "df = players.iloc[:6, :6]"
   ]
  },
  {
   "cell_type": "code",
   "execution_count": null,
   "metadata": {
    "colab": {
     "base_uri": "https://localhost:8080/",
     "height": 0
    },
    "colab_type": "code",
    "id": "EWYSLLcpM0Hv",
    "outputId": "aa6e8c02-b9e0-49c6-d4c8-9c06c2fc6dd7"
   },
   "outputs": [],
   "source": [
    "df"
   ]
  },
  {
   "cell_type": "code",
   "execution_count": null,
   "metadata": {
    "colab": {
     "base_uri": "https://localhost:8080/",
     "height": 0
    },
    "colab_type": "code",
    "id": "pxkTwuHEM0qR",
    "outputId": "ecd1f071-ca3a-4bb2-baac-3022cafe619c"
   },
   "outputs": [],
   "source": [
    "df.swapaxes(1, 0)"
   ]
  },
  {
   "cell_type": "code",
   "execution_count": null,
   "metadata": {
    "colab": {
     "base_uri": "https://localhost:8080/",
     "height": 0
    },
    "colab_type": "code",
    "id": "xR1e_7JOM7Pz",
    "outputId": "620a3bd7-e5c5-405c-9bf2-8aea1946f04d"
   },
   "outputs": [],
   "source": [
    "df.T.sort_index().T"
   ]
  },
  {
   "cell_type": "code",
   "execution_count": null,
   "metadata": {
    "colab": {
     "base_uri": "https://localhost:8080/",
     "height": 0
    },
    "colab_type": "code",
    "id": "7pTtqlSiM_kk",
    "outputId": "d7bcfe0c-edb4-464c-d75b-2b2e537dfaf2"
   },
   "outputs": [],
   "source": [
    "df.sort_index(axis=1)"
   ]
  },
  {
   "cell_type": "markdown",
   "metadata": {
    "colab_type": "text",
    "id": "YuAT5K33NTfj"
   },
   "source": [
    "#### Skill Challenge"
   ]
  },
  {
   "cell_type": "markdown",
   "metadata": {
    "colab_type": "text",
    "id": "MkvQmkjjP82F"
   },
   "source": [
    "###### **1.**"
   ]
  },
  {
   "cell_type": "markdown",
   "metadata": {
    "colab_type": "text",
    "id": "Qq3Vq1hNQRHB"
   },
   "source": [
    "Sort the players in the **players** dataframe by age in ascending order. Who is the youngest footballer in the EPL?"
   ]
  },
  {
   "cell_type": "markdown",
   "metadata": {
    "colab_type": "text",
    "id": "iLXxoAaRQTm3"
   },
   "source": [
    "###### **2**. "
   ]
  },
  {
   "cell_type": "markdown",
   "metadata": {
    "colab_type": "text",
    "id": "r8hGAkohQYsz"
   },
   "source": [
    "Set the *club* column as the index of the dataframe. Then sort the dataframe index in alphabetical order. Make sure these changes are applied to the underlying dataframe and carry over to the next question. "
   ]
  },
  {
   "cell_type": "markdown",
   "metadata": {
    "colab_type": "text",
    "id": "bwn4T9pKQbdA"
   },
   "source": [
    "###### **3**."
   ]
  },
  {
   "cell_type": "markdown",
   "metadata": {
    "colab_type": "text",
    "id": "eZCVCayTQeQn"
   },
   "source": [
    "Sort the dataframe values by *club* and *market_value* where the club is alphabetical (Arsenal first) and the market value is in descending order (within each team, the most valuable players first)."
   ]
  },
  {
   "cell_type": "markdown",
   "metadata": {
    "colab_type": "text",
    "id": "gn5prJiTRrqm"
   },
   "source": [
    "#### Solution"
   ]
  },
  {
   "cell_type": "code",
   "execution_count": null,
   "metadata": {
    "colab": {},
    "colab_type": "code",
    "id": "zqMPqH7hSgSs"
   },
   "outputs": [],
   "source": [
    "# 1"
   ]
  },
  {
   "cell_type": "code",
   "execution_count": null,
   "metadata": {
    "colab": {
     "base_uri": "https://localhost:8080/",
     "height": 0
    },
    "colab_type": "code",
    "id": "q0qtMasrT1NQ",
    "outputId": "b5b20b18-68a5-43c7-f556-ab2329db3bed"
   },
   "outputs": [],
   "source": [
    "players.sort_values(by='age', ascending=True)"
   ]
  },
  {
   "cell_type": "code",
   "execution_count": null,
   "metadata": {
    "colab": {},
    "colab_type": "code",
    "id": "kDTw1_EdUINw"
   },
   "outputs": [],
   "source": [
    "# idxmin()!"
   ]
  },
  {
   "cell_type": "code",
   "execution_count": null,
   "metadata": {
    "colab": {
     "base_uri": "https://localhost:8080/",
     "height": 0
    },
    "colab_type": "code",
    "id": "5UC3KWXSUONq",
    "outputId": "c593dcc0-fb22-4e4c-c022-bcba5df82e51"
   },
   "outputs": [],
   "source": [
    "players.iloc[players.age.idxmin()]"
   ]
  },
  {
   "cell_type": "code",
   "execution_count": null,
   "metadata": {
    "colab": {},
    "colab_type": "code",
    "id": "K1_f9yNxURMe"
   },
   "outputs": [],
   "source": [
    "# 2"
   ]
  },
  {
   "cell_type": "code",
   "execution_count": null,
   "metadata": {
    "colab": {},
    "colab_type": "code",
    "id": "niL_9Xt1USuh"
   },
   "outputs": [],
   "source": [
    "players.set_index('club').sort_index(inplace=True)"
   ]
  },
  {
   "cell_type": "code",
   "execution_count": null,
   "metadata": {
    "colab": {
     "base_uri": "https://localhost:8080/",
     "height": 0
    },
    "colab_type": "code",
    "id": "avWJFxkWUaje",
    "outputId": "b952002c-94d2-46c7-8c84-43dc43b26760"
   },
   "outputs": [],
   "source": [
    "players.head()"
   ]
  },
  {
   "cell_type": "code",
   "execution_count": null,
   "metadata": {
    "colab": {},
    "colab_type": "code",
    "id": "6t2UAiyDUeiG"
   },
   "outputs": [],
   "source": [
    "# 3"
   ]
  },
  {
   "cell_type": "code",
   "execution_count": null,
   "metadata": {
    "colab": {
     "base_uri": "https://localhost:8080/",
     "height": 0
    },
    "colab_type": "code",
    "id": "4JqUWxVvUii_",
    "outputId": "39a466ec-f08f-4470-d89c-36a36f9582cc"
   },
   "outputs": [],
   "source": [
    "players.sort_values(by=['club', 'market_value'], ascending=[True, False])"
   ]
  },
  {
   "cell_type": "markdown",
   "metadata": {
    "colab_type": "text",
    "id": "ZMbH7JDwU37N"
   },
   "source": [
    "#### Identifying Dupes"
   ]
  },
  {
   "cell_type": "code",
   "execution_count": null,
   "metadata": {
    "colab": {
     "base_uri": "https://localhost:8080/",
     "height": 0
    },
    "colab_type": "code",
    "id": "mjBP6dsxVTYq",
    "outputId": "f11ee5d5-4cde-4566-a6b8-7aca7375df8a"
   },
   "outputs": [],
   "source": [
    "players.head()"
   ]
  },
  {
   "cell_type": "code",
   "execution_count": null,
   "metadata": {
    "colab": {
     "base_uri": "https://localhost:8080/",
     "height": 0
    },
    "colab_type": "code",
    "id": "S_gmGOt-jQZp",
    "outputId": "ceb79552-f91c-47c3-b28a-4d9a1d55ebca"
   },
   "outputs": [],
   "source": [
    "players.duplicated()"
   ]
  },
  {
   "cell_type": "code",
   "execution_count": null,
   "metadata": {
    "colab": {
     "base_uri": "https://localhost:8080/",
     "height": 0
    },
    "colab_type": "code",
    "id": "rZ8GcAudj4h7",
    "outputId": "f031447b-c3be-4da7-eb7f-c6d3274ef724"
   },
   "outputs": [],
   "source": [
    "players[players.duplicated()]"
   ]
  },
  {
   "cell_type": "code",
   "execution_count": null,
   "metadata": {
    "colab": {},
    "colab_type": "code",
    "id": "yCUqK-6ij75T"
   },
   "outputs": [],
   "source": [
    "# the subset param"
   ]
  },
  {
   "cell_type": "code",
   "execution_count": null,
   "metadata": {
    "colab": {},
    "colab_type": "code",
    "id": "lan11FDykVTv"
   },
   "outputs": [],
   "source": [
    "# unique -> club, age, position, market_value"
   ]
  },
  {
   "cell_type": "code",
   "execution_count": null,
   "metadata": {
    "colab": {
     "base_uri": "https://localhost:8080/",
     "height": 0
    },
    "colab_type": "code",
    "id": "DodSqUZJkYuk",
    "outputId": "35ce480c-5259-4c39-d85a-f9fedcef3984"
   },
   "outputs": [],
   "source": [
    "players.loc[players.duplicated(subset=['club', 'age', 'position', 'market_value'])]"
   ]
  },
  {
   "cell_type": "code",
   "execution_count": null,
   "metadata": {
    "colab": {
     "base_uri": "https://localhost:8080/",
     "height": 0
    },
    "colab_type": "code",
    "id": "jm2DXl4-kilq",
    "outputId": "5f8bc310-3a9d-4d78-aa65-fb4560b02577"
   },
   "outputs": [],
   "source": [
    "players.loc[players.duplicated(subset=['club', 'age', 'position', 'market_value'])].shape"
   ]
  },
  {
   "cell_type": "code",
   "execution_count": null,
   "metadata": {
    "colab": {},
    "colab_type": "code",
    "id": "Ixx3M2mHkrUn"
   },
   "outputs": [],
   "source": [
    "# A - first -> original\n",
    "# A\n",
    "# A - last -> original"
   ]
  },
  {
   "cell_type": "code",
   "execution_count": null,
   "metadata": {
    "colab": {
     "base_uri": "https://localhost:8080/",
     "height": 0
    },
    "colab_type": "code",
    "id": "469w204Jk6_8",
    "outputId": "e004e426-fc68-4724-8f72-0024c76c55d5"
   },
   "outputs": [],
   "source": [
    "players.loc[players.duplicated(subset=['club', 'age', 'position', 'market_value'], keep='last')]"
   ]
  },
  {
   "cell_type": "code",
   "execution_count": null,
   "metadata": {
    "colab": {
     "base_uri": "https://localhost:8080/",
     "height": 0
    },
    "colab_type": "code",
    "id": "hKPbJlYAlBIi",
    "outputId": "000eb758-656b-4364-f83a-71eb69505bdc"
   },
   "outputs": [],
   "source": [
    "players.loc[players.duplicated(subset=['club', 'age', 'position', 'market_value'], keep='last')].shape"
   ]
  },
  {
   "cell_type": "code",
   "execution_count": null,
   "metadata": {
    "colab": {
     "base_uri": "https://localhost:8080/",
     "height": 0
    },
    "colab_type": "code",
    "id": "XMKSUuwAlJrl",
    "outputId": "b55851ba-78fc-4b99-ce7c-a81f24eb997c"
   },
   "outputs": [],
   "source": [
    "players.loc[players.duplicated(subset=['club', 'age', 'position', 'market_value'], keep=False)]"
   ]
  },
  {
   "cell_type": "code",
   "execution_count": null,
   "metadata": {
    "colab": {
     "base_uri": "https://localhost:8080/",
     "height": 0
    },
    "colab_type": "code",
    "id": "i665a_YKlQtx",
    "outputId": "36d7ab28-d458-45fb-c136-70e95b46d241"
   },
   "outputs": [],
   "source": [
    "players.loc[players.duplicated(subset=['club', 'age', 'position', 'market_value'], keep=False)].shape"
   ]
  },
  {
   "cell_type": "markdown",
   "metadata": {
    "colab_type": "text",
    "id": "ViiO_59qlUXR"
   },
   "source": [
    "#### Removing Duplicates"
   ]
  },
  {
   "cell_type": "code",
   "execution_count": null,
   "metadata": {
    "colab": {
     "base_uri": "https://localhost:8080/",
     "height": 0
    },
    "colab_type": "code",
    "id": "TT-T5Xh8usQu",
    "outputId": "518ea024-6290-4f46-f9eb-74a9f9e8dab9"
   },
   "outputs": [],
   "source": [
    "players[players.duplicated(subset=None, keep='first')]"
   ]
  },
  {
   "cell_type": "code",
   "execution_count": null,
   "metadata": {
    "colab": {
     "base_uri": "https://localhost:8080/",
     "height": 0
    },
    "colab_type": "code",
    "id": "VJBxtizQw45p",
    "outputId": "f898594f-f096-4d5f-ca11-5baadc50e4e9"
   },
   "outputs": [],
   "source": [
    "players.market_value.mean()"
   ]
  },
  {
   "cell_type": "code",
   "execution_count": null,
   "metadata": {
    "colab": {
     "base_uri": "https://localhost:8080/",
     "height": 0
    },
    "colab_type": "code",
    "id": "23CMApk-xFjh",
    "outputId": "0725c1a6-a936-413e-9b5b-125b6fb2a0d6"
   },
   "outputs": [],
   "source": [
    "players.drop_duplicates(keep='first').market_value.mean()"
   ]
  },
  {
   "cell_type": "code",
   "execution_count": null,
   "metadata": {
    "colab": {},
    "colab_type": "code",
    "id": "4N_IJOlfxi_i"
   },
   "outputs": [],
   "source": [
    "# duplicates are not necessarily bad!"
   ]
  },
  {
   "cell_type": "markdown",
   "metadata": {
    "colab_type": "text",
    "id": "4xbp33eOyPrL"
   },
   "source": [
    "#### Removing DataFrame Rows"
   ]
  },
  {
   "cell_type": "code",
   "execution_count": null,
   "metadata": {
    "colab": {
     "base_uri": "https://localhost:8080/",
     "height": 0
    },
    "colab_type": "code",
    "id": "VL5696qmytRN",
    "outputId": "74fa9a72-e498-47df-cdfa-7af2427c02f0"
   },
   "outputs": [],
   "source": [
    "players[players.duplicated()]"
   ]
  },
  {
   "cell_type": "code",
   "execution_count": null,
   "metadata": {
    "colab": {
     "base_uri": "https://localhost:8080/",
     "height": 0
    },
    "colab_type": "code",
    "id": "qjPc5gsHkYMt",
    "outputId": "eaacdbf0-4e0b-45f5-b561-d19cb0feb401"
   },
   "outputs": [],
   "source": [
    "players.drop(labels=19, axis=0)"
   ]
  },
  {
   "cell_type": "code",
   "execution_count": null,
   "metadata": {
    "colab": {
     "base_uri": "https://localhost:8080/",
     "height": 0
    },
    "colab_type": "code",
    "id": "ubrrPvaLkych",
    "outputId": "3839d48b-cb02-46d4-9c91-c669b13c3dc5"
   },
   "outputs": [],
   "source": [
    "players.drop(index=19)"
   ]
  },
  {
   "cell_type": "code",
   "execution_count": null,
   "metadata": {
    "colab": {
     "base_uri": "https://localhost:8080/",
     "height": 0
    },
    "colab_type": "code",
    "id": "IU-HWBgyk6F1",
    "outputId": "78898eb9-88d7-4d81-f649-808bc1effa80"
   },
   "outputs": [],
   "source": [
    "players.drop(index=[19, 20, 21, 231, 10])"
   ]
  },
  {
   "cell_type": "code",
   "execution_count": null,
   "metadata": {
    "colab": {
     "base_uri": "https://localhost:8080/",
     "height": 0
    },
    "colab_type": "code",
    "id": "N7PIuvJKlIYp",
    "outputId": "2caa9124-71b4-4202-b335-c22a57d765ba"
   },
   "outputs": [],
   "source": [
    "players.shape"
   ]
  },
  {
   "cell_type": "markdown",
   "metadata": {
    "colab_type": "text",
    "id": "z6cafdW2lKqa"
   },
   "source": [
    "#### BONUS - Removing Columns"
   ]
  },
  {
   "cell_type": "code",
   "execution_count": null,
   "metadata": {
    "colab": {},
    "colab_type": "code",
    "id": "uzFRkbkMmjQE"
   },
   "outputs": [],
   "source": [
    "# \"remove rows\" -> df.drop(labels=[19, 20], axis=0) or df.drop(index=[19, 20])"
   ]
  },
  {
   "cell_type": "code",
   "execution_count": null,
   "metadata": {
    "colab": {},
    "colab_type": "code",
    "id": "GxSHEyN2m0mn"
   },
   "outputs": [],
   "source": [
    "# \"remove columns\" -> ???"
   ]
  },
  {
   "cell_type": "code",
   "execution_count": null,
   "metadata": {
    "colab": {
     "base_uri": "https://localhost:8080/",
     "height": 0
    },
    "colab_type": "code",
    "id": "636q-ym3m4o9",
    "outputId": "8aa4912f-a776-4c9b-fcd2-1af1e5b4e07e"
   },
   "outputs": [],
   "source": [
    "players.drop(labels=['age', 'market_value'], axis='columns')"
   ]
  },
  {
   "cell_type": "code",
   "execution_count": null,
   "metadata": {
    "colab": {
     "base_uri": "https://localhost:8080/",
     "height": 0
    },
    "colab_type": "code",
    "id": "nY73vO7roVju",
    "outputId": "b1d5f179-f62a-47e7-ddd2-f9163a075b9f"
   },
   "outputs": [],
   "source": [
    "players.columns"
   ]
  },
  {
   "cell_type": "code",
   "execution_count": null,
   "metadata": {
    "colab": {
     "base_uri": "https://localhost:8080/",
     "height": 0
    },
    "colab_type": "code",
    "id": "xbvo7io-oYYq",
    "outputId": "907db5e5-7f2e-492c-e8f5-ed3b08a4e803"
   },
   "outputs": [],
   "source": [
    "players.drop(columns=['age', 'market_value', 'name'])"
   ]
  },
  {
   "cell_type": "markdown",
   "metadata": {
    "colab_type": "text",
    "id": "aVIroY6zor74"
   },
   "source": [
    "#### BONUS - Another Way: pop()"
   ]
  },
  {
   "cell_type": "code",
   "execution_count": null,
   "metadata": {
    "colab": {
     "base_uri": "https://localhost:8080/",
     "height": 0
    },
    "colab_type": "code",
    "id": "KyvVeIXjupf1",
    "outputId": "8e4cc6b6-bf5a-4ae9-d1b0-70426a4aeb83"
   },
   "outputs": [],
   "source": [
    "players.pop('age')"
   ]
  },
  {
   "cell_type": "code",
   "execution_count": null,
   "metadata": {
    "colab": {},
    "colab_type": "code",
    "id": "dVzD88VZvV2U"
   },
   "outputs": [],
   "source": [
    "# players.pop(['club', 'age']) "
   ]
  },
  {
   "cell_type": "code",
   "execution_count": null,
   "metadata": {
    "colab": {},
    "colab_type": "code",
    "id": "3Nv9reG-vjfG"
   },
   "outputs": [],
   "source": [
    "# players.pop('club') and then players.pop('age')"
   ]
  },
  {
   "cell_type": "code",
   "execution_count": null,
   "metadata": {
    "colab": {
     "base_uri": "https://localhost:8080/",
     "height": 0
    },
    "colab_type": "code",
    "id": "ANZUtuCmvnxw",
    "outputId": "16755eb0-2ae8-4f14-b2c4-957a2db83923"
   },
   "outputs": [],
   "source": [
    "players.columns"
   ]
  },
  {
   "cell_type": "code",
   "execution_count": null,
   "metadata": {
    "colab": {
     "base_uri": "https://localhost:8080/",
     "height": 0
    },
    "colab_type": "code",
    "id": "ivqbjLrQv0Q7",
    "outputId": "16ecc20f-2edb-4a3d-cb5c-3013527e2d1e"
   },
   "outputs": [],
   "source": [
    "players.head(4)"
   ]
  },
  {
   "cell_type": "markdown",
   "metadata": {
    "colab_type": "text",
    "id": "SCkDIt98v2QT"
   },
   "source": [
    "#### BONUS - A Sophisticated Alternative"
   ]
  },
  {
   "cell_type": "code",
   "execution_count": null,
   "metadata": {
    "colab": {},
    "colab_type": "code",
    "id": "DDsjfECV79kb"
   },
   "outputs": [],
   "source": [
    "# reindex to remove rows/columns"
   ]
  },
  {
   "cell_type": "code",
   "execution_count": null,
   "metadata": {
    "colab": {
     "base_uri": "https://localhost:8080/",
     "height": 0
    },
    "colab_type": "code",
    "id": "u7HIGsgZ79gl",
    "outputId": "7ad20769-1b1a-4185-8521-1ac2fa8f6d14"
   },
   "outputs": [],
   "source": [
    "players.reindex()"
   ]
  },
  {
   "cell_type": "code",
   "execution_count": null,
   "metadata": {
    "colab": {
     "base_uri": "https://localhost:8080/",
     "height": 0
    },
    "colab_type": "code",
    "id": "RQI7iwsn78ic",
    "outputId": "94b4dbd6-9e83-4852-bc7f-1acfc80960b5"
   },
   "outputs": [],
   "source": [
    "players.reindex(index=[0,3,9])"
   ]
  },
  {
   "cell_type": "code",
   "execution_count": null,
   "metadata": {
    "colab": {},
    "colab_type": "code",
    "id": "aXoEd36U78Ll"
   },
   "outputs": [],
   "source": [
    "unwanted_rows = [1,2,3,4]\n",
    "unwanted_columns = ['name', 'position', 'position_cat']"
   ]
  },
  {
   "cell_type": "code",
   "execution_count": null,
   "metadata": {
    "colab": {
     "base_uri": "https://localhost:8080/",
     "height": 0
    },
    "colab_type": "code",
    "id": "xXacNkdU78G5",
    "outputId": "60eb7a8e-1f92-4416-ef21-c84dcdec783d"
   },
   "outputs": [],
   "source": [
    "players.reindex(\n",
    "    index=set(players.index).difference(unwanted_rows),\n",
    "    columns=set(players.columns).difference(unwanted_columns)\n",
    "    )"
   ]
  },
  {
   "cell_type": "markdown",
   "metadata": {
    "colab_type": "text",
    "id": "C2M5A5GQ72M7"
   },
   "source": [
    "#### Null Values In DataFrames"
   ]
  },
  {
   "cell_type": "code",
   "execution_count": null,
   "metadata": {
    "colab": {},
    "colab_type": "code",
    "id": "VK7yt9sURjyo"
   },
   "outputs": [],
   "source": [
    "players = pd.read_csv('https://andybek.com/pandas-soccer')"
   ]
  },
  {
   "cell_type": "code",
   "execution_count": null,
   "metadata": {
    "colab": {
     "base_uri": "https://localhost:8080/",
     "height": 0
    },
    "colab_type": "code",
    "id": "q9eaolRpR1FW",
    "outputId": "3a8ea5dd-b50b-4a09-d0a6-ab55ea9388cd"
   },
   "outputs": [],
   "source": [
    "players.head()"
   ]
  },
  {
   "cell_type": "code",
   "execution_count": null,
   "metadata": {
    "colab": {
     "base_uri": "https://localhost:8080/",
     "height": 0
    },
    "colab_type": "code",
    "id": "8imr4NRJYcNG",
    "outputId": "132fde7a-6b13-41f6-faeb-ab57997728d7"
   },
   "outputs": [],
   "source": [
    "players.shape"
   ]
  },
  {
   "cell_type": "code",
   "execution_count": null,
   "metadata": {
    "colab": {},
    "colab_type": "code",
    "id": "TBOhLY64Yc-6"
   },
   "outputs": [],
   "source": [
    "# series refresher"
   ]
  },
  {
   "cell_type": "code",
   "execution_count": null,
   "metadata": {
    "colab": {},
    "colab_type": "code",
    "id": "IK7pLtNYY2s5"
   },
   "outputs": [],
   "source": [
    "ages = players.age"
   ]
  },
  {
   "cell_type": "code",
   "execution_count": null,
   "metadata": {
    "colab": {
     "base_uri": "https://localhost:8080/",
     "height": 0
    },
    "colab_type": "code",
    "id": "0h_KNgyAY4G2",
    "outputId": "ea135f1a-35c1-4155-f653-5dc19d1aad36"
   },
   "outputs": [],
   "source": [
    "type(players.age)"
   ]
  },
  {
   "cell_type": "code",
   "execution_count": null,
   "metadata": {
    "colab": {
     "base_uri": "https://localhost:8080/",
     "height": 0
    },
    "colab_type": "code",
    "id": "Wqa8g1iIY56N",
    "outputId": "855d2a68-0e99-4818-e113-c7f854e75d5b"
   },
   "outputs": [],
   "source": [
    "ages.isna()"
   ]
  },
  {
   "cell_type": "code",
   "execution_count": null,
   "metadata": {
    "colab": {
     "base_uri": "https://localhost:8080/",
     "height": 0
    },
    "colab_type": "code",
    "id": "C_u_b5IhZAhw",
    "outputId": "ed925848-89a1-4578-f493-b2cf952f67c0"
   },
   "outputs": [],
   "source": [
    "ages[ages.isna()]"
   ]
  },
  {
   "cell_type": "code",
   "execution_count": null,
   "metadata": {
    "colab": {},
    "colab_type": "code",
    "id": "ylZ-kgu5ZFOE"
   },
   "outputs": [],
   "source": [
    "# dataframes"
   ]
  },
  {
   "cell_type": "code",
   "execution_count": null,
   "metadata": {
    "colab": {
     "base_uri": "https://localhost:8080/",
     "height": 0
    },
    "colab_type": "code",
    "id": "bMsbg4XNZTpL",
    "outputId": "ea71f853-d736-4d23-c460-1e620fc8f869"
   },
   "outputs": [],
   "source": [
    "players.isna()"
   ]
  },
  {
   "cell_type": "code",
   "execution_count": null,
   "metadata": {
    "colab": {},
    "colab_type": "code",
    "id": "5RmlpevGZVkD"
   },
   "outputs": [],
   "source": [
    "# how many NAs are there in this dataframe?"
   ]
  },
  {
   "cell_type": "code",
   "execution_count": null,
   "metadata": {
    "colab": {
     "base_uri": "https://localhost:8080/",
     "height": 0
    },
    "colab_type": "code",
    "id": "9xhaaVsZZebl",
    "outputId": "3aef1739-5d34-4d69-8ec8-88f8e246f0fd"
   },
   "outputs": [],
   "source": [
    "np.count_nonzero(players.isna())"
   ]
  },
  {
   "cell_type": "code",
   "execution_count": null,
   "metadata": {
    "colab": {},
    "colab_type": "code",
    "id": "GK74dqCjZgnO"
   },
   "outputs": [],
   "source": [
    "# which records have NAs in this dataframe?"
   ]
  },
  {
   "cell_type": "code",
   "execution_count": null,
   "metadata": {
    "colab": {
     "base_uri": "https://localhost:8080/",
     "height": 0
    },
    "colab_type": "code",
    "id": "hTn5JVENZpuO",
    "outputId": "e976b943-f78a-4234-bcb5-7b8ab8ef1c64"
   },
   "outputs": [],
   "source": [
    "players[players.isna().values].drop_duplicates()"
   ]
  },
  {
   "cell_type": "markdown",
   "metadata": {
    "colab_type": "text",
    "id": "qW9xrpfgZ0l0"
   },
   "source": [
    "#### Dropping And Filling DataFrame NAs"
   ]
  },
  {
   "cell_type": "code",
   "execution_count": null,
   "metadata": {
    "colab": {
     "base_uri": "https://localhost:8080/",
     "height": 0
    },
    "colab_type": "code",
    "id": "UodHIfCMfbIy",
    "outputId": "aa121ce3-763a-4f9a-9d05-8b3d7cb71229"
   },
   "outputs": [],
   "source": [
    "players.fillna('some meaningful replacement value').loc[[30, 192, 195]]"
   ]
  },
  {
   "cell_type": "code",
   "execution_count": null,
   "metadata": {
    "colab": {
     "base_uri": "https://localhost:8080/",
     "height": 0
    },
    "colab_type": "code",
    "id": "lQJipNt0erVf",
    "outputId": "4f0611e7-588a-4f52-a5ef-83897d9a6d3b"
   },
   "outputs": [],
   "source": [
    "players.fillna({\n",
    "    'market_value': 100,\n",
    "    'position': 'RM'\n",
    "}).loc[[30, 192, 195]]"
   ]
  },
  {
   "cell_type": "code",
   "execution_count": null,
   "metadata": {
    "colab": {
     "base_uri": "https://localhost:8080/",
     "height": 0
    },
    "colab_type": "code",
    "id": "3wzh7_ZmerCf",
    "outputId": "ee3d3d73-b397-4ff0-ab92-8d28c8de58db"
   },
   "outputs": [],
   "source": [
    "players.position.unique()"
   ]
  },
  {
   "cell_type": "code",
   "execution_count": null,
   "metadata": {
    "colab": {
     "base_uri": "https://localhost:8080/",
     "height": 0
    },
    "colab_type": "code",
    "id": "reyNS0pgeqsW",
    "outputId": "6ac5843f-3bed-43fa-e12b-8ae9cb5cd94a"
   },
   "outputs": [],
   "source": [
    "players.fillna({\n",
    "    'market_value': players.market_value.mean(),\n",
    "    'position': 'RM'\n",
    "}).loc[[30, 192, 195]]"
   ]
  },
  {
   "cell_type": "code",
   "execution_count": null,
   "metadata": {
    "colab": {},
    "colab_type": "code",
    "id": "1yDEUeaxeqA3"
   },
   "outputs": [],
   "source": [
    "# how about dropping nulls?"
   ]
  },
  {
   "cell_type": "code",
   "execution_count": null,
   "metadata": {
    "colab": {
     "base_uri": "https://localhost:8080/",
     "height": 0
    },
    "colab_type": "code",
    "id": "xlINqFD4dp7h",
    "outputId": "204a045f-48de-4b90-8237-15552b8a10e0"
   },
   "outputs": [],
   "source": [
    "players.dropna(axis=1, how='all').loc[[30, 192, 195]]"
   ]
  },
  {
   "cell_type": "markdown",
   "metadata": {
    "colab_type": "text",
    "id": "bKCFbFIEgpgA"
   },
   "source": [
    "#### BONUS - Method And Axes With fillna()"
   ]
  },
  {
   "cell_type": "code",
   "execution_count": null,
   "metadata": {
    "colab": {
     "base_uri": "https://localhost:8080/",
     "height": 0
    },
    "colab_type": "code",
    "id": "ftFa7ttmh5YO",
    "outputId": "e1f022a5-e8b2-44bc-840e-172f1c355c23"
   },
   "outputs": [],
   "source": [
    "players[players.isna().values].drop_duplicates()"
   ]
  },
  {
   "cell_type": "code",
   "execution_count": null,
   "metadata": {
    "colab": {},
    "colab_type": "code",
    "id": "Fc_i1gYPh4Nu"
   },
   "outputs": [],
   "source": [
    "# players.fillna('some meaningful replacement value').loc[[30, 192, 195]]\n",
    "\n",
    "# players.fillna({ 'market_value': 100, 'position': 'RM' }).loc[[30, 192, 195]]"
   ]
  },
  {
   "cell_type": "code",
   "execution_count": null,
   "metadata": {
    "colab": {
     "base_uri": "https://localhost:8080/",
     "height": 0
    },
    "colab_type": "code",
    "id": "fD8T2yhZh1K_",
    "outputId": "ac4549fa-cef6-430f-c1bd-07e39a7005b3"
   },
   "outputs": [],
   "source": [
    "players.fillna(method='ffill').loc[[29, 30, 191, 192, 194, 195]]"
   ]
  },
  {
   "cell_type": "code",
   "execution_count": null,
   "metadata": {
    "colab": {
     "base_uri": "https://localhost:8080/",
     "height": 0
    },
    "colab_type": "code",
    "id": "3am4YHavvua7",
    "outputId": "83ac73d7-3a3f-4629-b0e4-9cf7d3151e18"
   },
   "outputs": [],
   "source": [
    "players.fillna(method='ffill', axis=0).loc[[29, 30, 191, 192, 194, 195]]"
   ]
  },
  {
   "cell_type": "code",
   "execution_count": null,
   "metadata": {
    "colab": {
     "base_uri": "https://localhost:8080/",
     "height": 0
    },
    "colab_type": "code",
    "id": "hWfKz51GwOlb",
    "outputId": "60e66ebc-4638-4271-bbf7-4e61fbae5304"
   },
   "outputs": [],
   "source": [
    "players.fillna(method='pad', axis=1).loc[[30, 192, 195]]"
   ]
  },
  {
   "cell_type": "code",
   "execution_count": null,
   "metadata": {
    "colab": {},
    "colab_type": "code",
    "id": "kfBG5Lj4wng3"
   },
   "outputs": [],
   "source": [
    "# 'ffill' -> 'pad'\n",
    "# 'bfill' -> 'backfill'"
   ]
  },
  {
   "cell_type": "code",
   "execution_count": null,
   "metadata": {
    "colab": {},
    "colab_type": "code",
    "id": "EIYGOW9ixkIs"
   },
   "outputs": [],
   "source": [
    "# word of the lecture: duo -> pair"
   ]
  },
  {
   "cell_type": "markdown",
   "metadata": {
    "colab_type": "text",
    "id": "qmRopmCExqI5"
   },
   "source": [
    "#### Skill Challenge"
   ]
  },
  {
   "cell_type": "markdown",
   "metadata": {
    "colab_type": "text",
    "id": "tzCGo5kSEUWl"
   },
   "source": [
    "###### **1**."
   ]
  },
  {
   "cell_type": "markdown",
   "metadata": {
    "colab_type": "text",
    "id": "BB_HVneJic7_"
   },
   "source": [
    "From our *players* dataframe remove the rows labeled 2, 10, 21 and the market_value columns. Do not modify the underlying dataframe. Assign the result to _df2_."
   ]
  },
  {
   "cell_type": "markdown",
   "metadata": {
    "colab_type": "text",
    "id": "VSQ4vXjwiv7R"
   },
   "source": [
    "###### **2**."
   ]
  },
  {
   "cell_type": "markdown",
   "metadata": {
    "colab_type": "text",
    "id": "j2FDIw7LizIl"
   },
   "source": [
    "Does the _nationality_ column in _df2_ contain any NA values? How many unique nationalities are there?"
   ]
  },
  {
   "cell_type": "markdown",
   "metadata": {
    "colab_type": "text",
    "id": "SYQMygByl5Zf"
   },
   "source": [
    "###### **3**."
   ]
  },
  {
   "cell_type": "markdown",
   "metadata": {
    "colab_type": "text",
    "id": "ulpUq3cjl9b3"
   },
   "source": [
    "Starting from _df2_, isolate a dataframe slice of players that contains only the unique _age_-_position_ combinations for each _club_. Do not include the _club_ column itself."
   ]
  },
  {
   "cell_type": "markdown",
   "metadata": {
    "colab_type": "text",
    "id": "u7KpZZGGqT6R"
   },
   "source": [
    "#### Solution"
   ]
  },
  {
   "cell_type": "code",
   "execution_count": null,
   "metadata": {
    "colab": {
     "base_uri": "https://localhost:8080/",
     "height": 0
    },
    "colab_type": "code",
    "id": "RnQKgL7HsvaH",
    "outputId": "f1fb00a3-ce1b-4073-e58e-aa52a77a5ed2"
   },
   "outputs": [],
   "source": [
    "players.head(3)"
   ]
  },
  {
   "cell_type": "code",
   "execution_count": null,
   "metadata": {
    "colab": {},
    "colab_type": "code",
    "id": "QbKmn8sUuOOt"
   },
   "outputs": [],
   "source": [
    "# 1"
   ]
  },
  {
   "cell_type": "code",
   "execution_count": null,
   "metadata": {
    "colab": {},
    "colab_type": "code",
    "id": "LBkLrjLoupaQ"
   },
   "outputs": [],
   "source": [
    "df2 = players.drop(labels=[2,10,21], axis=0)\\\n",
    "       .drop(labels='market_value', axis=1)"
   ]
  },
  {
   "cell_type": "code",
   "execution_count": null,
   "metadata": {
    "colab": {
     "base_uri": "https://localhost:8080/",
     "height": 0
    },
    "colab_type": "code",
    "id": "TSNAfIXvu5hw",
    "outputId": "1c4179a7-2ed4-449b-fc88-cea656de69e1"
   },
   "outputs": [],
   "source": [
    "# alternative\n",
    "players.drop(index=[2, 10, 21], columns='market_value')"
   ]
  },
  {
   "cell_type": "code",
   "execution_count": null,
   "metadata": {
    "colab": {},
    "colab_type": "code",
    "id": "1QZ8OsKZvMxE"
   },
   "outputs": [],
   "source": [
    "# 2"
   ]
  },
  {
   "cell_type": "code",
   "execution_count": null,
   "metadata": {
    "colab": {
     "base_uri": "https://localhost:8080/",
     "height": 0
    },
    "colab_type": "code",
    "id": "FbBey4wAvSF2",
    "outputId": "b57e887f-e564-49aa-deb4-6842c3ef0bd7"
   },
   "outputs": [],
   "source": [
    "df2.nationality.isnull().sum()"
   ]
  },
  {
   "cell_type": "code",
   "execution_count": null,
   "metadata": {
    "colab": {
     "base_uri": "https://localhost:8080/",
     "height": 0
    },
    "colab_type": "code",
    "id": "VvB25-j3vUyO",
    "outputId": "3fcb6c81-8be9-4e24-fafc-9fddfd0bf57c"
   },
   "outputs": [],
   "source": [
    "df2.nationality[df2.nationality.isnull()]"
   ]
  },
  {
   "cell_type": "code",
   "execution_count": null,
   "metadata": {
    "colab": {},
    "colab_type": "code",
    "id": "Bd8ybRCAvfhR"
   },
   "outputs": [],
   "source": [
    "# how many uniques"
   ]
  },
  {
   "cell_type": "code",
   "execution_count": null,
   "metadata": {
    "colab": {
     "base_uri": "https://localhost:8080/",
     "height": 0
    },
    "colab_type": "code",
    "id": "2I_WkMNhvkFw",
    "outputId": "3c824479-e8f0-4417-e31e-4bb598445665"
   },
   "outputs": [],
   "source": [
    "df2.nationality.drop_duplicates().size"
   ]
  },
  {
   "cell_type": "code",
   "execution_count": null,
   "metadata": {
    "colab": {},
    "colab_type": "code",
    "id": "i58dY4OHvlL1"
   },
   "outputs": [],
   "source": [
    "# an alternative"
   ]
  },
  {
   "cell_type": "code",
   "execution_count": null,
   "metadata": {
    "colab": {
     "base_uri": "https://localhost:8080/",
     "height": 0
    },
    "colab_type": "code",
    "id": "ISbD_t1jvtGX",
    "outputId": "7bfbf373-9f99-478e-cd89-d9d125917aab"
   },
   "outputs": [],
   "source": [
    "df2.nationality.nunique()"
   ]
  },
  {
   "cell_type": "code",
   "execution_count": null,
   "metadata": {
    "colab": {},
    "colab_type": "code",
    "id": "qt1WNJP3vvMh"
   },
   "outputs": [],
   "source": [
    "# 3"
   ]
  },
  {
   "cell_type": "code",
   "execution_count": null,
   "metadata": {
    "colab": {
     "base_uri": "https://localhost:8080/",
     "height": 0
    },
    "colab_type": "code",
    "id": "lLAtGmoSvxTS",
    "outputId": "346579c5-006e-4227-a657-9f8ca190ac5f"
   },
   "outputs": [],
   "source": [
    "df2.drop_duplicates(subset=['age', 'club', 'position'], keep='first').loc[:, ['age', 'position']]"
   ]
  },
  {
   "cell_type": "code",
   "execution_count": null,
   "metadata": {
    "colab": {
     "base_uri": "https://localhost:8080/",
     "height": 0
    },
    "colab_type": "code",
    "id": "mI-I11tgwLVZ",
    "outputId": "8d266b6c-7c81-4e74-e3c5-77a9f12da4c0"
   },
   "outputs": [],
   "source": [
    "df2.shape"
   ]
  },
  {
   "cell_type": "markdown",
   "metadata": {
    "colab_type": "text",
    "id": "vzwcHciFwQFO"
   },
   "source": [
    "#### Calculating Aggregates With agg()"
   ]
  },
  {
   "cell_type": "code",
   "execution_count": null,
   "metadata": {
    "colab": {
     "base_uri": "https://localhost:8080/",
     "height": 0
    },
    "colab_type": "code",
    "id": "J1KkA1D9tHT1",
    "outputId": "56d388e4-5e0c-46e6-d8c8-c5f5736b228f"
   },
   "outputs": [],
   "source": [
    "players.agg('mean')"
   ]
  },
  {
   "cell_type": "code",
   "execution_count": null,
   "metadata": {
    "colab": {
     "base_uri": "https://localhost:8080/",
     "height": 0
    },
    "colab_type": "code",
    "id": "ZUAp-QHQtHKN",
    "outputId": "5e36aa57-778a-4180-ffcb-677702033f96"
   },
   "outputs": [],
   "source": [
    "players.new_signing.mean()"
   ]
  },
  {
   "cell_type": "code",
   "execution_count": null,
   "metadata": {
    "colab": {
     "base_uri": "https://localhost:8080/",
     "height": 0
    },
    "colab_type": "code",
    "id": "kktTPJfgtHF8",
    "outputId": "b56c3b00-5994-404a-ff85-0b516ee1e176"
   },
   "outputs": [],
   "source": [
    "players.agg(np.min)"
   ]
  },
  {
   "cell_type": "code",
   "execution_count": null,
   "metadata": {
    "colab": {},
    "colab_type": "code",
    "id": "8rqlrwvntHB7"
   },
   "outputs": [],
   "source": [
    "# ===ASIDE"
   ]
  },
  {
   "cell_type": "code",
   "execution_count": null,
   "metadata": {
    "colab": {},
    "colab_type": "code",
    "id": "TBlLcoBL2vkN"
   },
   "outputs": [],
   "source": [
    "# >, <, <=, >= should have some meaning"
   ]
  },
  {
   "cell_type": "code",
   "execution_count": null,
   "metadata": {
    "colab": {
     "base_uri": "https://localhost:8080/",
     "height": 0
    },
    "colab_type": "code",
    "id": "VTn-ccD2tw7F",
    "outputId": "722d5319-1449-480e-b6ea-7dd64ed9a715"
   },
   "outputs": [],
   "source": [
    "'a' < 'b'"
   ]
  },
  {
   "cell_type": "code",
   "execution_count": null,
   "metadata": {
    "colab": {
     "base_uri": "https://localhost:8080/",
     "height": 0
    },
    "colab_type": "code",
    "id": "vnvRGCBBt3_U",
    "outputId": "3bebd520-25ae-4bf7-f472-1608b9ceb11a"
   },
   "outputs": [],
   "source": [
    "ord('a')"
   ]
  },
  {
   "cell_type": "code",
   "execution_count": null,
   "metadata": {
    "colab": {
     "base_uri": "https://localhost:8080/",
     "height": 0
    },
    "colab_type": "code",
    "id": "TYlve60lt_MU",
    "outputId": "ae52283d-5266-4532-f519-6ae9ad540301"
   },
   "outputs": [],
   "source": [
    "ord('b')"
   ]
  },
  {
   "cell_type": "code",
   "execution_count": null,
   "metadata": {
    "colab": {},
    "colab_type": "code",
    "id": "UwUhoEhPuB7B"
   },
   "outputs": [],
   "source": [
    "ls = ['a', 'b', 'c', 'day', 19]"
   ]
  },
  {
   "cell_type": "code",
   "execution_count": null,
   "metadata": {
    "colab": {},
    "colab_type": "code",
    "id": "53Wu0A_cuK8c"
   },
   "outputs": [],
   "source": [
    "# max(ls)"
   ]
  },
  {
   "cell_type": "code",
   "execution_count": null,
   "metadata": {
    "colab": {
     "base_uri": "https://localhost:8080/",
     "height": 0
    },
    "colab_type": "code",
    "id": "-kZWHONauOsr",
    "outputId": "370325fc-9d28-4af7-9fee-bec382930282"
   },
   "outputs": [],
   "source": [
    "ord('d')"
   ]
  },
  {
   "cell_type": "code",
   "execution_count": null,
   "metadata": {
    "colab": {},
    "colab_type": "code",
    "id": "42UouWY8uSAR"
   },
   "outputs": [],
   "source": [
    "# ===END ASIDE"
   ]
  },
  {
   "cell_type": "code",
   "execution_count": null,
   "metadata": {
    "colab": {
     "base_uri": "https://localhost:8080/",
     "height": 0
    },
    "colab_type": "code",
    "id": "7qEWiYJ6umpZ",
    "outputId": "a46a2b52-6000-4148-b576-36c93e8203fb"
   },
   "outputs": [],
   "source": [
    "players.agg('min')"
   ]
  },
  {
   "cell_type": "code",
   "execution_count": null,
   "metadata": {
    "colab": {
     "base_uri": "https://localhost:8080/",
     "height": 0
    },
    "colab_type": "code",
    "id": "7gMToid8uptJ",
    "outputId": "976b339d-d8fe-4d4c-b6d0-fa1ddc159c75"
   },
   "outputs": [],
   "source": [
    "players.select_dtypes(np.number).agg('min')"
   ]
  },
  {
   "cell_type": "code",
   "execution_count": null,
   "metadata": {
    "colab": {
     "base_uri": "https://localhost:8080/",
     "height": 0
    },
    "colab_type": "code",
    "id": "FSIzoa4-uzGJ",
    "outputId": "3ce65b65-d62e-49da-aad5-a48add5a575f"
   },
   "outputs": [],
   "source": [
    "players.select_dtypes(np.number).agg(['min', 'max', 'mean'])"
   ]
  },
  {
   "cell_type": "markdown",
   "metadata": {
    "colab_type": "text",
    "id": "dyZKu1gEu62k"
   },
   "source": [
    "#### Same-shape Transforms"
   ]
  },
  {
   "cell_type": "code",
   "execution_count": null,
   "metadata": {
    "colab": {
     "base_uri": "https://localhost:8080/",
     "height": 0
    },
    "colab_type": "code",
    "id": "OD9QFGUtv9ge",
    "outputId": "03c64724-5ca3-47a0-ac4e-21eb7fce9f8b"
   },
   "outputs": [],
   "source": [
    "players.head(3)"
   ]
  },
  {
   "cell_type": "code",
   "execution_count": null,
   "metadata": {
    "colab": {},
    "colab_type": "code",
    "id": "0zHJMYRAv9UY"
   },
   "outputs": [],
   "source": [
    "# we need an fx rate"
   ]
  },
  {
   "cell_type": "code",
   "execution_count": null,
   "metadata": {
    "colab": {},
    "colab_type": "code",
    "id": "CPxcR8XWv7cO"
   },
   "outputs": [],
   "source": [
    "# usdeur = 0.91"
   ]
  },
  {
   "cell_type": "code",
   "execution_count": null,
   "metadata": {
    "colab": {
     "base_uri": "https://localhost:8080/",
     "height": 0
    },
    "colab_type": "code",
    "id": "wHR1js8Z1NCe",
    "outputId": "08b578b4-b195-40be-9090-f6f10cfce1de"
   },
   "outputs": [],
   "source": [
    "players.loc[:, ['market_value', 'fpl_value']]"
   ]
  },
  {
   "cell_type": "code",
   "execution_count": null,
   "metadata": {
    "colab": {
     "base_uri": "https://localhost:8080/",
     "height": 0
    },
    "colab_type": "code",
    "id": "cO3raj_I1TcR",
    "outputId": "515843c1-9ea3-4fcb-c8c3-121bb3d36a13"
   },
   "outputs": [],
   "source": [
    "players.loc[:, ['market_value', 'fpl_value']].transform(lambda x: x * 0.91)"
   ]
  },
  {
   "cell_type": "code",
   "execution_count": null,
   "metadata": {
    "colab": {
     "base_uri": "https://localhost:8080/",
     "height": 0
    },
    "colab_type": "code",
    "id": "lJLC8xWA1m7S",
    "outputId": "9f8352d6-4cc9-47df-bf5f-9bac82906dc1"
   },
   "outputs": [],
   "source": [
    "players.loc[:, ['market_value', 'fpl_value']] * 0.91"
   ]
  },
  {
   "cell_type": "code",
   "execution_count": null,
   "metadata": {
    "colab": {},
    "colab_type": "code",
    "id": "BCbB612C1tZr"
   },
   "outputs": [],
   "source": [
    "# ===ASIDE"
   ]
  },
  {
   "cell_type": "code",
   "execution_count": null,
   "metadata": {
    "colab": {},
    "colab_type": "code",
    "id": "kbKUv0os19OW"
   },
   "outputs": [],
   "source": [
    "# 1. choice"
   ]
  },
  {
   "cell_type": "code",
   "execution_count": null,
   "metadata": {
    "colab": {},
    "colab_type": "code",
    "id": "2WEWfmf8191e"
   },
   "outputs": [],
   "source": [
    "from random import choice"
   ]
  },
  {
   "cell_type": "code",
   "execution_count": null,
   "metadata": {
    "colab": {},
    "colab_type": "code",
    "id": "xFpgWhSs2And"
   },
   "outputs": [],
   "source": [
    "names = ['Bud', 'Brooke', 'Paleo']"
   ]
  },
  {
   "cell_type": "code",
   "execution_count": null,
   "metadata": {
    "colab": {
     "base_uri": "https://localhost:8080/",
     "height": 0
    },
    "colab_type": "code",
    "id": "qvKLgPot2E6_",
    "outputId": "e96c8fbb-159f-4c35-a95b-336f80947c55"
   },
   "outputs": [],
   "source": [
    "choice(names)"
   ]
  },
  {
   "cell_type": "code",
   "execution_count": null,
   "metadata": {
    "colab": {},
    "colab_type": "code",
    "id": "kSl2_pKh2GJ3"
   },
   "outputs": [],
   "source": [
    "# 2. str methods"
   ]
  },
  {
   "cell_type": "code",
   "execution_count": null,
   "metadata": {
    "colab": {
     "base_uri": "https://localhost:8080/",
     "height": 0
    },
    "colab_type": "code",
    "id": "Gw6wMX6L2Rq3",
    "outputId": "2994a5e4-913d-40f5-b618-a1b9b1c0fb62"
   },
   "outputs": [],
   "source": [
    "'Andy'.upper()"
   ]
  },
  {
   "cell_type": "code",
   "execution_count": null,
   "metadata": {
    "colab": {},
    "colab_type": "code",
    "id": "BFa0v-jt2SzO"
   },
   "outputs": [],
   "source": [
    "ser = pd.Series(['Bud CriMSon', 'Brooke', 'Paleo'])"
   ]
  },
  {
   "cell_type": "code",
   "execution_count": null,
   "metadata": {
    "colab": {
     "base_uri": "https://localhost:8080/",
     "height": 0
    },
    "colab_type": "code",
    "id": "ohcT87dL2Wjs",
    "outputId": "eb410c80-c5ee-4e32-e7db-0c0b0289a8e1"
   },
   "outputs": [],
   "source": [
    "ser.str.upper()"
   ]
  },
  {
   "cell_type": "code",
   "execution_count": null,
   "metadata": {
    "colab": {
     "base_uri": "https://localhost:8080/",
     "height": 0
    },
    "colab_type": "code",
    "id": "d5Rl6sOc2cYx",
    "outputId": "5bf74ace-6a63-49bc-cfb3-dea475da4cc7"
   },
   "outputs": [],
   "source": [
    "ser.str.title()"
   ]
  },
  {
   "cell_type": "code",
   "execution_count": null,
   "metadata": {
    "colab": {
     "base_uri": "https://localhost:8080/",
     "height": 0
    },
    "colab_type": "code",
    "id": "Wt9ywHjc2lzD",
    "outputId": "60572227-a7de-470c-866e-f13adf03103c"
   },
   "outputs": [],
   "source": [
    "ser.str.swapcase()"
   ]
  },
  {
   "cell_type": "code",
   "execution_count": null,
   "metadata": {
    "colab": {},
    "colab_type": "code",
    "id": "v0LuGdMB2sPK"
   },
   "outputs": [],
   "source": [
    "# ===END ASIDE"
   ]
  },
  {
   "cell_type": "code",
   "execution_count": null,
   "metadata": {
    "colab": {},
    "colab_type": "code",
    "id": "-3_uzRgY2vXl"
   },
   "outputs": [],
   "source": [
    "# the function should:\n",
    "# - apply a random string capitalization method\n",
    "# - to a sequence of values, and\n",
    "# - return the transformed sequence"
   ]
  },
  {
   "cell_type": "code",
   "execution_count": 44,
   "metadata": {
    "colab": {},
    "colab_type": "code",
    "id": "F61OqT-l28FV"
   },
   "outputs": [],
   "source": [
    "def random_case(x):\n",
    "  funcs = [x.str.swapcase, x.str.lower, x.str.title, x.str.upper]\n",
    "\n",
    "  return choice(funcs)()"
   ]
  },
  {
   "cell_type": "code",
   "execution_count": 45,
   "metadata": {
    "colab": {
     "base_uri": "https://localhost:8080/",
     "height": 0
    },
    "colab_type": "code",
    "id": "Auky1TE72--l",
    "outputId": "62d1b70d-24f0-4cbb-b764-3aa79eed6dfe"
   },
   "outputs": [
    {
     "ename": "ValueError",
     "evalue": "Transform function failed",
     "output_type": "error",
     "traceback": [
      "\u001b[1;31m---------------------------------------------------------------------------\u001b[0m",
      "\u001b[1;31mNameError\u001b[0m                                 Traceback (most recent call last)",
      "File \u001b[1;32m~\\anaconda3\\Lib\\site-packages\\pandas\\core\\apply.py:299\u001b[0m, in \u001b[0;36mApply.transform_str_or_callable\u001b[1;34m(self, func)\u001b[0m\n\u001b[0;32m    298\u001b[0m \u001b[38;5;28;01mtry\u001b[39;00m:\n\u001b[1;32m--> 299\u001b[0m     \u001b[38;5;28;01mreturn\u001b[39;00m obj\u001b[38;5;241m.\u001b[39mapply(func, args\u001b[38;5;241m=\u001b[39margs, \u001b[38;5;241m*\u001b[39m\u001b[38;5;241m*\u001b[39mkwargs)\n\u001b[0;32m    300\u001b[0m \u001b[38;5;28;01mexcept\u001b[39;00m \u001b[38;5;167;01mException\u001b[39;00m:\n",
      "File \u001b[1;32m~\\anaconda3\\Lib\\site-packages\\pandas\\core\\frame.py:10034\u001b[0m, in \u001b[0;36mDataFrame.apply\u001b[1;34m(self, func, axis, raw, result_type, args, by_row, **kwargs)\u001b[0m\n\u001b[0;32m  10024\u001b[0m op \u001b[38;5;241m=\u001b[39m frame_apply(\n\u001b[0;32m  10025\u001b[0m     \u001b[38;5;28mself\u001b[39m,\n\u001b[0;32m  10026\u001b[0m     func\u001b[38;5;241m=\u001b[39mfunc,\n\u001b[1;32m   (...)\u001b[0m\n\u001b[0;32m  10032\u001b[0m     kwargs\u001b[38;5;241m=\u001b[39mkwargs,\n\u001b[0;32m  10033\u001b[0m )\n\u001b[1;32m> 10034\u001b[0m \u001b[38;5;28;01mreturn\u001b[39;00m op\u001b[38;5;241m.\u001b[39mapply()\u001b[38;5;241m.\u001b[39m__finalize__(\u001b[38;5;28mself\u001b[39m, method\u001b[38;5;241m=\u001b[39m\u001b[38;5;124m\"\u001b[39m\u001b[38;5;124mapply\u001b[39m\u001b[38;5;124m\"\u001b[39m)\n",
      "File \u001b[1;32m~\\anaconda3\\Lib\\site-packages\\pandas\\core\\apply.py:837\u001b[0m, in \u001b[0;36mFrameApply.apply\u001b[1;34m(self)\u001b[0m\n\u001b[0;32m    835\u001b[0m     \u001b[38;5;28;01mreturn\u001b[39;00m \u001b[38;5;28mself\u001b[39m\u001b[38;5;241m.\u001b[39mapply_raw()\n\u001b[1;32m--> 837\u001b[0m \u001b[38;5;28;01mreturn\u001b[39;00m \u001b[38;5;28mself\u001b[39m\u001b[38;5;241m.\u001b[39mapply_standard()\n",
      "File \u001b[1;32m~\\anaconda3\\Lib\\site-packages\\pandas\\core\\apply.py:965\u001b[0m, in \u001b[0;36mFrameApply.apply_standard\u001b[1;34m(self)\u001b[0m\n\u001b[0;32m    964\u001b[0m \u001b[38;5;28;01mdef\u001b[39;00m \u001b[38;5;21mapply_standard\u001b[39m(\u001b[38;5;28mself\u001b[39m):\n\u001b[1;32m--> 965\u001b[0m     results, res_index \u001b[38;5;241m=\u001b[39m \u001b[38;5;28mself\u001b[39m\u001b[38;5;241m.\u001b[39mapply_series_generator()\n\u001b[0;32m    967\u001b[0m     \u001b[38;5;66;03m# wrap results\u001b[39;00m\n",
      "File \u001b[1;32m~\\anaconda3\\Lib\\site-packages\\pandas\\core\\apply.py:981\u001b[0m, in \u001b[0;36mFrameApply.apply_series_generator\u001b[1;34m(self)\u001b[0m\n\u001b[0;32m    979\u001b[0m \u001b[38;5;28;01mfor\u001b[39;00m i, v \u001b[38;5;129;01min\u001b[39;00m \u001b[38;5;28menumerate\u001b[39m(series_gen):\n\u001b[0;32m    980\u001b[0m     \u001b[38;5;66;03m# ignore SettingWithCopy here in case the user mutates\u001b[39;00m\n\u001b[1;32m--> 981\u001b[0m     results[i] \u001b[38;5;241m=\u001b[39m \u001b[38;5;28mself\u001b[39m\u001b[38;5;241m.\u001b[39mfunc(v, \u001b[38;5;241m*\u001b[39m\u001b[38;5;28mself\u001b[39m\u001b[38;5;241m.\u001b[39margs, \u001b[38;5;241m*\u001b[39m\u001b[38;5;241m*\u001b[39m\u001b[38;5;28mself\u001b[39m\u001b[38;5;241m.\u001b[39mkwargs)\n\u001b[0;32m    982\u001b[0m     \u001b[38;5;28;01mif\u001b[39;00m \u001b[38;5;28misinstance\u001b[39m(results[i], ABCSeries):\n\u001b[0;32m    983\u001b[0m         \u001b[38;5;66;03m# If we have a view on v, we need to make a copy because\u001b[39;00m\n\u001b[0;32m    984\u001b[0m         \u001b[38;5;66;03m#  series_generator will swap out the underlying data\u001b[39;00m\n",
      "Cell \u001b[1;32mIn[44], line 4\u001b[0m, in \u001b[0;36mrandom_case\u001b[1;34m(x)\u001b[0m\n\u001b[0;32m      2\u001b[0m funcs \u001b[38;5;241m=\u001b[39m [x\u001b[38;5;241m.\u001b[39mstr\u001b[38;5;241m.\u001b[39mswapcase, x\u001b[38;5;241m.\u001b[39mstr\u001b[38;5;241m.\u001b[39mlower, x\u001b[38;5;241m.\u001b[39mstr\u001b[38;5;241m.\u001b[39mtitle, x\u001b[38;5;241m.\u001b[39mstr\u001b[38;5;241m.\u001b[39mupper]\n\u001b[1;32m----> 4\u001b[0m \u001b[38;5;28;01mreturn\u001b[39;00m choice(funcs)()\n",
      "\u001b[1;31mNameError\u001b[0m: name 'choice' is not defined",
      "\nDuring handling of the above exception, another exception occurred:\n",
      "\u001b[1;31mAttributeError\u001b[0m                            Traceback (most recent call last)",
      "\u001b[1;32m~\\anaconda3\\Lib\\site-packages\\pandas\\core\\apply.py\u001b[0m in \u001b[0;36m?\u001b[1;34m(self)\u001b[0m\n\u001b[0;32m    233\u001b[0m             \u001b[1;32mraise\u001b[0m\u001b[1;33m\u001b[0m\u001b[1;33m\u001b[0m\u001b[0m\n\u001b[0;32m    234\u001b[0m         \u001b[1;32mexcept\u001b[0m \u001b[0mException\u001b[0m \u001b[1;32mas\u001b[0m \u001b[0merr\u001b[0m\u001b[1;33m:\u001b[0m\u001b[1;33m\u001b[0m\u001b[1;33m\u001b[0m\u001b[0m\n\u001b[1;32m--> 235\u001b[1;33m             \u001b[1;32mraise\u001b[0m \u001b[0mValueError\u001b[0m\u001b[1;33m(\u001b[0m\u001b[1;34m\"Transform function failed\"\u001b[0m\u001b[1;33m)\u001b[0m \u001b[1;32mfrom\u001b[0m \u001b[0merr\u001b[0m\u001b[1;33m\u001b[0m\u001b[1;33m\u001b[0m\u001b[0m\n\u001b[0m\u001b[0;32m    236\u001b[0m \u001b[1;33m\u001b[0m\u001b[0m\n",
      "\u001b[1;32m~\\anaconda3\\Lib\\site-packages\\pandas\\core\\apply.py\u001b[0m in \u001b[0;36m?\u001b[1;34m(self, func)\u001b[0m\n\u001b[0;32m    299\u001b[0m             \u001b[1;32mreturn\u001b[0m \u001b[0mobj\u001b[0m\u001b[1;33m.\u001b[0m\u001b[0mapply\u001b[0m\u001b[1;33m(\u001b[0m\u001b[0mfunc\u001b[0m\u001b[1;33m,\u001b[0m \u001b[0margs\u001b[0m\u001b[1;33m=\u001b[0m\u001b[0margs\u001b[0m\u001b[1;33m,\u001b[0m \u001b[1;33m**\u001b[0m\u001b[0mkwargs\u001b[0m\u001b[1;33m)\u001b[0m\u001b[1;33m\u001b[0m\u001b[1;33m\u001b[0m\u001b[0m\n\u001b[0;32m    300\u001b[0m         \u001b[1;32mexcept\u001b[0m \u001b[0mException\u001b[0m\u001b[1;33m:\u001b[0m\u001b[1;33m\u001b[0m\u001b[1;33m\u001b[0m\u001b[0m\n\u001b[1;32m--> 301\u001b[1;33m             \u001b[1;32mreturn\u001b[0m \u001b[0mfunc\u001b[0m\u001b[1;33m(\u001b[0m\u001b[0mobj\u001b[0m\u001b[1;33m,\u001b[0m \u001b[1;33m*\u001b[0m\u001b[0margs\u001b[0m\u001b[1;33m,\u001b[0m \u001b[1;33m**\u001b[0m\u001b[0mkwargs\u001b[0m\u001b[1;33m)\u001b[0m\u001b[1;33m\u001b[0m\u001b[1;33m\u001b[0m\u001b[0m\n\u001b[0m",
      "\u001b[1;32m~\\AppData\\Local\\Temp\\ipykernel_14968\\1900302674.py\u001b[0m in \u001b[0;36m?\u001b[1;34m(x)\u001b[0m\n\u001b[0;32m      1\u001b[0m \u001b[1;32mdef\u001b[0m \u001b[0mrandom_case\u001b[0m\u001b[1;33m(\u001b[0m\u001b[0mx\u001b[0m\u001b[1;33m)\u001b[0m\u001b[1;33m:\u001b[0m\u001b[1;33m\u001b[0m\u001b[1;33m\u001b[0m\u001b[0m\n\u001b[1;32m----> 2\u001b[1;33m   \u001b[0mfuncs\u001b[0m \u001b[1;33m=\u001b[0m \u001b[1;33m[\u001b[0m\u001b[0mx\u001b[0m\u001b[1;33m.\u001b[0m\u001b[0mstr\u001b[0m\u001b[1;33m.\u001b[0m\u001b[0mswapcase\u001b[0m\u001b[1;33m,\u001b[0m \u001b[0mx\u001b[0m\u001b[1;33m.\u001b[0m\u001b[0mstr\u001b[0m\u001b[1;33m.\u001b[0m\u001b[0mlower\u001b[0m\u001b[1;33m,\u001b[0m \u001b[0mx\u001b[0m\u001b[1;33m.\u001b[0m\u001b[0mstr\u001b[0m\u001b[1;33m.\u001b[0m\u001b[0mtitle\u001b[0m\u001b[1;33m,\u001b[0m \u001b[0mx\u001b[0m\u001b[1;33m.\u001b[0m\u001b[0mstr\u001b[0m\u001b[1;33m.\u001b[0m\u001b[0mupper\u001b[0m\u001b[1;33m]\u001b[0m\u001b[1;33m\u001b[0m\u001b[1;33m\u001b[0m\u001b[0m\n\u001b[0m\u001b[0;32m      3\u001b[0m \u001b[1;33m\u001b[0m\u001b[0m\n",
      "\u001b[1;32m~\\anaconda3\\Lib\\site-packages\\pandas\\core\\generic.py\u001b[0m in \u001b[0;36m?\u001b[1;34m(self, name)\u001b[0m\n\u001b[0;32m   6202\u001b[0m         ):\n\u001b[0;32m   6203\u001b[0m             \u001b[1;32mreturn\u001b[0m \u001b[0mself\u001b[0m\u001b[1;33m[\u001b[0m\u001b[0mname\u001b[0m\u001b[1;33m]\u001b[0m\u001b[1;33m\u001b[0m\u001b[1;33m\u001b[0m\u001b[0m\n\u001b[1;32m-> 6204\u001b[1;33m         \u001b[1;32mreturn\u001b[0m \u001b[0mobject\u001b[0m\u001b[1;33m.\u001b[0m\u001b[0m__getattribute__\u001b[0m\u001b[1;33m(\u001b[0m\u001b[0mself\u001b[0m\u001b[1;33m,\u001b[0m \u001b[0mname\u001b[0m\u001b[1;33m)\u001b[0m\u001b[1;33m\u001b[0m\u001b[1;33m\u001b[0m\u001b[0m\n\u001b[0m",
      "\u001b[1;31mAttributeError\u001b[0m: 'DataFrame' object has no attribute 'str'",
      "\nThe above exception was the direct cause of the following exception:\n",
      "\u001b[1;31mValueError\u001b[0m                                Traceback (most recent call last)",
      "Cell \u001b[1;32mIn[45], line 2\u001b[0m\n\u001b[0;32m      1\u001b[0m \u001b[38;5;28;01mfor\u001b[39;00m i \u001b[38;5;129;01min\u001b[39;00m \u001b[38;5;28mrange\u001b[39m(\u001b[38;5;241m4\u001b[39m):\n\u001b[1;32m----> 2\u001b[0m   \u001b[38;5;28mprint\u001b[39m(players\u001b[38;5;241m.\u001b[39mselect_dtypes(include\u001b[38;5;241m=\u001b[39m\u001b[38;5;28mobject\u001b[39m)\u001b[38;5;241m.\u001b[39mtransform(random_case)\u001b[38;5;241m.\u001b[39mhead())\n",
      "File \u001b[1;32m~\\anaconda3\\Lib\\site-packages\\pandas\\core\\frame.py:9860\u001b[0m, in \u001b[0;36mDataFrame.transform\u001b[1;34m(self, func, axis, *args, **kwargs)\u001b[0m\n\u001b[0;32m   9857\u001b[0m \u001b[38;5;28;01mfrom\u001b[39;00m \u001b[38;5;21;01mpandas\u001b[39;00m\u001b[38;5;21;01m.\u001b[39;00m\u001b[38;5;21;01mcore\u001b[39;00m\u001b[38;5;21;01m.\u001b[39;00m\u001b[38;5;21;01mapply\u001b[39;00m \u001b[38;5;28;01mimport\u001b[39;00m frame_apply\n\u001b[0;32m   9859\u001b[0m op \u001b[38;5;241m=\u001b[39m frame_apply(\u001b[38;5;28mself\u001b[39m, func\u001b[38;5;241m=\u001b[39mfunc, axis\u001b[38;5;241m=\u001b[39maxis, args\u001b[38;5;241m=\u001b[39margs, kwargs\u001b[38;5;241m=\u001b[39mkwargs)\n\u001b[1;32m-> 9860\u001b[0m result \u001b[38;5;241m=\u001b[39m op\u001b[38;5;241m.\u001b[39mtransform()\n\u001b[0;32m   9861\u001b[0m \u001b[38;5;28;01massert\u001b[39;00m \u001b[38;5;28misinstance\u001b[39m(result, DataFrame)\n\u001b[0;32m   9862\u001b[0m \u001b[38;5;28;01mreturn\u001b[39;00m result\n",
      "File \u001b[1;32m~\\anaconda3\\Lib\\site-packages\\pandas\\core\\apply.py:235\u001b[0m, in \u001b[0;36mApply.transform\u001b[1;34m(self)\u001b[0m\n\u001b[0;32m    233\u001b[0m     \u001b[38;5;28;01mraise\u001b[39;00m\n\u001b[0;32m    234\u001b[0m \u001b[38;5;28;01mexcept\u001b[39;00m \u001b[38;5;167;01mException\u001b[39;00m \u001b[38;5;28;01mas\u001b[39;00m err:\n\u001b[1;32m--> 235\u001b[0m     \u001b[38;5;28;01mraise\u001b[39;00m \u001b[38;5;167;01mValueError\u001b[39;00m(\u001b[38;5;124m\"\u001b[39m\u001b[38;5;124mTransform function failed\u001b[39m\u001b[38;5;124m\"\u001b[39m) \u001b[38;5;28;01mfrom\u001b[39;00m \u001b[38;5;21;01merr\u001b[39;00m\n\u001b[0;32m    237\u001b[0m \u001b[38;5;66;03m# Functions that transform may return empty Series/DataFrame\u001b[39;00m\n\u001b[0;32m    238\u001b[0m \u001b[38;5;66;03m# when the dtype is not appropriate\u001b[39;00m\n\u001b[0;32m    239\u001b[0m \u001b[38;5;28;01mif\u001b[39;00m (\n\u001b[0;32m    240\u001b[0m     \u001b[38;5;28misinstance\u001b[39m(result, (ABCSeries, ABCDataFrame))\n\u001b[0;32m    241\u001b[0m     \u001b[38;5;129;01mand\u001b[39;00m result\u001b[38;5;241m.\u001b[39mempty\n\u001b[0;32m    242\u001b[0m     \u001b[38;5;129;01mand\u001b[39;00m \u001b[38;5;129;01mnot\u001b[39;00m obj\u001b[38;5;241m.\u001b[39mempty\n\u001b[0;32m    243\u001b[0m ):\n",
      "\u001b[1;31mValueError\u001b[0m: Transform function failed"
     ]
    }
   ],
   "source": [
    "for i in range(4):\n",
    "  print(players.select_dtypes(include=object).transform(random_case).head())"
   ]
  },
  {
   "cell_type": "markdown",
   "metadata": {
    "colab_type": "text",
    "id": "GLYhDNtR3IZx"
   },
   "source": [
    "#### More Flexibility With apply()"
   ]
  },
  {
   "cell_type": "code",
   "execution_count": null,
   "metadata": {
    "colab": {
     "base_uri": "https://localhost:8080/",
     "height": 0
    },
    "colab_type": "code",
    "id": "EaXyfeGyDFao",
    "outputId": "fec00786-5e78-43da-9192-a35418dea6b6"
   },
   "outputs": [],
   "source": [
    "players.head()"
   ]
  },
  {
   "cell_type": "code",
   "execution_count": null,
   "metadata": {
    "colab": {},
    "colab_type": "code",
    "id": "CyFhrwr_DFUN"
   },
   "outputs": [],
   "source": [
    "def round_floats(x):\n",
    "  if x.dtype == np.float64:\n",
    "    return round(x)\n",
    "\n",
    "  return x"
   ]
  },
  {
   "cell_type": "code",
   "execution_count": null,
   "metadata": {
    "colab": {
     "base_uri": "https://localhost:8080/",
     "height": 0
    },
    "colab_type": "code",
    "id": "UtAyz_pdDFN1",
    "outputId": "aab8579d-64c3-44e3-dc74-3785688d79b3"
   },
   "outputs": [],
   "source": [
    "players.apply(round_floats)"
   ]
  },
  {
   "cell_type": "code",
   "execution_count": null,
   "metadata": {
    "colab": {
     "base_uri": "https://localhost:8080/",
     "height": 0
    },
    "colab_type": "code",
    "id": "hFgq7O2MC4gj",
    "outputId": "5df43cc4-f38e-4ad1-b6be-7dace710c63a"
   },
   "outputs": [],
   "source": [
    "players.select_dtypes(np.float64).head()"
   ]
  },
  {
   "cell_type": "code",
   "execution_count": null,
   "metadata": {
    "colab": {
     "base_uri": "https://localhost:8080/",
     "height": 0
    },
    "colab_type": "code",
    "id": "dexAWUaMC4b8",
    "outputId": "66d64b70-f687-4cbf-e078-cd03fff24a5c"
   },
   "outputs": [],
   "source": [
    "players.select_dtypes(np.float64).apply(round_floats).head()"
   ]
  },
  {
   "cell_type": "code",
   "execution_count": null,
   "metadata": {
    "colab": {},
    "colab_type": "code",
    "id": "ykJuDzsLCqnd"
   },
   "outputs": [],
   "source": [
    "# apply() = agg() + transfroms()"
   ]
  },
  {
   "cell_type": "code",
   "execution_count": null,
   "metadata": {
    "colab": {},
    "colab_type": "code",
    "id": "rpoeayfkCa41"
   },
   "outputs": [],
   "source": [
    "# apply as aggregate"
   ]
  },
  {
   "cell_type": "code",
   "execution_count": null,
   "metadata": {
    "colab": {
     "base_uri": "https://localhost:8080/",
     "height": 0
    },
    "colab_type": "code",
    "id": "rbdgMZO2EF-A",
    "outputId": "66d119ba-0d50-4c4d-e589-56a17720398d"
   },
   "outputs": [],
   "source": [
    "players.agg('mean')"
   ]
  },
  {
   "cell_type": "code",
   "execution_count": null,
   "metadata": {
    "colab": {
     "base_uri": "https://localhost:8080/",
     "height": 0
    },
    "colab_type": "code",
    "id": "PmbomnnqEJ-Z",
    "outputId": "ad032011-0cfd-41ac-8e57-6821566e312f"
   },
   "outputs": [],
   "source": [
    "players.apply('mean')"
   ]
  },
  {
   "cell_type": "code",
   "execution_count": null,
   "metadata": {
    "colab": {},
    "colab_type": "code",
    "id": "IVyKwtAkENQj"
   },
   "outputs": [],
   "source": [
    "# players.transform('mean')"
   ]
  },
  {
   "cell_type": "code",
   "execution_count": null,
   "metadata": {
    "colab": {},
    "colab_type": "code",
    "id": "A0zLC-yHERwj"
   },
   "outputs": [],
   "source": [
    "# flipping the axis param"
   ]
  },
  {
   "cell_type": "code",
   "execution_count": null,
   "metadata": {
    "colab": {
     "base_uri": "https://localhost:8080/",
     "height": 0
    },
    "colab_type": "code",
    "id": "3qJZf3ZNEne-",
    "outputId": "52c50ad8-751d-4343-82ab-29583e480fce"
   },
   "outputs": [],
   "source": [
    "players.apply('mean', axis=0)"
   ]
  },
  {
   "cell_type": "code",
   "execution_count": null,
   "metadata": {
    "colab": {
     "base_uri": "https://localhost:8080/",
     "height": 0
    },
    "colab_type": "code",
    "id": "qjUiS_poEz94",
    "outputId": "79352ff9-1a67-4e73-d3f2-5ed0ecbeabe0"
   },
   "outputs": [],
   "source": [
    "players.age.mean()"
   ]
  },
  {
   "cell_type": "code",
   "execution_count": null,
   "metadata": {
    "colab": {
     "base_uri": "https://localhost:8080/",
     "height": 0
    },
    "colab_type": "code",
    "id": "Wzg_YVvhE6uf",
    "outputId": "9f997302-854a-4009-aba6-a13ac54e1b3f"
   },
   "outputs": [],
   "source": [
    "players.apply('mean', axis=1)"
   ]
  },
  {
   "cell_type": "code",
   "execution_count": null,
   "metadata": {
    "colab": {},
    "colab_type": "code",
    "id": "n6-wfxiKE-aY"
   },
   "outputs": [],
   "source": [
    "# players.loc[460, :].mean()"
   ]
  },
  {
   "cell_type": "code",
   "execution_count": null,
   "metadata": {
    "colab": {
     "base_uri": "https://localhost:8080/",
     "height": 0
    },
    "colab_type": "code",
    "id": "vG27oukNFN-O",
    "outputId": "f7240bc5-4edc-4476-b4c2-d02923504704"
   },
   "outputs": [],
   "source": [
    "players.loc[460, [dtype != object for dtype in players.dtypes]].mean()"
   ]
  },
  {
   "cell_type": "markdown",
   "metadata": {
    "colab_type": "text",
    "id": "I9nuD-iOFaYe"
   },
   "source": [
    "#### Element-wise Operations With applymap()"
   ]
  },
  {
   "cell_type": "code",
   "execution_count": null,
   "metadata": {
    "colab": {},
    "colab_type": "code",
    "id": "AmTYuLzpSSdL"
   },
   "outputs": [],
   "source": [
    "# vectorized ops: agg(), transform(), apply()"
   ]
  },
  {
   "cell_type": "code",
   "execution_count": null,
   "metadata": {
    "colab": {},
    "colab_type": "code",
    "id": "JZJ0hZbgSSYS"
   },
   "outputs": [],
   "source": [
    "# non-vectorized: applymap()"
   ]
  },
  {
   "cell_type": "code",
   "execution_count": null,
   "metadata": {
    "colab": {
     "base_uri": "https://localhost:8080/",
     "height": 0
    },
    "colab_type": "code",
    "id": "Sl_iShuCSRJB",
    "outputId": "2142287a-bc0d-43c8-e73f-e8ea02b09b84"
   },
   "outputs": [],
   "source": [
    "players.head()"
   ]
  },
  {
   "cell_type": "code",
   "execution_count": null,
   "metadata": {
    "colab": {},
    "colab_type": "code",
    "id": "9lOYpeShSRF3"
   },
   "outputs": [],
   "source": [
    "# ~2%/year"
   ]
  },
  {
   "cell_type": "code",
   "execution_count": null,
   "metadata": {
    "colab": {},
    "colab_type": "code",
    "id": "yQTfovXDSRBI"
   },
   "outputs": [],
   "source": [
    "inflation = 1.02"
   ]
  },
  {
   "cell_type": "code",
   "execution_count": null,
   "metadata": {
    "colab": {},
    "colab_type": "code",
    "id": "xvXD0T6wM_sM"
   },
   "outputs": [],
   "source": [
    "mini_df = players.loc[:, ['market_value', 'fpl_value']]"
   ]
  },
  {
   "cell_type": "code",
   "execution_count": null,
   "metadata": {
    "colab": {
     "base_uri": "https://localhost:8080/",
     "height": 0
    },
    "colab_type": "code",
    "id": "rFcLYIJiTdFW",
    "outputId": "69050e48-37b8-42fa-a987-5aebee875ff1"
   },
   "outputs": [],
   "source": [
    "mini_df * inflation"
   ]
  },
  {
   "cell_type": "code",
   "execution_count": null,
   "metadata": {
    "colab": {},
    "colab_type": "code",
    "id": "b51WkgZRTjry"
   },
   "outputs": [],
   "source": [
    "from datetime import datetime\n",
    "counter = 0\n",
    "\n",
    "def log_and_transform(x):\n",
    "  global counter\n",
    "  counter += 1\n",
    "  if counter % 100 == 0:\n",
    "    print(f\"It's {datetime.now()} and I just adjusted the {counter}th value.\")\n",
    "    # print(\"It's {} and I just adjusted the {}th value.\".format(datetime.now(), counter))\n",
    "  \n",
    "  return x * inflation"
   ]
  },
  {
   "cell_type": "code",
   "execution_count": null,
   "metadata": {
    "colab": {
     "base_uri": "https://localhost:8080/",
     "height": 0
    },
    "colab_type": "code",
    "id": "6vq0hCxaUGC3",
    "outputId": "132671e4-5d69-4887-cca2-c2d4dcc1f645"
   },
   "outputs": [],
   "source": [
    "import sys\n",
    "sys.version"
   ]
  },
  {
   "cell_type": "code",
   "execution_count": null,
   "metadata": {
    "colab": {
     "base_uri": "https://localhost:8080/",
     "height": 0
    },
    "colab_type": "code",
    "id": "OBY3UxfdUtUQ",
    "outputId": "217f8740-798e-49d6-b32f-604e1d3abc5a"
   },
   "outputs": [],
   "source": [
    "mini_df.apply(log_and_transform)"
   ]
  },
  {
   "cell_type": "code",
   "execution_count": null,
   "metadata": {
    "colab": {
     "base_uri": "https://localhost:8080/",
     "height": 0
    },
    "colab_type": "code",
    "id": "YE7e2kwWUNdj",
    "outputId": "04dcfd9c-71e7-4ae1-a554-6db49bb61ff0"
   },
   "outputs": [],
   "source": [
    "mini_df.applymap(log_and_transform)"
   ]
  },
  {
   "cell_type": "markdown",
   "metadata": {
    "colab_type": "text",
    "id": "sb26RS0MUdTt"
   },
   "source": [
    "#### Skill Challenge"
   ]
  },
  {
   "cell_type": "markdown",
   "metadata": {
    "colab_type": "text",
    "id": "JH1kLfCZYWbc"
   },
   "source": [
    "###### **1.**"
   ]
  },
  {
   "cell_type": "markdown",
   "metadata": {
    "colab_type": "text",
    "id": "5T-_6XE7YZS1"
   },
   "source": [
    "Create a standalone function that\n",
    "- accepts a single parameter x\n",
    "- returns the string 'relatively unknown' if x is less than 220\n",
    "- 'kind of popular' if x is between 220 and 600 (non-inclusive)\n",
    "- 'popular' if x is between 600 and 2000 (non-inclusive)\n",
    "- 'super-popular' otherwise\n",
    "\n",
    "| lower bound | upper bound (non-inclusive) | popularity label     |\n",
    "|-------------|-----------------------------|----------------------|\n",
    "| -inf        | 220                         | 'relatively unknown' |\n",
    "| 220         | 600                         | 'kind of popular'    |\n",
    "| 600         | 2000                        | 'popular'            |\n",
    "| 2000        | +inf                        | 'super-popular'      |"
   ]
  },
  {
   "cell_type": "markdown",
   "metadata": {
    "colab_type": "text",
    "id": "UZnm1N83Y7az"
   },
   "source": [
    "###### **2.**"
   ]
  },
  {
   "cell_type": "markdown",
   "metadata": {
    "colab_type": "text",
    "id": "V6bYNVSjZADb"
   },
   "source": [
    "Apply the function from the step above to the players _page_views_ column. Use a method that supports vectorized operations."
   ]
  },
  {
   "cell_type": "markdown",
   "metadata": {
    "colab_type": "text",
    "id": "l29zzjPkZJmi"
   },
   "source": [
    "###### **3.**"
   ]
  },
  {
   "cell_type": "markdown",
   "metadata": {
    "colab_type": "text",
    "id": "O2eSwrtuZLra"
   },
   "source": [
    "Add the output from the step above as a new column to the _players_ dataframe. Name the column _popularity_."
   ]
  },
  {
   "cell_type": "markdown",
   "metadata": {
    "colab_type": "text",
    "id": "L_ScHwz6ZXaA"
   },
   "source": [
    "###### **4.**"
   ]
  },
  {
   "cell_type": "markdown",
   "metadata": {
    "colab_type": "text",
    "id": "qdux3p3hZabX"
   },
   "source": [
    "How many \"super-popular\" players are there?"
   ]
  },
  {
   "cell_type": "markdown",
   "metadata": {
    "colab_type": "text",
    "id": "CCc2JyZ1aB2-"
   },
   "source": [
    "#### Solution"
   ]
  },
  {
   "cell_type": "code",
   "execution_count": null,
   "metadata": {
    "colab": {},
    "colab_type": "code",
    "id": "wi9TeHaOaE5m"
   },
   "outputs": [],
   "source": [
    "# 1"
   ]
  },
  {
   "cell_type": "code",
   "execution_count": null,
   "metadata": {
    "colab": {},
    "colab_type": "code",
    "id": "4Zku9yHyaGoT"
   },
   "outputs": [],
   "source": [
    "def get_popularity(x):\n",
    "  if x < 220:\n",
    "    return 'relatively unknown'\n",
    "  elif x < 600:\n",
    "    return 'kind of popular'\n",
    "  elif x < 2000:\n",
    "    return 'popular'\n",
    "  else:\n",
    "    return 'super-popular'"
   ]
  },
  {
   "cell_type": "code",
   "execution_count": null,
   "metadata": {
    "colab": {
     "base_uri": "https://localhost:8080/",
     "height": 0
    },
    "colab_type": "code",
    "id": "A-z8mKozaGsQ",
    "outputId": "11f287cb-77b6-489e-8887-851bbb526ef3"
   },
   "outputs": [],
   "source": [
    "get_popularity(1)"
   ]
  },
  {
   "cell_type": "code",
   "execution_count": null,
   "metadata": {
    "colab": {
     "base_uri": "https://localhost:8080/",
     "height": 0
    },
    "colab_type": "code",
    "id": "6FRn5dLAaGwo",
    "outputId": "f4c1c390-5bc4-42ef-ffc8-b2fe576c710c"
   },
   "outputs": [],
   "source": [
    "get_popularity(1000)"
   ]
  },
  {
   "cell_type": "code",
   "execution_count": null,
   "metadata": {
    "colab": {
     "base_uri": "https://localhost:8080/",
     "height": 0
    },
    "colab_type": "code",
    "id": "3g3_sihtcrEd",
    "outputId": "b544681a-2d06-4739-e749-1e5eb39c5398"
   },
   "outputs": [],
   "source": [
    "get_popularity(10000)"
   ]
  },
  {
   "cell_type": "code",
   "execution_count": null,
   "metadata": {
    "colab": {},
    "colab_type": "code",
    "id": "mOdiXcjKct9r"
   },
   "outputs": [],
   "source": [
    "# 2"
   ]
  },
  {
   "cell_type": "code",
   "execution_count": null,
   "metadata": {
    "colab": {
     "base_uri": "https://localhost:8080/",
     "height": 0
    },
    "colab_type": "code",
    "id": "1tO9-zyxc70p",
    "outputId": "568e0600-fc81-42c5-f5b4-69ee96b185b6"
   },
   "outputs": [],
   "source": [
    "players.page_views.head()"
   ]
  },
  {
   "cell_type": "code",
   "execution_count": null,
   "metadata": {
    "colab": {
     "base_uri": "https://localhost:8080/",
     "height": 0
    },
    "colab_type": "code",
    "id": "t9l7nrGncvIj",
    "outputId": "42645118-8e1e-4467-c0a2-a3274811854a"
   },
   "outputs": [],
   "source": [
    "players.page_views.apply(get_popularity)"
   ]
  },
  {
   "cell_type": "code",
   "execution_count": null,
   "metadata": {
    "colab": {},
    "colab_type": "code",
    "id": "0n78alG_c1ha"
   },
   "outputs": [],
   "source": [
    "# 3"
   ]
  },
  {
   "cell_type": "code",
   "execution_count": null,
   "metadata": {
    "colab": {},
    "colab_type": "code",
    "id": "4sbzwGpbdCwv"
   },
   "outputs": [],
   "source": [
    "players['popularity'] = players.page_views.apply(get_popularity)"
   ]
  },
  {
   "cell_type": "code",
   "execution_count": null,
   "metadata": {
    "colab": {
     "base_uri": "https://localhost:8080/",
     "height": 0
    },
    "colab_type": "code",
    "id": "82xX60HEdFt3",
    "outputId": "73369385-5ead-497a-8072-57cd54f2e408"
   },
   "outputs": [],
   "source": [
    "players.popularity"
   ]
  },
  {
   "cell_type": "code",
   "execution_count": null,
   "metadata": {
    "colab": {},
    "colab_type": "code",
    "id": "IxV-wjtNdHtd"
   },
   "outputs": [],
   "source": [
    "# 4"
   ]
  },
  {
   "cell_type": "code",
   "execution_count": null,
   "metadata": {
    "colab": {
     "base_uri": "https://localhost:8080/",
     "height": 0
    },
    "colab_type": "code",
    "id": "-vqyll6FdLR7",
    "outputId": "79e1f9fc-f2e0-40e5-9662-ce3d871c51ed"
   },
   "outputs": [],
   "source": [
    "players.popularity.value_counts()"
   ]
  },
  {
   "cell_type": "code",
   "execution_count": null,
   "metadata": {
    "colab": {
     "base_uri": "https://localhost:8080/",
     "height": 0
    },
    "colab_type": "code",
    "id": "gzMaRmsgdMaj",
    "outputId": "64cb2e9d-f062-43b6-f32f-371ddd9ac1a4"
   },
   "outputs": [],
   "source": [
    "players[players.popularity == 'super-popular'].name.size"
   ]
  },
  {
   "cell_type": "markdown",
   "metadata": {
    "colab_type": "text",
    "id": "xTu7NVjxdUbH"
   },
   "source": [
    "#### Setting DataFrame Values"
   ]
  },
  {
   "cell_type": "code",
   "execution_count": null,
   "metadata": {
    "colab": {
     "base_uri": "https://localhost:8080/",
     "height": 0
    },
    "colab_type": "code",
    "id": "ESIzTVY_eX0H",
    "outputId": "611e9bae-920e-40b5-f77e-c44125de921a"
   },
   "outputs": [],
   "source": [
    "players.head(10)"
   ]
  },
  {
   "cell_type": "code",
   "execution_count": null,
   "metadata": {
    "colab": {
     "base_uri": "https://localhost:8080/",
     "height": 0
    },
    "colab_type": "code",
    "id": "hjuY6XS8eXtc",
    "outputId": "f3c44a98-8023-48c6-def0-3503d86195a9"
   },
   "outputs": [],
   "source": [
    "%%timeit\n",
    "players.loc[3, 'position'] = 'CM'"
   ]
  },
  {
   "cell_type": "code",
   "execution_count": null,
   "metadata": {
    "colab": {
     "base_uri": "https://localhost:8080/",
     "height": 0
    },
    "colab_type": "code",
    "id": "9FUFjVMLvVZX",
    "outputId": "72ad09b2-01e5-4825-94cb-ffc98e1fa105"
   },
   "outputs": [],
   "source": [
    "355/5.73"
   ]
  },
  {
   "cell_type": "code",
   "execution_count": null,
   "metadata": {
    "colab": {
     "base_uri": "https://localhost:8080/",
     "height": 0
    },
    "colab_type": "code",
    "id": "6my25rWkeVhm",
    "outputId": "8276bfbd-ddcf-4561-9622-80605689308e"
   },
   "outputs": [],
   "source": [
    "players.head()"
   ]
  },
  {
   "cell_type": "code",
   "execution_count": null,
   "metadata": {
    "colab": {
     "base_uri": "https://localhost:8080/",
     "height": 0
    },
    "colab_type": "code",
    "id": "UzJcFvSwuic5",
    "outputId": "0e4bce22-a7d4-40d7-8cf6-8f90a4bd4387"
   },
   "outputs": [],
   "source": [
    "%%timeit\n",
    "players.iloc[3, 3] = 'RW'"
   ]
  },
  {
   "cell_type": "code",
   "execution_count": null,
   "metadata": {
    "colab": {},
    "colab_type": "code",
    "id": "ZA3gmHwPupWU"
   },
   "outputs": [],
   "source": [
    "# at[] and iat[] should be preferred for single value assignment"
   ]
  },
  {
   "cell_type": "code",
   "execution_count": null,
   "metadata": {
    "colab": {
     "base_uri": "https://localhost:8080/",
     "height": 0
    },
    "colab_type": "code",
    "id": "Ifl3gwxeu042",
    "outputId": "353ac3c2-e835-4c6b-f636-5b61a824fef6"
   },
   "outputs": [],
   "source": [
    "%%timeit\n",
    "players.at[3, 'position'] = 'CM'"
   ]
  },
  {
   "cell_type": "code",
   "execution_count": null,
   "metadata": {
    "colab": {
     "base_uri": "https://localhost:8080/",
     "height": 0
    },
    "colab_type": "code",
    "id": "BAslFhgju68P",
    "outputId": "904fb13f-7d3b-416d-d674-307ec3f4e630"
   },
   "outputs": [],
   "source": [
    "players.head()"
   ]
  },
  {
   "cell_type": "code",
   "execution_count": null,
   "metadata": {
    "colab": {
     "base_uri": "https://localhost:8080/",
     "height": 0
    },
    "colab_type": "code",
    "id": "FbCNeDvWu9I7",
    "outputId": "16516f49-d704-448f-920c-a29f2c96a9cd"
   },
   "outputs": [],
   "source": [
    "%%timeit\n",
    "players.iat[3, 3] = 'RW'"
   ]
  },
  {
   "cell_type": "markdown",
   "metadata": {
    "colab_type": "text",
    "id": "MEX_rRtKvB0P"
   },
   "source": [
    "#### The SettingWithCopy Warning"
   ]
  },
  {
   "cell_type": "code",
   "execution_count": null,
   "metadata": {
    "colab": {
     "base_uri": "https://localhost:8080/",
     "height": 0
    },
    "colab_type": "code",
    "id": "bOfds_LOwL1P",
    "outputId": "7b5907da-eefc-4b92-8038-0a012859bb94"
   },
   "outputs": [],
   "source": [
    "players.head()"
   ]
  },
  {
   "cell_type": "code",
   "execution_count": null,
   "metadata": {
    "colab": {
     "base_uri": "https://localhost:8080/",
     "height": 0
    },
    "colab_type": "code",
    "id": "TWoXtOc3y5oJ",
    "outputId": "ae0d57c9-d054-4b6b-c7d0-5f5a0c536a6b"
   },
   "outputs": [],
   "source": [
    "players['page_views'][2] = 2001"
   ]
  },
  {
   "cell_type": "code",
   "execution_count": null,
   "metadata": {
    "colab": {
     "base_uri": "https://localhost:8080/",
     "height": 0
    },
    "colab_type": "code",
    "id": "QzkpGsOTzwqV",
    "outputId": "94ac752c-f8be-4519-f31c-f5ce9cd98a91"
   },
   "outputs": [],
   "source": [
    "players.head()"
   ]
  },
  {
   "cell_type": "code",
   "execution_count": null,
   "metadata": {
    "colab": {
     "base_uri": "https://localhost:8080/",
     "height": 0
    },
    "colab_type": "code",
    "id": "zDss_Fr10TJF",
    "outputId": "0c4c46e5-357b-4ecc-a9a6-5c4eb5350807"
   },
   "outputs": [],
   "source": [
    "players.drop_duplicates()['page_views'][2] = 3000"
   ]
  },
  {
   "cell_type": "code",
   "execution_count": null,
   "metadata": {
    "colab": {
     "base_uri": "https://localhost:8080/",
     "height": 0
    },
    "colab_type": "code",
    "id": "e9_RkYLo0cZW",
    "outputId": "aef099fa-ee5d-4bcd-f050-340b3e44e4b4"
   },
   "outputs": [],
   "source": [
    "players.head()"
   ]
  },
  {
   "cell_type": "code",
   "execution_count": null,
   "metadata": {
    "colab": {},
    "colab_type": "code",
    "id": "gY3Z2HTU0tuz"
   },
   "outputs": [],
   "source": [
    "pd.options.mode.chained_assignment = 'warn' "
   ]
  },
  {
   "cell_type": "code",
   "execution_count": null,
   "metadata": {
    "colab": {},
    "colab_type": "code",
    "id": "9LhrTjJq03rF"
   },
   "outputs": [],
   "source": [
    "# 'None' -> turns the SettingWithCopyWarning off"
   ]
  },
  {
   "cell_type": "markdown",
   "metadata": {
    "colab_type": "text",
    "id": "xHxftePf7K2O"
   },
   "source": [
    "#### View vs Copy"
   ]
  },
  {
   "cell_type": "code",
   "execution_count": null,
   "metadata": {
    "colab": {
     "base_uri": "https://localhost:8080/",
     "height": 0
    },
    "colab_type": "code",
    "id": "jsQni6UP8exW",
    "outputId": "cdcc6676-24ab-4900-d3c0-18a50f11510c"
   },
   "outputs": [],
   "source": [
    "players.head()"
   ]
  },
  {
   "cell_type": "code",
   "execution_count": null,
   "metadata": {
    "colab": {},
    "colab_type": "code",
    "id": "fNqCRZaA8U1l"
   },
   "outputs": [],
   "source": [
    "players.loc[0:3, 'position'] = ['CM', 'RW', 'CB', 'GK']"
   ]
  },
  {
   "cell_type": "code",
   "execution_count": null,
   "metadata": {
    "colab": {
     "base_uri": "https://localhost:8080/",
     "height": 0
    },
    "colab_type": "code",
    "id": "y703piwp8U4t",
    "outputId": "e86b2477-38a5-4b9e-a6e9-f8bb55cbe21d"
   },
   "outputs": [],
   "source": [
    "players.head()"
   ]
  },
  {
   "cell_type": "code",
   "execution_count": null,
   "metadata": {
    "colab": {},
    "colab_type": "code",
    "id": "4DwvhK29AlcL"
   },
   "outputs": [],
   "source": [
    "# Aaron -> nickname"
   ]
  },
  {
   "cell_type": "code",
   "execution_count": null,
   "metadata": {
    "colab": {
     "base_uri": "https://localhost:8080/",
     "height": 0
    },
    "colab_type": "code",
    "id": "KlKZsobUAr8M",
    "outputId": "52d404c9-ec04-47c6-d33e-3346bd910641"
   },
   "outputs": [],
   "source": [
    "players.loc[players.name.str.startswith('Aaron')]"
   ]
  },
  {
   "cell_type": "code",
   "execution_count": null,
   "metadata": {
    "colab": {},
    "colab_type": "code",
    "id": "SN9npw-ZAylb"
   },
   "outputs": [],
   "source": [
    "players.loc[players.name.str.startswith('Aaron'), 'name'] = 'Ronny'"
   ]
  },
  {
   "cell_type": "code",
   "execution_count": null,
   "metadata": {
    "colab": {
     "base_uri": "https://localhost:8080/",
     "height": 0
    },
    "colab_type": "code",
    "id": "Nn3K6sBHA5r0",
    "outputId": "604bb1f7-f587-45ba-ca90-fd99c42d4ec6"
   },
   "outputs": [],
   "source": [
    "players.loc[[15, 157, 176, 455]]"
   ]
  },
  {
   "cell_type": "code",
   "execution_count": null,
   "metadata": {
    "colab": {},
    "colab_type": "code",
    "id": "Ld9Yx0i8BBic"
   },
   "outputs": [],
   "source": [
    "# do not do this!"
   ]
  },
  {
   "cell_type": "code",
   "execution_count": null,
   "metadata": {
    "colab": {
     "base_uri": "https://localhost:8080/",
     "height": 0
    },
    "colab_type": "code",
    "id": "Ot8ZERCkBP5N",
    "outputId": "09d460fa-c19d-40e3-e401-bc3b735b9358"
   },
   "outputs": [],
   "source": [
    "players['age'].iloc[1] = '12'"
   ]
  },
  {
   "cell_type": "code",
   "execution_count": null,
   "metadata": {
    "colab": {
     "base_uri": "https://localhost:8080/",
     "height": 0
    },
    "colab_type": "code",
    "id": "1bjV1R4TBUe_",
    "outputId": "f3ba7aa0-3444-45fa-9149-6a1f8c0d89cf"
   },
   "outputs": [],
   "source": [
    "players.drop_duplicates().loc[3, 'position'] = 'CM'"
   ]
  },
  {
   "cell_type": "markdown",
   "metadata": {
    "colab_type": "text",
    "id": "oUlREYcsBYKl"
   },
   "source": [
    "#### Adding DataFrame Columns"
   ]
  },
  {
   "cell_type": "code",
   "execution_count": null,
   "metadata": {
    "colab": {
     "base_uri": "https://localhost:8080/",
     "height": 0
    },
    "colab_type": "code",
    "id": "nY3l-Q_AGOgh",
    "outputId": "92476645-9d7c-4bdf-ae0d-2828dce433d5"
   },
   "outputs": [],
   "source": [
    "players.popularity"
   ]
  },
  {
   "cell_type": "code",
   "execution_count": null,
   "metadata": {
    "colab": {
     "base_uri": "https://localhost:8080/",
     "height": 0
    },
    "colab_type": "code",
    "id": "xLNkGdebGOb6",
    "outputId": "7c62643f-aada-4e6e-8ff3-24f1afd0bdd7"
   },
   "outputs": [],
   "source": [
    "'MVtoFPL' in players"
   ]
  },
  {
   "cell_type": "code",
   "execution_count": null,
   "metadata": {
    "colab": {
     "base_uri": "https://localhost:8080/",
     "height": 0
    },
    "colab_type": "code",
    "id": "c7qzA677GOXz",
    "outputId": "6baba06a-56ca-49b9-8fa9-c7d16d5d1474"
   },
   "outputs": [],
   "source": [
    "'popularity' in players"
   ]
  },
  {
   "cell_type": "code",
   "execution_count": null,
   "metadata": {
    "colab": {},
    "colab_type": "code",
    "id": "S9jf7tk6GOTZ"
   },
   "outputs": [],
   "source": [
    "players['MVtoFPL'] = 1.0"
   ]
  },
  {
   "cell_type": "code",
   "execution_count": null,
   "metadata": {
    "colab": {
     "base_uri": "https://localhost:8080/",
     "height": 0
    },
    "colab_type": "code",
    "id": "Cu132QGRGq3C",
    "outputId": "a665baae-da8b-49b3-fac5-1e57ec0c4e28"
   },
   "outputs": [],
   "source": [
    "'MVtoFPL' in players"
   ]
  },
  {
   "cell_type": "code",
   "execution_count": null,
   "metadata": {
    "colab": {
     "base_uri": "https://localhost:8080/",
     "height": 0
    },
    "colab_type": "code",
    "id": "lZeeayHUGOPM",
    "outputId": "30ab2e6e-b22a-4044-a7ef-fb66f62bf97b"
   },
   "outputs": [],
   "source": [
    "players.head()"
   ]
  },
  {
   "cell_type": "code",
   "execution_count": null,
   "metadata": {
    "colab": {},
    "colab_type": "code",
    "id": "yOb8uL8KCMPO"
   },
   "outputs": [],
   "source": [
    "players['MVtoFPL'] = players['market_value'] / players['fpl_value']"
   ]
  },
  {
   "cell_type": "code",
   "execution_count": null,
   "metadata": {
    "colab": {
     "base_uri": "https://localhost:8080/",
     "height": 0
    },
    "colab_type": "code",
    "id": "RVYNiOoqCMTq",
    "outputId": "c44c625c-917d-47ce-8630-8a44143461b0"
   },
   "outputs": [],
   "source": [
    "players.head()"
   ]
  },
  {
   "cell_type": "code",
   "execution_count": null,
   "metadata": {
    "colab": {},
    "colab_type": "code",
    "id": "I_eCifKaG4N4"
   },
   "outputs": [],
   "source": [
    "df_mini = players.iloc[:4, 1:5]"
   ]
  },
  {
   "cell_type": "code",
   "execution_count": null,
   "metadata": {
    "colab": {
     "base_uri": "https://localhost:8080/",
     "height": 0
    },
    "colab_type": "code",
    "id": "kgBuTYsOHD6O",
    "outputId": "2f3c4667-2ae0-4611-cbb8-51419c8cf34c"
   },
   "outputs": [],
   "source": [
    "df_mini"
   ]
  },
  {
   "cell_type": "code",
   "execution_count": null,
   "metadata": {
    "colab": {},
    "colab_type": "code",
    "id": "nBMci9ndHFk8"
   },
   "outputs": [],
   "source": [
    "player_names = pd.Series(['Bronson', 'Bradley', 'Ronald', 'Ronny'])"
   ]
  },
  {
   "cell_type": "code",
   "execution_count": null,
   "metadata": {
    "colab": {
     "base_uri": "https://localhost:8080/",
     "height": 0
    },
    "colab_type": "code",
    "id": "TUGg4iI_HRI0",
    "outputId": "f2653257-4a13-497c-9a2e-3538bcc1746b"
   },
   "outputs": [],
   "source": [
    "player_names"
   ]
  },
  {
   "cell_type": "code",
   "execution_count": null,
   "metadata": {
    "colab": {},
    "colab_type": "code",
    "id": "XJSY50dyHSMn"
   },
   "outputs": [],
   "source": [
    "df_mini.insert(0, 'nicknames', player_names)"
   ]
  },
  {
   "cell_type": "code",
   "execution_count": null,
   "metadata": {
    "colab": {
     "base_uri": "https://localhost:8080/",
     "height": 0
    },
    "colab_type": "code",
    "id": "8QmHXbefHWp5",
    "outputId": "6c79cb08-fe5d-4676-8086-eec1f2c14199"
   },
   "outputs": [],
   "source": [
    "df_mini"
   ]
  },
  {
   "cell_type": "code",
   "execution_count": null,
   "metadata": {
    "colab": {},
    "colab_type": "code",
    "id": "ZxnnHS4QHYFv"
   },
   "outputs": [],
   "source": [
    "# the assign() approach"
   ]
  },
  {
   "cell_type": "code",
   "execution_count": null,
   "metadata": {
    "colab": {
     "base_uri": "https://localhost:8080/",
     "height": 0
    },
    "colab_type": "code",
    "id": "N93j9ABbHqcJ",
    "outputId": "18c3aa6e-a65f-4871-8180-72b5e2a38061"
   },
   "outputs": [],
   "source": [
    "df_mini.assign(career_goals=[12 ,67, 179, 49], nationality=['American', 'British', 'Turkish', 'Indian'])"
   ]
  },
  {
   "cell_type": "code",
   "execution_count": null,
   "metadata": {
    "colab": {
     "base_uri": "https://localhost:8080/",
     "height": 0
    },
    "colab_type": "code",
    "id": "LP-sPJcOHvDV",
    "outputId": "6234c2e4-3852-47d3-9275-fe3faac87bad"
   },
   "outputs": [],
   "source": [
    "df_mini"
   ]
  },
  {
   "cell_type": "markdown",
   "metadata": {
    "colab_type": "text",
    "id": "ZkpeiZBhH-Sk"
   },
   "source": [
    "#### Adding Rows To DataFrames"
   ]
  },
  {
   "cell_type": "code",
   "execution_count": null,
   "metadata": {
    "colab": {
     "base_uri": "https://localhost:8080/",
     "height": 0
    },
    "colab_type": "code",
    "id": "BY0cRzJisGx_",
    "outputId": "df1fc0d9-2e18-410d-e4cf-d15be930be49"
   },
   "outputs": [],
   "source": [
    "df_mini"
   ]
  },
  {
   "cell_type": "code",
   "execution_count": null,
   "metadata": {
    "colab": {},
    "colab_type": "code",
    "id": "c2Qmgvkw0_8U"
   },
   "outputs": [],
   "source": [
    "# the append() method -> series, dfs, or a collection of them"
   ]
  },
  {
   "cell_type": "code",
   "execution_count": null,
   "metadata": {
    "colab": {},
    "colab_type": "code",
    "id": "oK8hQ-_V1Pdz"
   },
   "outputs": [],
   "source": [
    "cristiano = pd.Series({\n",
    "    'nicknames': 'Cristiano',\n",
    "    'age': 32,\n",
    "    'position': 'RW',\n",
    "    'club': 'Juventus',\n",
    "    'position_cat': 1\n",
    "}, name=4)"
   ]
  },
  {
   "cell_type": "code",
   "execution_count": null,
   "metadata": {
    "colab": {
     "base_uri": "https://localhost:8080/",
     "height": 0
    },
    "colab_type": "code",
    "id": "Wig2Soyj1bPC",
    "outputId": "93333df0-c27c-41d4-daf9-5c4c5acd9a80"
   },
   "outputs": [],
   "source": [
    "cristiano"
   ]
  },
  {
   "cell_type": "code",
   "execution_count": null,
   "metadata": {
    "colab": {},
    "colab_type": "code",
    "id": "ai2wP4Ng1chO"
   },
   "outputs": [],
   "source": [
    "df_mini = df_mini.append(cristiano)"
   ]
  },
  {
   "cell_type": "code",
   "execution_count": null,
   "metadata": {
    "colab": {},
    "colab_type": "code",
    "id": "BT13fVRX1gLK"
   },
   "outputs": [],
   "source": [
    "# df_mini.append([player_1, player_2, player_3...])"
   ]
  },
  {
   "cell_type": "code",
   "execution_count": null,
   "metadata": {
    "colab": {},
    "colab_type": "code",
    "id": "ZtjZxQDU1v0X"
   },
   "outputs": [],
   "source": [
    "other_players = pd.DataFrame({\n",
    "    'nicknames': ['Gianluigi', 'Lionel'],\n",
    "    'age': [37, 32],\n",
    "    'club': ['Juventus', 'Barcelona'],\n",
    "    'position': ['GK', 'CF'],\n",
    "    'position_cat': [4,2]\n",
    "}, index=[5,6])"
   ]
  },
  {
   "cell_type": "code",
   "execution_count": null,
   "metadata": {
    "colab": {
     "base_uri": "https://localhost:8080/",
     "height": 0
    },
    "colab_type": "code",
    "id": "TKGlbXtF2GHV",
    "outputId": "6968e8d6-ae78-42c2-d347-b606e459b94c"
   },
   "outputs": [],
   "source": [
    "other_players"
   ]
  },
  {
   "cell_type": "code",
   "execution_count": null,
   "metadata": {
    "colab": {},
    "colab_type": "code",
    "id": "stZWFvh_2Hm6"
   },
   "outputs": [],
   "source": [
    "df_mini = df_mini.append(other_players)"
   ]
  },
  {
   "cell_type": "code",
   "execution_count": null,
   "metadata": {
    "colab": {},
    "colab_type": "code",
    "id": "539YDWTC2MDj"
   },
   "outputs": [],
   "source": [
    "# setting with enlargement"
   ]
  },
  {
   "cell_type": "code",
   "execution_count": null,
   "metadata": {
    "colab": {},
    "colab_type": "code",
    "id": "SMpo1jDy2XPK"
   },
   "outputs": [],
   "source": [
    "# df['inexistent label'] = 'some value'"
   ]
  },
  {
   "cell_type": "code",
   "execution_count": null,
   "metadata": {
    "colab": {
     "base_uri": "https://localhost:8080/",
     "height": 0
    },
    "colab_type": "code",
    "id": "W-NS5mGJ2ZtZ",
    "outputId": "9dba4f53-e71e-4687-9b44-6dab3011f6b0"
   },
   "outputs": [],
   "source": [
    "df_mini"
   ]
  },
  {
   "cell_type": "code",
   "execution_count": null,
   "metadata": {
    "colab": {},
    "colab_type": "code",
    "id": "8rPFVGsS2e9R"
   },
   "outputs": [],
   "source": [
    "df_mini.loc[9] = 'some row value'"
   ]
  },
  {
   "cell_type": "code",
   "execution_count": null,
   "metadata": {
    "colab": {
     "base_uri": "https://localhost:8080/",
     "height": 0
    },
    "colab_type": "code",
    "id": "vGy8pa3d2wFO",
    "outputId": "8334c463-edf6-49e6-c215-307f288b713d"
   },
   "outputs": [],
   "source": [
    "df_mini"
   ]
  },
  {
   "cell_type": "code",
   "execution_count": null,
   "metadata": {
    "colab": {},
    "colab_type": "code",
    "id": "TBE8l8GM217V"
   },
   "outputs": [],
   "source": [
    "# adding rows to dataframes is inefficient (a very expensive operation)"
   ]
  },
  {
   "cell_type": "markdown",
   "metadata": {
    "colab_type": "text",
    "id": "vpETibo_3PL9"
   },
   "source": [
    "#### BONUS - How Are DataFrames Stored In Memory"
   ]
  },
  {
   "cell_type": "code",
   "execution_count": null,
   "metadata": {
    "colab": {
     "base_uri": "https://localhost:8080/",
     "height": 0
    },
    "colab_type": "code",
    "id": "tkflyaVm4P-9",
    "outputId": "b562d3b0-bd89-4d56-a56a-9d69a6550fd9"
   },
   "outputs": [],
   "source": [
    "players.info(verbose=False)"
   ]
  },
  {
   "cell_type": "code",
   "execution_count": null,
   "metadata": {
    "colab": {
     "base_uri": "https://localhost:8080/",
     "height": 0
    },
    "colab_type": "code",
    "id": "-eQDkxgl4kPb",
    "outputId": "147f7fec-bd7a-47c4-a81f-a93681081f8d"
   },
   "outputs": [],
   "source": [
    "players.head()"
   ]
  },
  {
   "cell_type": "markdown",
   "metadata": {
    "colab_type": "text",
    "id": "hdq1pv1C-V37"
   },
   "source": [
    "#### Skill Challenge"
   ]
  },
  {
   "cell_type": "markdown",
   "metadata": {
    "colab_type": "text",
    "id": "-IHFMkZoCIKQ"
   },
   "source": [
    "###### **1.**"
   ]
  },
  {
   "cell_type": "markdown",
   "metadata": {
    "colab_type": "text",
    "id": "wLCUECLPCIYU"
   },
   "source": [
    "From the _players_ dataframe select 4 columns and 4 rows, of no particular order. Assign the resulting 4x4 dataframe to _df_random_."
   ]
  },
  {
   "cell_type": "markdown",
   "metadata": {
    "colab_type": "text",
    "id": "fCLTW8DYCsA3"
   },
   "source": [
    "###### **2**."
   ]
  },
  {
   "cell_type": "markdown",
   "metadata": {
    "colab_type": "text",
    "id": "DMVNDAquCtFc"
   },
   "source": [
    "Extend _df_random_ **1**) vertically by adding a new row, and **2**) horizontally by adding a new column. Do this as two separate operations."
   ]
  },
  {
   "cell_type": "markdown",
   "metadata": {
    "colab_type": "text",
    "id": "2zy50yneDPEg"
   },
   "source": [
    "###### **3.**"
   ]
  },
  {
   "cell_type": "markdown",
   "metadata": {
    "colab_type": "text",
    "id": "IlxlB4YdDRLj"
   },
   "source": [
    "Compare the relative performance of the operations above. Is adding a row or column faster? Is there a significant difference?"
   ]
  },
  {
   "cell_type": "markdown",
   "metadata": {
    "colab_type": "text",
    "id": "GYvUBtgdCtIr"
   },
   "source": [
    "#### Solution"
   ]
  },
  {
   "cell_type": "code",
   "execution_count": null,
   "metadata": {
    "colab": {},
    "colab_type": "code",
    "id": "kzeDCkDuEfJQ"
   },
   "outputs": [],
   "source": [
    "# 1"
   ]
  },
  {
   "cell_type": "code",
   "execution_count": null,
   "metadata": {
    "colab": {
     "base_uri": "https://localhost:8080/",
     "height": 313
    },
    "colab_type": "code",
    "id": "qjrQbjZdIUKZ",
    "outputId": "3d2ebc3f-d7a9-47ce-d825-c2e813ff65e7"
   },
   "outputs": [],
   "source": [
    "players.head()"
   ]
  },
  {
   "cell_type": "code",
   "execution_count": null,
   "metadata": {
    "colab": {
     "base_uri": "https://localhost:8080/",
     "height": 175
    },
    "colab_type": "code",
    "id": "25vDIDq_Ifug",
    "outputId": "75ac95bb-060a-4f08-c12d-f8b69a398382"
   },
   "outputs": [],
   "source": [
    "players.loc[0:3, 'name':'position']"
   ]
  },
  {
   "cell_type": "code",
   "execution_count": null,
   "metadata": {
    "colab": {},
    "colab_type": "code",
    "id": "Id6r8xApIjxa"
   },
   "outputs": [],
   "source": [
    "df_random = players.sample(4).sample(4, axis=1)"
   ]
  },
  {
   "cell_type": "code",
   "execution_count": null,
   "metadata": {
    "colab": {
     "base_uri": "https://localhost:8080/",
     "height": 175
    },
    "colab_type": "code",
    "id": "7Sq0aAD-IpB3",
    "outputId": "a93b5c33-4ced-41dc-b219-84f3cd42d7d7"
   },
   "outputs": [],
   "source": [
    "df_random"
   ]
  },
  {
   "cell_type": "code",
   "execution_count": null,
   "metadata": {
    "colab": {},
    "colab_type": "code",
    "id": "V7rd6QGkIwFB"
   },
   "outputs": [],
   "source": [
    "# 2"
   ]
  },
  {
   "cell_type": "code",
   "execution_count": null,
   "metadata": {
    "colab": {
     "base_uri": "https://localhost:8080/",
     "height": 175
    },
    "colab_type": "code",
    "id": "H1DIdn4mI6NJ",
    "outputId": "1ee3235b-5186-45db-f6a0-3bc21e24a255"
   },
   "outputs": [],
   "source": [
    "df_random"
   ]
  },
  {
   "cell_type": "code",
   "execution_count": null,
   "metadata": {
    "colab": {},
    "colab_type": "code",
    "id": "dv-50RdzIxcm"
   },
   "outputs": [],
   "source": [
    "# adding a row"
   ]
  },
  {
   "cell_type": "code",
   "execution_count": null,
   "metadata": {
    "colab": {
     "base_uri": "https://localhost:8080/",
     "height": 206
    },
    "colab_type": "code",
    "id": "y8M1SIxMI3eT",
    "outputId": "d4dcc53c-bca2-4f91-8f2e-e3c640b9fbff"
   },
   "outputs": [],
   "source": [
    "df_random.append(pd.Series({'nationality': 'Norway', 'age': 24, 'position': 'CM', 'club_id': 20}, name=307))"
   ]
  },
  {
   "cell_type": "code",
   "execution_count": null,
   "metadata": {
    "colab": {},
    "colab_type": "code",
    "id": "Na42scepJHUq"
   },
   "outputs": [],
   "source": [
    "# add a column"
   ]
  },
  {
   "cell_type": "code",
   "execution_count": null,
   "metadata": {
    "colab": {
     "base_uri": "https://localhost:8080/",
     "height": 175
    },
    "colab_type": "code",
    "id": "4uGPQ6s-JJys",
    "outputId": "a449f34c-cacd-4459-bcb3-bd30eceda2d3"
   },
   "outputs": [],
   "source": [
    "df_random.assign(years_in_league=[3, 6, 1, 10])"
   ]
  },
  {
   "cell_type": "code",
   "execution_count": null,
   "metadata": {
    "colab": {},
    "colab_type": "code",
    "id": "57bdjwsUJTtF"
   },
   "outputs": [],
   "source": [
    "# 3"
   ]
  },
  {
   "cell_type": "code",
   "execution_count": null,
   "metadata": {
    "colab": {
     "base_uri": "https://localhost:8080/",
     "height": 34
    },
    "colab_type": "code",
    "id": "fFhrIY9AJd-l",
    "outputId": "988a82ff-91de-42ba-d7c5-4d90d0472dfd"
   },
   "outputs": [],
   "source": [
    "%%timeit\n",
    "df_random.append(pd.Series({'nationality': 'Norway', 'age': 24, 'position': 'CM', 'club_id': 20}, name=307))"
   ]
  },
  {
   "cell_type": "code",
   "execution_count": null,
   "metadata": {
    "colab": {
     "base_uri": "https://localhost:8080/",
     "height": 34
    },
    "colab_type": "code",
    "id": "e-UAPXR_JhPE",
    "outputId": "087acf57-fb84-49b9-dad3-3a2641f473da"
   },
   "outputs": [],
   "source": [
    "%%timeit\n",
    "df_random.assign(years_in_league=[3, 6, 1, 10])"
   ]
  },
  {
   "cell_type": "code",
   "execution_count": null,
   "metadata": {
    "colab": {
     "base_uri": "https://localhost:8080/",
     "height": 34
    },
    "colab_type": "code",
    "id": "cdGR5xsOJm0i",
    "outputId": "5c226a15-7108-491a-a122-4504a15249db"
   },
   "outputs": [],
   "source": [
    "4400/623"
   ]
  },
  {
   "cell_type": "code",
   "execution_count": null,
   "metadata": {
    "colab": {},
    "colab_type": "code",
    "id": "b96KxzdzJstN"
   },
   "outputs": [],
   "source": []
  }
 ],
 "metadata": {
  "colab": {
   "collapsed_sections": [
    "kNS1MVY4UZGb",
    "A-wHK16ahqY2",
    "GzTO9Y3fQ4DF",
    "C7nzP7BQjspS",
    "BHO3p8hesxk3",
    "zK13WRKRMo3F",
    "EevHhOEIuPA8",
    "EAK3ZQ__xo7g",
    "psAdcETH1EHF",
    "fXdfYpRj2qAF",
    "-4YiHimJ_zpx",
    "dBWGsSLiy_4I",
    "FciCOxOT5o0c",
    "la2y75JmG953",
    "vf1oAmZ6JEHe",
    "YuAT5K33NTfj",
    "gn5prJiTRrqm",
    "ZMbH7JDwU37N",
    "ViiO_59qlUXR"
   ],
   "name": "DataFrames In Depth",
   "provenance": []
  },
  "kernelspec": {
   "display_name": "Python 3 (ipykernel)",
   "language": "python",
   "name": "python3"
  },
  "language_info": {
   "codemirror_mode": {
    "name": "ipython",
    "version": 3
   },
   "file_extension": ".py",
   "mimetype": "text/x-python",
   "name": "python",
   "nbconvert_exporter": "python",
   "pygments_lexer": "ipython3",
   "version": "3.11.7"
  }
 },
 "nbformat": 4,
 "nbformat_minor": 4
}
